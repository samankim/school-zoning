{
 "cells": [
  {
   "cell_type": "code",
   "execution_count": 1,
   "metadata": {},
   "outputs": [],
   "source": [
    "import sklearn\n",
    "import pandas as pd\n",
    "import numpy as np\n",
    "import matplotlib.pyplot as plt"
   ]
  },
  {
   "cell_type": "code",
   "execution_count": 2,
   "metadata": {
    "scrolled": true
   },
   "outputs": [],
   "source": [
    "col_names = ['school_name', 'state_name', 'school_id', 'district_id', 'school_level', 'native', 'asian', 'hispanic', 'black', 'white', 'pacisl', 'mixed', 'total_race', 'free_lunch', 'reduced_lunch', 'total', 'st_ratio']\n",
    "missing_values = [\"–\", \"†\", \"‡\"]\n",
    "demos = pd.read_csv(\"demos.csv\", names = col_names, na_values = missing_values, low_memory = False)\n",
    "demos = demos.drop([0]).reset_index(drop=True)\n",
    "\n",
    "demos = demos.loc[demos['school_level'] == '3-High']\n",
    "demos = demos.drop(columns=['school_level'])"
   ]
  },
  {
   "cell_type": "code",
   "execution_count": 3,
   "metadata": {},
   "outputs": [],
   "source": [
    "for i in range(2, len(demos.columns)):\n",
    "    demos.iloc[:, i] = pd.to_numeric(demos.iloc[:, i], errors='coerce')\n",
    "demos.total_race = demos.total_race.astype(float)\n",
    "demos.school_id = demos.school_id.astype(float)\n",
    "demos.district_id = demos.district_id.astype(float)"
   ]
  },
  {
   "cell_type": "code",
   "execution_count": 4,
   "metadata": {
    "scrolled": true
   },
   "outputs": [],
   "source": [
    "for i in range(4, 11):\n",
    "    demos.iloc[:, i] = demos.iloc[:, i]/demos.total_race\n",
    "demos.rename(columns={demos.columns[4]: \"pct_native\", demos.columns[5]: \"pct_asian\", demos.columns[6]: \"pct_hispanic\", demos.columns[7]: \"pct_black\", demos.columns[8]: \"pct_white\", demos.columns[9]: \"pct_pacisl\", demos.columns[10]: \"pct_mixed\"}, inplace = True)\n",
    "\n",
    "for i in range(12, 14):\n",
    "    demos.iloc[:, i] = demos.iloc[:, i]/demos.total\n",
    "demos.rename(columns={demos.columns[12]: \"pct_free_lunch\", demos.columns[13]: \"pct_reduced_lunch\"})\n",
    "\n",
    "demos = demos.drop(columns=['st_ratio'])\n",
    "demos_add = demos.copy()\n",
    "demos_add.to_csv(\"demos_clean.csv\")"
   ]
  },
  {
   "cell_type": "code",
   "execution_count": 5,
   "metadata": {},
   "outputs": [
    {
     "data": {
      "text/html": [
       "<div>\n",
       "<style scoped>\n",
       "    .dataframe tbody tr th:only-of-type {\n",
       "        vertical-align: middle;\n",
       "    }\n",
       "\n",
       "    .dataframe tbody tr th {\n",
       "        vertical-align: top;\n",
       "    }\n",
       "\n",
       "    .dataframe thead th {\n",
       "        text-align: right;\n",
       "    }\n",
       "</style>\n",
       "<table border=\"1\" class=\"dataframe\">\n",
       "  <thead>\n",
       "    <tr style=\"text-align: right;\">\n",
       "      <th></th>\n",
       "      <th>LEAID</th>\n",
       "      <th>NCESSCH</th>\n",
       "      <th>ALL_MTH00PCTPROF_1617</th>\n",
       "      <th>MAM_MTH00PCTPROF_1617</th>\n",
       "      <th>MAS_MTH00PCTPROF_1617</th>\n",
       "      <th>MBL_MTH00PCTPROF_1617</th>\n",
       "      <th>MHI_MTH00PCTPROF_1617</th>\n",
       "      <th>MTR_MTH00PCTPROF_1617</th>\n",
       "      <th>ECD_MTH00PCTPROF_1617</th>\n",
       "      <th>HOM_MTH00PCTPROF_1617</th>\n",
       "      <th>MIG_MTH00PCTPROF_1617</th>\n",
       "    </tr>\n",
       "  </thead>\n",
       "  <tbody>\n",
       "    <tr>\n",
       "      <th>0</th>\n",
       "      <td>100005</td>\n",
       "      <td>1.000050e+10</td>\n",
       "      <td>25</td>\n",
       "      <td>NaN</td>\n",
       "      <td>NaN</td>\n",
       "      <td>21-39</td>\n",
       "      <td>15</td>\n",
       "      <td>21-39</td>\n",
       "      <td>25</td>\n",
       "      <td>LT50</td>\n",
       "      <td>LE10</td>\n",
       "    </tr>\n",
       "    <tr>\n",
       "      <th>1</th>\n",
       "      <td>100005</td>\n",
       "      <td>1.000050e+10</td>\n",
       "      <td>13</td>\n",
       "      <td>NaN</td>\n",
       "      <td>NaN</td>\n",
       "      <td>LT50</td>\n",
       "      <td>LE5</td>\n",
       "      <td>NaN</td>\n",
       "      <td>13</td>\n",
       "      <td>NaN</td>\n",
       "      <td>LE20</td>\n",
       "    </tr>\n",
       "    <tr>\n",
       "      <th>2</th>\n",
       "      <td>100005</td>\n",
       "      <td>1.000050e+10</td>\n",
       "      <td>40</td>\n",
       "      <td>NaN</td>\n",
       "      <td>NaN</td>\n",
       "      <td>21-39</td>\n",
       "      <td>30</td>\n",
       "      <td>21-39</td>\n",
       "      <td>40</td>\n",
       "      <td>LT50</td>\n",
       "      <td>20-29</td>\n",
       "    </tr>\n",
       "    <tr>\n",
       "      <th>3</th>\n",
       "      <td>100005</td>\n",
       "      <td>1.000050e+10</td>\n",
       "      <td>49</td>\n",
       "      <td>NaN</td>\n",
       "      <td>NaN</td>\n",
       "      <td>21-39</td>\n",
       "      <td>40</td>\n",
       "      <td>21-39</td>\n",
       "      <td>49</td>\n",
       "      <td>LT50</td>\n",
       "      <td>20-29</td>\n",
       "    </tr>\n",
       "    <tr>\n",
       "      <th>4</th>\n",
       "      <td>100006</td>\n",
       "      <td>1.000060e+10</td>\n",
       "      <td>46</td>\n",
       "      <td>NaN</td>\n",
       "      <td>NaN</td>\n",
       "      <td>NaN</td>\n",
       "      <td>LT50</td>\n",
       "      <td>LT50</td>\n",
       "      <td>35-39</td>\n",
       "      <td>LT50</td>\n",
       "      <td>NaN</td>\n",
       "    </tr>\n",
       "  </tbody>\n",
       "</table>\n",
       "</div>"
      ],
      "text/plain": [
       "    LEAID       NCESSCH ALL_MTH00PCTPROF_1617 MAM_MTH00PCTPROF_1617  \\\n",
       "0  100005  1.000050e+10                    25                   NaN   \n",
       "1  100005  1.000050e+10                    13                   NaN   \n",
       "2  100005  1.000050e+10                    40                   NaN   \n",
       "3  100005  1.000050e+10                    49                   NaN   \n",
       "4  100006  1.000060e+10                    46                   NaN   \n",
       "\n",
       "  MAS_MTH00PCTPROF_1617 MBL_MTH00PCTPROF_1617 MHI_MTH00PCTPROF_1617  \\\n",
       "0                   NaN                 21-39                    15   \n",
       "1                   NaN                  LT50                   LE5   \n",
       "2                   NaN                 21-39                    30   \n",
       "3                   NaN                 21-39                    40   \n",
       "4                   NaN                   NaN                  LT50   \n",
       "\n",
       "  MTR_MTH00PCTPROF_1617 ECD_MTH00PCTPROF_1617 HOM_MTH00PCTPROF_1617  \\\n",
       "0                 21-39                    25                  LT50   \n",
       "1                   NaN                    13                   NaN   \n",
       "2                 21-39                    40                  LT50   \n",
       "3                 21-39                    49                  LT50   \n",
       "4                  LT50                 35-39                  LT50   \n",
       "\n",
       "  MIG_MTH00PCTPROF_1617  \n",
       "0                  LE10  \n",
       "1                  LE20  \n",
       "2                 20-29  \n",
       "3                 20-29  \n",
       "4                   NaN  "
      ]
     },
     "execution_count": 5,
     "metadata": {},
     "output_type": "execute_result"
    }
   ],
   "source": [
    "fields = ['LEAID', 'ALL_MTH00PCTPROF_1617', 'NCESSCH', 'MAM_MTH00PCTPROF_1617', 'MAS_MTH00PCTPROF_1617', 'MBL_MTH00PCTPROF_1617', 'MHI_MTH00PCTPROF_1617', 'MTR_MTH00PCTPROF_1617', 'ECD_MTH00PCTPROF_1617', 'HOM_MTH00PCTPROF_1617', 'MIG_MTH00PCTPROF_1617']\n",
    "missing_values = [\"PS\"]\n",
    "math_achi = pd.read_csv(\"math_achievement.csv\", usecols = fields, na_values = missing_values, low_memory = False)\n",
    "math_achi.head()"
   ]
  },
  {
   "cell_type": "code",
   "execution_count": 6,
   "metadata": {},
   "outputs": [],
   "source": [
    "math_achi.replace({'GE':'', 'LE':'', 'GT':'', 'LT':''}, inplace = True, regex = True)"
   ]
  },
  {
   "cell_type": "code",
   "execution_count": 7,
   "metadata": {},
   "outputs": [],
   "source": [
    "for k in range(2, len(math_achi.columns)):\n",
    "    math_achi.iloc[:, k] = math_achi.iloc[:, k].str.split('-').str[0]"
   ]
  },
  {
   "cell_type": "code",
   "execution_count": 8,
   "metadata": {},
   "outputs": [
    {
     "data": {
      "text/html": [
       "<div>\n",
       "<style scoped>\n",
       "    .dataframe tbody tr th:only-of-type {\n",
       "        vertical-align: middle;\n",
       "    }\n",
       "\n",
       "    .dataframe tbody tr th {\n",
       "        vertical-align: top;\n",
       "    }\n",
       "\n",
       "    .dataframe thead th {\n",
       "        text-align: right;\n",
       "    }\n",
       "</style>\n",
       "<table border=\"1\" class=\"dataframe\">\n",
       "  <thead>\n",
       "    <tr style=\"text-align: right;\">\n",
       "      <th></th>\n",
       "      <th>LEAID</th>\n",
       "      <th>NCESSCH</th>\n",
       "      <th>ALL_MTH00PCTPROF_1617</th>\n",
       "      <th>MAM_MTH00PCTPROF_1617</th>\n",
       "      <th>MAS_MTH00PCTPROF_1617</th>\n",
       "      <th>MBL_MTH00PCTPROF_1617</th>\n",
       "      <th>MHI_MTH00PCTPROF_1617</th>\n",
       "      <th>MTR_MTH00PCTPROF_1617</th>\n",
       "      <th>ECD_MTH00PCTPROF_1617</th>\n",
       "      <th>HOM_MTH00PCTPROF_1617</th>\n",
       "      <th>MIG_MTH00PCTPROF_1617</th>\n",
       "    </tr>\n",
       "  </thead>\n",
       "  <tbody>\n",
       "    <tr>\n",
       "      <th>0</th>\n",
       "      <td>100005</td>\n",
       "      <td>1.000050e+10</td>\n",
       "      <td>25</td>\n",
       "      <td>NaN</td>\n",
       "      <td>NaN</td>\n",
       "      <td>21</td>\n",
       "      <td>15</td>\n",
       "      <td>21</td>\n",
       "      <td>25</td>\n",
       "      <td>50</td>\n",
       "      <td>10</td>\n",
       "    </tr>\n",
       "    <tr>\n",
       "      <th>1</th>\n",
       "      <td>100005</td>\n",
       "      <td>1.000050e+10</td>\n",
       "      <td>13</td>\n",
       "      <td>NaN</td>\n",
       "      <td>NaN</td>\n",
       "      <td>50</td>\n",
       "      <td>5</td>\n",
       "      <td>NaN</td>\n",
       "      <td>13</td>\n",
       "      <td>NaN</td>\n",
       "      <td>20</td>\n",
       "    </tr>\n",
       "    <tr>\n",
       "      <th>2</th>\n",
       "      <td>100005</td>\n",
       "      <td>1.000050e+10</td>\n",
       "      <td>40</td>\n",
       "      <td>NaN</td>\n",
       "      <td>NaN</td>\n",
       "      <td>21</td>\n",
       "      <td>30</td>\n",
       "      <td>21</td>\n",
       "      <td>40</td>\n",
       "      <td>50</td>\n",
       "      <td>20</td>\n",
       "    </tr>\n",
       "    <tr>\n",
       "      <th>3</th>\n",
       "      <td>100005</td>\n",
       "      <td>1.000050e+10</td>\n",
       "      <td>49</td>\n",
       "      <td>NaN</td>\n",
       "      <td>NaN</td>\n",
       "      <td>21</td>\n",
       "      <td>40</td>\n",
       "      <td>21</td>\n",
       "      <td>49</td>\n",
       "      <td>50</td>\n",
       "      <td>20</td>\n",
       "    </tr>\n",
       "    <tr>\n",
       "      <th>4</th>\n",
       "      <td>100006</td>\n",
       "      <td>1.000060e+10</td>\n",
       "      <td>46</td>\n",
       "      <td>NaN</td>\n",
       "      <td>NaN</td>\n",
       "      <td>NaN</td>\n",
       "      <td>50</td>\n",
       "      <td>50</td>\n",
       "      <td>35</td>\n",
       "      <td>50</td>\n",
       "      <td>NaN</td>\n",
       "    </tr>\n",
       "  </tbody>\n",
       "</table>\n",
       "</div>"
      ],
      "text/plain": [
       "    LEAID       NCESSCH ALL_MTH00PCTPROF_1617 MAM_MTH00PCTPROF_1617  \\\n",
       "0  100005  1.000050e+10                    25                   NaN   \n",
       "1  100005  1.000050e+10                    13                   NaN   \n",
       "2  100005  1.000050e+10                    40                   NaN   \n",
       "3  100005  1.000050e+10                    49                   NaN   \n",
       "4  100006  1.000060e+10                    46                   NaN   \n",
       "\n",
       "  MAS_MTH00PCTPROF_1617 MBL_MTH00PCTPROF_1617 MHI_MTH00PCTPROF_1617  \\\n",
       "0                   NaN                    21                    15   \n",
       "1                   NaN                    50                     5   \n",
       "2                   NaN                    21                    30   \n",
       "3                   NaN                    21                    40   \n",
       "4                   NaN                   NaN                    50   \n",
       "\n",
       "  MTR_MTH00PCTPROF_1617 ECD_MTH00PCTPROF_1617 HOM_MTH00PCTPROF_1617  \\\n",
       "0                    21                    25                    50   \n",
       "1                   NaN                    13                   NaN   \n",
       "2                    21                    40                    50   \n",
       "3                    21                    49                    50   \n",
       "4                    50                    35                    50   \n",
       "\n",
       "  MIG_MTH00PCTPROF_1617  \n",
       "0                    10  \n",
       "1                    20  \n",
       "2                    20  \n",
       "3                    20  \n",
       "4                   NaN  "
      ]
     },
     "execution_count": 8,
     "metadata": {},
     "output_type": "execute_result"
    }
   ],
   "source": [
    "math_achi.head()"
   ]
  },
  {
   "cell_type": "code",
   "execution_count": 10,
   "metadata": {},
   "outputs": [],
   "source": [
    "for l in range(len(math_achi.columns)):\n",
    "    math_achi.iloc[:, l] = pd.to_numeric(math_achi.iloc[:, l], errors='coerce')\n",
    "math_achi.NCESSCH = math_achi.NCESSCH.astype(float)"
   ]
  },
  {
   "cell_type": "code",
   "execution_count": 11,
   "metadata": {},
   "outputs": [],
   "source": [
    "math_achi['agg_math_achi'] = math_achi.iloc[:, 2:].mean(axis=1)\n",
    "math_achi = math_achi[['LEAID', 'NCESSCH', 'agg_math_achi']]"
   ]
  },
  {
   "cell_type": "code",
   "execution_count": 12,
   "metadata": {},
   "outputs": [
    {
     "data": {
      "text/html": [
       "<div>\n",
       "<style scoped>\n",
       "    .dataframe tbody tr th:only-of-type {\n",
       "        vertical-align: middle;\n",
       "    }\n",
       "\n",
       "    .dataframe tbody tr th {\n",
       "        vertical-align: top;\n",
       "    }\n",
       "\n",
       "    .dataframe thead th {\n",
       "        text-align: right;\n",
       "    }\n",
       "</style>\n",
       "<table border=\"1\" class=\"dataframe\">\n",
       "  <thead>\n",
       "    <tr style=\"text-align: right;\">\n",
       "      <th></th>\n",
       "      <th>LEAID</th>\n",
       "      <th>NCESSCH</th>\n",
       "      <th>agg_math_achi</th>\n",
       "    </tr>\n",
       "  </thead>\n",
       "  <tbody>\n",
       "    <tr>\n",
       "      <th>0</th>\n",
       "      <td>100005</td>\n",
       "      <td>1.000050e+10</td>\n",
       "      <td>23.666667</td>\n",
       "    </tr>\n",
       "    <tr>\n",
       "      <th>1</th>\n",
       "      <td>100005</td>\n",
       "      <td>1.000050e+10</td>\n",
       "      <td>22.000000</td>\n",
       "    </tr>\n",
       "    <tr>\n",
       "      <th>2</th>\n",
       "      <td>100005</td>\n",
       "      <td>1.000050e+10</td>\n",
       "      <td>30.333333</td>\n",
       "    </tr>\n",
       "    <tr>\n",
       "      <th>3</th>\n",
       "      <td>100005</td>\n",
       "      <td>1.000050e+10</td>\n",
       "      <td>33.500000</td>\n",
       "    </tr>\n",
       "    <tr>\n",
       "      <th>4</th>\n",
       "      <td>100006</td>\n",
       "      <td>1.000060e+10</td>\n",
       "      <td>46.250000</td>\n",
       "    </tr>\n",
       "  </tbody>\n",
       "</table>\n",
       "</div>"
      ],
      "text/plain": [
       "    LEAID       NCESSCH  agg_math_achi\n",
       "0  100005  1.000050e+10      23.666667\n",
       "1  100005  1.000050e+10      22.000000\n",
       "2  100005  1.000050e+10      30.333333\n",
       "3  100005  1.000050e+10      33.500000\n",
       "4  100006  1.000060e+10      46.250000"
      ]
     },
     "execution_count": 12,
     "metadata": {},
     "output_type": "execute_result"
    }
   ],
   "source": [
    "math_achi.head()"
   ]
  },
  {
   "cell_type": "code",
   "execution_count": 13,
   "metadata": {},
   "outputs": [
    {
     "data": {
      "text/html": [
       "<div>\n",
       "<style scoped>\n",
       "    .dataframe tbody tr th:only-of-type {\n",
       "        vertical-align: middle;\n",
       "    }\n",
       "\n",
       "    .dataframe tbody tr th {\n",
       "        vertical-align: top;\n",
       "    }\n",
       "\n",
       "    .dataframe thead th {\n",
       "        text-align: right;\n",
       "    }\n",
       "</style>\n",
       "<table border=\"1\" class=\"dataframe\">\n",
       "  <thead>\n",
       "    <tr style=\"text-align: right;\">\n",
       "      <th></th>\n",
       "      <th>LEAID</th>\n",
       "      <th>NCESSCH</th>\n",
       "      <th>MAM_RLA00PCTPROF_1617</th>\n",
       "      <th>MAS_RLA00PCTPROF_1617</th>\n",
       "      <th>MBL_RLA00PCTPROF_1617</th>\n",
       "      <th>MHI_RLA00PCTPROF_1617</th>\n",
       "      <th>MTR_RLA00PCTPROF_1617</th>\n",
       "      <th>ECD_RLA00PCTPROF_1617</th>\n",
       "      <th>HOM_RLA00PCTPROF_1617</th>\n",
       "      <th>MIG_RLA00PCTPROF_1617</th>\n",
       "    </tr>\n",
       "  </thead>\n",
       "  <tbody>\n",
       "    <tr>\n",
       "      <th>0</th>\n",
       "      <td>100005</td>\n",
       "      <td>10000500870</td>\n",
       "      <td>NaN</td>\n",
       "      <td>NaN</td>\n",
       "      <td>21-39</td>\n",
       "      <td>25</td>\n",
       "      <td>40-59</td>\n",
       "      <td>34</td>\n",
       "      <td>LT50</td>\n",
       "      <td>11-19</td>\n",
       "    </tr>\n",
       "    <tr>\n",
       "      <th>1</th>\n",
       "      <td>100005</td>\n",
       "      <td>10000500871</td>\n",
       "      <td>NaN</td>\n",
       "      <td>NaN</td>\n",
       "      <td>LT50</td>\n",
       "      <td>10-14</td>\n",
       "      <td>NaN</td>\n",
       "      <td>27</td>\n",
       "      <td>NaN</td>\n",
       "      <td>LE20</td>\n",
       "    </tr>\n",
       "    <tr>\n",
       "      <th>2</th>\n",
       "      <td>100005</td>\n",
       "      <td>10000500879</td>\n",
       "      <td>NaN</td>\n",
       "      <td>NaN</td>\n",
       "      <td>LE20</td>\n",
       "      <td>14</td>\n",
       "      <td>21-39</td>\n",
       "      <td>26</td>\n",
       "      <td>LT50</td>\n",
       "      <td>LE10</td>\n",
       "    </tr>\n",
       "    <tr>\n",
       "      <th>3</th>\n",
       "      <td>100005</td>\n",
       "      <td>10000500889</td>\n",
       "      <td>NaN</td>\n",
       "      <td>NaN</td>\n",
       "      <td>LE20</td>\n",
       "      <td>15</td>\n",
       "      <td>21-39</td>\n",
       "      <td>27</td>\n",
       "      <td>LT50</td>\n",
       "      <td>11-19</td>\n",
       "    </tr>\n",
       "    <tr>\n",
       "      <th>4</th>\n",
       "      <td>100006</td>\n",
       "      <td>10000600193</td>\n",
       "      <td>NaN</td>\n",
       "      <td>NaN</td>\n",
       "      <td>NaN</td>\n",
       "      <td>LT50</td>\n",
       "      <td>LT50</td>\n",
       "      <td>35-39</td>\n",
       "      <td>LT50</td>\n",
       "      <td>NaN</td>\n",
       "    </tr>\n",
       "  </tbody>\n",
       "</table>\n",
       "</div>"
      ],
      "text/plain": [
       "    LEAID      NCESSCH MAM_RLA00PCTPROF_1617 MAS_RLA00PCTPROF_1617  \\\n",
       "0  100005  10000500870                   NaN                   NaN   \n",
       "1  100005  10000500871                   NaN                   NaN   \n",
       "2  100005  10000500879                   NaN                   NaN   \n",
       "3  100005  10000500889                   NaN                   NaN   \n",
       "4  100006  10000600193                   NaN                   NaN   \n",
       "\n",
       "  MBL_RLA00PCTPROF_1617 MHI_RLA00PCTPROF_1617 MTR_RLA00PCTPROF_1617  \\\n",
       "0                 21-39                    25                 40-59   \n",
       "1                  LT50                 10-14                   NaN   \n",
       "2                  LE20                    14                 21-39   \n",
       "3                  LE20                    15                 21-39   \n",
       "4                   NaN                  LT50                  LT50   \n",
       "\n",
       "  ECD_RLA00PCTPROF_1617 HOM_RLA00PCTPROF_1617 MIG_RLA00PCTPROF_1617  \n",
       "0                    34                  LT50                 11-19  \n",
       "1                    27                   NaN                  LE20  \n",
       "2                    26                  LT50                  LE10  \n",
       "3                    27                  LT50                 11-19  \n",
       "4                 35-39                  LT50                   NaN  "
      ]
     },
     "execution_count": 13,
     "metadata": {},
     "output_type": "execute_result"
    }
   ],
   "source": [
    "fields = ['LEAID', 'NCESSCH', 'MAM_RLA00PCTPROF_1617', 'MAS_RLA00PCTPROF_1617', 'MBL_RLA00PCTPROF_1617', 'MHI_RLA00PCTPROF_1617', 'MTR_RLA00PCTPROF_1617', 'ECD_RLA00PCTPROF_1617', 'HOM_RLA00PCTPROF_1617', 'MIG_RLA00PCTPROF_1617']\n",
    "missing_values = [\"PS\"]\n",
    "rla_achi = pd.read_csv(\"rla_achievement.csv\", usecols = fields, na_values = missing_values, low_memory = False)\n",
    "rla_achi.head()"
   ]
  },
  {
   "cell_type": "code",
   "execution_count": 14,
   "metadata": {},
   "outputs": [],
   "source": [
    "rla_achi.replace({'GE':'', 'LE':'', 'GT':'', 'LT':''}, inplace = True, regex = True)"
   ]
  },
  {
   "cell_type": "code",
   "execution_count": 15,
   "metadata": {},
   "outputs": [],
   "source": [
    "for k in range(2, len(rla_achi.columns)):\n",
    "    rla_achi.iloc[:, k] = rla_achi.iloc[:, k].str.split('-').str[0]"
   ]
  },
  {
   "cell_type": "code",
   "execution_count": 16,
   "metadata": {},
   "outputs": [],
   "source": [
    "for l in range(len(rla_achi.columns)):\n",
    "    rla_achi.iloc[:, l] = pd.to_numeric(rla_achi.iloc[:, l], errors='coerce')\n",
    "rla_achi.NCESSCH = rla_achi.NCESSCH.astype(float)"
   ]
  },
  {
   "cell_type": "code",
   "execution_count": 17,
   "metadata": {},
   "outputs": [],
   "source": [
    "rla_achi['agg_rla_achi'] = rla_achi.iloc[:, 2:].mean(axis=1)\n",
    "rla_achi = rla_achi[['NCESSCH', 'agg_rla_achi']]"
   ]
  },
  {
   "cell_type": "code",
   "execution_count": 18,
   "metadata": {},
   "outputs": [
    {
     "data": {
      "text/html": [
       "<div>\n",
       "<style scoped>\n",
       "    .dataframe tbody tr th:only-of-type {\n",
       "        vertical-align: middle;\n",
       "    }\n",
       "\n",
       "    .dataframe tbody tr th {\n",
       "        vertical-align: top;\n",
       "    }\n",
       "\n",
       "    .dataframe thead th {\n",
       "        text-align: right;\n",
       "    }\n",
       "</style>\n",
       "<table border=\"1\" class=\"dataframe\">\n",
       "  <thead>\n",
       "    <tr style=\"text-align: right;\">\n",
       "      <th></th>\n",
       "      <th>NCESSCH</th>\n",
       "      <th>agg_rla_achi</th>\n",
       "    </tr>\n",
       "  </thead>\n",
       "  <tbody>\n",
       "    <tr>\n",
       "      <th>0</th>\n",
       "      <td>1.000050e+10</td>\n",
       "      <td>30.166667</td>\n",
       "    </tr>\n",
       "    <tr>\n",
       "      <th>1</th>\n",
       "      <td>1.000050e+10</td>\n",
       "      <td>26.750000</td>\n",
       "    </tr>\n",
       "    <tr>\n",
       "      <th>2</th>\n",
       "      <td>1.000050e+10</td>\n",
       "      <td>23.500000</td>\n",
       "    </tr>\n",
       "    <tr>\n",
       "      <th>3</th>\n",
       "      <td>1.000050e+10</td>\n",
       "      <td>24.000000</td>\n",
       "    </tr>\n",
       "    <tr>\n",
       "      <th>4</th>\n",
       "      <td>1.000060e+10</td>\n",
       "      <td>46.250000</td>\n",
       "    </tr>\n",
       "  </tbody>\n",
       "</table>\n",
       "</div>"
      ],
      "text/plain": [
       "        NCESSCH  agg_rla_achi\n",
       "0  1.000050e+10     30.166667\n",
       "1  1.000050e+10     26.750000\n",
       "2  1.000050e+10     23.500000\n",
       "3  1.000050e+10     24.000000\n",
       "4  1.000060e+10     46.250000"
      ]
     },
     "execution_count": 18,
     "metadata": {},
     "output_type": "execute_result"
    }
   ],
   "source": [
    "rla_achi.head()"
   ]
  },
  {
   "cell_type": "code",
   "execution_count": 19,
   "metadata": {},
   "outputs": [],
   "source": [
    "all_achi = pd.merge(math_achi, rla_achi, on='NCESSCH', how='inner')"
   ]
  },
  {
   "cell_type": "code",
   "execution_count": 20,
   "metadata": {},
   "outputs": [
    {
     "data": {
      "text/html": [
       "<div>\n",
       "<style scoped>\n",
       "    .dataframe tbody tr th:only-of-type {\n",
       "        vertical-align: middle;\n",
       "    }\n",
       "\n",
       "    .dataframe tbody tr th {\n",
       "        vertical-align: top;\n",
       "    }\n",
       "\n",
       "    .dataframe thead th {\n",
       "        text-align: right;\n",
       "    }\n",
       "</style>\n",
       "<table border=\"1\" class=\"dataframe\">\n",
       "  <thead>\n",
       "    <tr style=\"text-align: right;\">\n",
       "      <th></th>\n",
       "      <th>LEAID</th>\n",
       "      <th>NCESSCH</th>\n",
       "      <th>agg_math_achi</th>\n",
       "      <th>agg_rla_achi</th>\n",
       "    </tr>\n",
       "  </thead>\n",
       "  <tbody>\n",
       "    <tr>\n",
       "      <th>0</th>\n",
       "      <td>100005</td>\n",
       "      <td>1.000050e+10</td>\n",
       "      <td>23.666667</td>\n",
       "      <td>30.166667</td>\n",
       "    </tr>\n",
       "    <tr>\n",
       "      <th>1</th>\n",
       "      <td>100005</td>\n",
       "      <td>1.000050e+10</td>\n",
       "      <td>22.000000</td>\n",
       "      <td>26.750000</td>\n",
       "    </tr>\n",
       "    <tr>\n",
       "      <th>2</th>\n",
       "      <td>100005</td>\n",
       "      <td>1.000050e+10</td>\n",
       "      <td>30.333333</td>\n",
       "      <td>23.500000</td>\n",
       "    </tr>\n",
       "    <tr>\n",
       "      <th>3</th>\n",
       "      <td>100005</td>\n",
       "      <td>1.000050e+10</td>\n",
       "      <td>33.500000</td>\n",
       "      <td>24.000000</td>\n",
       "    </tr>\n",
       "    <tr>\n",
       "      <th>4</th>\n",
       "      <td>100006</td>\n",
       "      <td>1.000060e+10</td>\n",
       "      <td>46.250000</td>\n",
       "      <td>46.250000</td>\n",
       "    </tr>\n",
       "  </tbody>\n",
       "</table>\n",
       "</div>"
      ],
      "text/plain": [
       "    LEAID       NCESSCH  agg_math_achi  agg_rla_achi\n",
       "0  100005  1.000050e+10      23.666667     30.166667\n",
       "1  100005  1.000050e+10      22.000000     26.750000\n",
       "2  100005  1.000050e+10      30.333333     23.500000\n",
       "3  100005  1.000050e+10      33.500000     24.000000\n",
       "4  100006  1.000060e+10      46.250000     46.250000"
      ]
     },
     "execution_count": 20,
     "metadata": {},
     "output_type": "execute_result"
    }
   ],
   "source": [
    "all_achi.head()"
   ]
  },
  {
   "cell_type": "code",
   "execution_count": 21,
   "metadata": {},
   "outputs": [],
   "source": [
    "all_achi['agg_achi'] = all_achi.iloc[:, 2:].mean(axis=1)"
   ]
  },
  {
   "cell_type": "code",
   "execution_count": 22,
   "metadata": {},
   "outputs": [],
   "source": [
    "all_achi = all_achi.dropna(subset=['agg_achi'])\n",
    "df_blp2 = all_achi[['LEAID', 'agg_achi']]\n",
    "all_achi = all_achi[['NCESSCH', 'agg_achi']]\n",
    "all_achi = all_achi.rename(columns={'NCESSCH': 'school_id'})"
   ]
  },
  {
   "cell_type": "code",
   "execution_count": 23,
   "metadata": {
    "scrolled": false
   },
   "outputs": [
    {
     "data": {
      "text/html": [
       "<div>\n",
       "<style scoped>\n",
       "    .dataframe tbody tr th:only-of-type {\n",
       "        vertical-align: middle;\n",
       "    }\n",
       "\n",
       "    .dataframe tbody tr th {\n",
       "        vertical-align: top;\n",
       "    }\n",
       "\n",
       "    .dataframe thead th {\n",
       "        text-align: right;\n",
       "    }\n",
       "</style>\n",
       "<table border=\"1\" class=\"dataframe\">\n",
       "  <thead>\n",
       "    <tr style=\"text-align: right;\">\n",
       "      <th></th>\n",
       "      <th>school_id</th>\n",
       "      <th>agg_achi</th>\n",
       "    </tr>\n",
       "  </thead>\n",
       "  <tbody>\n",
       "    <tr>\n",
       "      <th>0</th>\n",
       "      <td>1.000050e+10</td>\n",
       "      <td>26.916667</td>\n",
       "    </tr>\n",
       "    <tr>\n",
       "      <th>1</th>\n",
       "      <td>1.000050e+10</td>\n",
       "      <td>24.375000</td>\n",
       "    </tr>\n",
       "    <tr>\n",
       "      <th>2</th>\n",
       "      <td>1.000050e+10</td>\n",
       "      <td>26.916667</td>\n",
       "    </tr>\n",
       "    <tr>\n",
       "      <th>3</th>\n",
       "      <td>1.000050e+10</td>\n",
       "      <td>28.750000</td>\n",
       "    </tr>\n",
       "    <tr>\n",
       "      <th>4</th>\n",
       "      <td>1.000060e+10</td>\n",
       "      <td>46.250000</td>\n",
       "    </tr>\n",
       "  </tbody>\n",
       "</table>\n",
       "</div>"
      ],
      "text/plain": [
       "      school_id   agg_achi\n",
       "0  1.000050e+10  26.916667\n",
       "1  1.000050e+10  24.375000\n",
       "2  1.000050e+10  26.916667\n",
       "3  1.000050e+10  28.750000\n",
       "4  1.000060e+10  46.250000"
      ]
     },
     "execution_count": 23,
     "metadata": {},
     "output_type": "execute_result"
    }
   ],
   "source": [
    "all_achi.head()"
   ]
  },
  {
   "cell_type": "code",
   "execution_count": 24,
   "metadata": {},
   "outputs": [],
   "source": [
    "all_achi.to_csv(\"all_achi.csv\")"
   ]
  },
  {
   "cell_type": "code",
   "execution_count": 25,
   "metadata": {},
   "outputs": [],
   "source": [
    "df_blp2.head()\n",
    "df_blp2 = df_blp2.rename(columns={'LEAID': 'district_id'})"
   ]
  },
  {
   "cell_type": "code",
   "execution_count": 26,
   "metadata": {},
   "outputs": [
    {
     "data": {
      "text/plain": [
       "(16687, 2)"
      ]
     },
     "execution_count": 26,
     "metadata": {},
     "output_type": "execute_result"
    }
   ],
   "source": [
    "df_blp2.shape"
   ]
  },
  {
   "cell_type": "code",
   "execution_count": 27,
   "metadata": {},
   "outputs": [
    {
     "data": {
      "text/html": [
       "<div>\n",
       "<style scoped>\n",
       "    .dataframe tbody tr th:only-of-type {\n",
       "        vertical-align: middle;\n",
       "    }\n",
       "\n",
       "    .dataframe tbody tr th {\n",
       "        vertical-align: top;\n",
       "    }\n",
       "\n",
       "    .dataframe thead th {\n",
       "        text-align: right;\n",
       "    }\n",
       "</style>\n",
       "<table border=\"1\" class=\"dataframe\">\n",
       "  <thead>\n",
       "    <tr style=\"text-align: right;\">\n",
       "      <th>district_id</th>\n",
       "      <th>100005</th>\n",
       "      <th>100006</th>\n",
       "      <th>100007</th>\n",
       "      <th>100008</th>\n",
       "      <th>100011</th>\n",
       "      <th>100012</th>\n",
       "      <th>100013</th>\n",
       "      <th>100030</th>\n",
       "      <th>100060</th>\n",
       "      <th>100090</th>\n",
       "    </tr>\n",
       "  </thead>\n",
       "  <tbody>\n",
       "    <tr>\n",
       "      <th>agg_achc</th>\n",
       "      <td>[20-30)</td>\n",
       "      <td>[30-40)</td>\n",
       "      <td>[40-50)</td>\n",
       "      <td>[50-60)</td>\n",
       "      <td>[20-30)</td>\n",
       "      <td>[40-50)</td>\n",
       "      <td>[50-60)</td>\n",
       "      <td>[20-30)</td>\n",
       "      <td>[20-30)</td>\n",
       "      <td>[20-30)</td>\n",
       "    </tr>\n",
       "  </tbody>\n",
       "</table>\n",
       "</div>"
      ],
      "text/plain": [
       "district_id   100005   100006   100007   100008   100011   100012   100013  \\\n",
       "agg_achc     [20-30)  [30-40)  [40-50)  [50-60)  [20-30)  [40-50)  [50-60)   \n",
       "\n",
       "district_id   100030   100060   100090  \n",
       "agg_achc     [20-30)  [20-30)  [20-30)  "
      ]
     },
     "execution_count": 27,
     "metadata": {},
     "output_type": "execute_result"
    }
   ],
   "source": [
    "df_blp2 = df_blp2.groupby('district_id').median(skipna=True)[['agg_achi']]\n",
    "bins = [0, 10, 20, 30, 40, 50, 60, 70, 80, 90, 101]\n",
    "names = ['[0-10)', '[10-20)', '[20-30)', '[30-40)', '[40-50)', '[50-60)', '[60-70)', '[70-80)', '[80-90)', '[90-100]']\n",
    "df_blp2['agg_achc'] = pd.cut(df_blp2.agg_achi, bins, labels = names, right = False)\n",
    "df_blp2 = df_blp2.drop(columns=['agg_achi'])\n",
    "df_blp2.T.iloc[:, 0:10]"
   ]
  },
  {
   "cell_type": "code",
   "execution_count": 28,
   "metadata": {
    "scrolled": true
   },
   "outputs": [],
   "source": [
    "df1 = pd.merge(demos, all_achi, on='school_id', how='inner')\n",
    "df1 = df1.drop(columns=['school_name', 'state_name', 'school_id', 'district_id', 'total_race'])\n",
    "for i in range(len(df1.columns)):\n",
    "    df1.iloc[:, i] = df1.iloc[:, i].fillna(df1.iloc[:, i].median(skipna=True))"
   ]
  },
  {
   "cell_type": "code",
   "execution_count": 29,
   "metadata": {
    "scrolled": true
   },
   "outputs": [
    {
     "data": {
      "text/plain": [
       "pct_native       float64\n",
       "pct_asian        float64\n",
       "pct_hispanic     float64\n",
       "pct_black        float64\n",
       "pct_white        float64\n",
       "pct_pacisl       float64\n",
       "pct_mixed        float64\n",
       "free_lunch       float64\n",
       "reduced_lunch    float64\n",
       "total            float64\n",
       "agg_achi         float64\n",
       "dtype: object"
      ]
     },
     "execution_count": 29,
     "metadata": {},
     "output_type": "execute_result"
    }
   ],
   "source": [
    "df1.dtypes"
   ]
  },
  {
   "cell_type": "code",
   "execution_count": 30,
   "metadata": {},
   "outputs": [
    {
     "data": {
      "text/plain": [
       "35420"
      ]
     },
     "execution_count": 30,
     "metadata": {},
     "output_type": "execute_result"
    }
   ],
   "source": [
    "df1.size"
   ]
  },
  {
   "cell_type": "code",
   "execution_count": 43,
   "metadata": {
    "scrolled": true
   },
   "outputs": [
    {
     "data": {
      "text/html": [
       "<div>\n",
       "<style scoped>\n",
       "    .dataframe tbody tr th:only-of-type {\n",
       "        vertical-align: middle;\n",
       "    }\n",
       "\n",
       "    .dataframe tbody tr th {\n",
       "        vertical-align: top;\n",
       "    }\n",
       "\n",
       "    .dataframe thead th {\n",
       "        text-align: right;\n",
       "    }\n",
       "</style>\n",
       "<table border=\"1\" class=\"dataframe\">\n",
       "  <thead>\n",
       "    <tr style=\"text-align: right;\">\n",
       "      <th></th>\n",
       "      <th>NCESSCH</th>\n",
       "      <th>ALL_RATE_1617</th>\n",
       "      <th>MAM_RATE_1617</th>\n",
       "      <th>MAS_RATE_1617</th>\n",
       "      <th>MBL_RATE_1617</th>\n",
       "      <th>MHI_RATE_1617</th>\n",
       "      <th>MTR_RATE_1617</th>\n",
       "      <th>ECD_RATE_1617</th>\n",
       "    </tr>\n",
       "  </thead>\n",
       "  <tbody>\n",
       "    <tr>\n",
       "      <th>0</th>\n",
       "      <td>10000500871</td>\n",
       "      <td>93</td>\n",
       "      <td>NaN</td>\n",
       "      <td>NaN</td>\n",
       "      <td>GE50</td>\n",
       "      <td>90-94</td>\n",
       "      <td>NaN</td>\n",
       "      <td>NaN</td>\n",
       "    </tr>\n",
       "    <tr>\n",
       "      <th>1</th>\n",
       "      <td>10000600872</td>\n",
       "      <td>90-94</td>\n",
       "      <td>NaN</td>\n",
       "      <td>NaN</td>\n",
       "      <td>NaN</td>\n",
       "      <td>GE80</td>\n",
       "      <td>NaN</td>\n",
       "      <td>NaN</td>\n",
       "    </tr>\n",
       "    <tr>\n",
       "      <th>2</th>\n",
       "      <td>10000600878</td>\n",
       "      <td>85-89</td>\n",
       "      <td>NaN</td>\n",
       "      <td>NaN</td>\n",
       "      <td>NaN</td>\n",
       "      <td>GE90</td>\n",
       "      <td>NaN</td>\n",
       "      <td>NaN</td>\n",
       "    </tr>\n",
       "    <tr>\n",
       "      <th>3</th>\n",
       "      <td>10000600883</td>\n",
       "      <td>90-94</td>\n",
       "      <td>NaN</td>\n",
       "      <td>NaN</td>\n",
       "      <td>NaN</td>\n",
       "      <td>NaN</td>\n",
       "      <td>NaN</td>\n",
       "      <td>NaN</td>\n",
       "    </tr>\n",
       "    <tr>\n",
       "      <th>4</th>\n",
       "      <td>10000601585</td>\n",
       "      <td>85-89</td>\n",
       "      <td>NaN</td>\n",
       "      <td>NaN</td>\n",
       "      <td>NaN</td>\n",
       "      <td>NaN</td>\n",
       "      <td>NaN</td>\n",
       "      <td>NaN</td>\n",
       "    </tr>\n",
       "  </tbody>\n",
       "</table>\n",
       "</div>"
      ],
      "text/plain": [
       "       NCESSCH ALL_RATE_1617 MAM_RATE_1617 MAS_RATE_1617 MBL_RATE_1617  \\\n",
       "0  10000500871            93           NaN           NaN          GE50   \n",
       "1  10000600872         90-94           NaN           NaN           NaN   \n",
       "2  10000600878         85-89           NaN           NaN           NaN   \n",
       "3  10000600883         90-94           NaN           NaN           NaN   \n",
       "4  10000601585         85-89           NaN           NaN           NaN   \n",
       "\n",
       "  MHI_RATE_1617 MTR_RATE_1617 ECD_RATE_1617  \n",
       "0         90-94           NaN           NaN  \n",
       "1          GE80           NaN           NaN  \n",
       "2          GE90           NaN           NaN  \n",
       "3           NaN           NaN           NaN  \n",
       "4           NaN           NaN           NaN  "
      ]
     },
     "execution_count": 43,
     "metadata": {},
     "output_type": "execute_result"
    }
   ],
   "source": [
    "fields = ['NCESSCH', 'ALL_RATE_1617', 'MAM_RATE_1617', 'MAS_RATE_1617', 'MBL_RATE_1617', 'MHI_RATE_1617', 'MTR_RATE_1617', 'ECD_RATE_1617']\n",
    "missing_values = [\".\", \"PS\"]\n",
    "grad = pd.read_csv(\"grad.csv\", usecols = fields, na_values = missing_values, low_memory = False)\n",
    "grad.head()"
   ]
  },
  {
   "cell_type": "code",
   "execution_count": 44,
   "metadata": {},
   "outputs": [],
   "source": [
    "for k in range(1, len(grad.columns)):\n",
    "    grad.iloc[:, k] = grad.iloc[:, k].str.split('-').str[0]"
   ]
  },
  {
   "cell_type": "code",
   "execution_count": 45,
   "metadata": {},
   "outputs": [],
   "source": [
    "for l in range(len(grad.columns)):\n",
    "    grad.iloc[:, l] = pd.to_numeric(grad.iloc[:, l], errors='coerce')\n",
    "grad.NCESSCH = grad.NCESSCH.astype(float)"
   ]
  },
  {
   "cell_type": "code",
   "execution_count": 46,
   "metadata": {
    "scrolled": true
   },
   "outputs": [
    {
     "data": {
      "text/plain": [
       "school_id             float64\n",
       "grad_rate_all         float64\n",
       "grad_rate_native      float64\n",
       "grad_rate_asian       float64\n",
       "grad_rate_black       float64\n",
       "grad_rate_hispanic    float64\n",
       "grad_rate_mixed       float64\n",
       "grad_rate_linc        float64\n",
       "dtype: object"
      ]
     },
     "execution_count": 46,
     "metadata": {},
     "output_type": "execute_result"
    }
   ],
   "source": [
    "grad = grad.rename(columns={'NCESSCH': 'school_id', 'ALL_RATE_1617': 'grad_rate_all', 'MAM_RATE_1617': 'grad_rate_native', 'MAS_RATE_1617': 'grad_rate_asian', 'MBL_RATE_1617': \n",
    "                           'grad_rate_black', 'MHI_RATE_1617': 'grad_rate_hispanic', 'MTR_RATE_1617': 'grad_rate_mixed', 'ECD_RATE_1617': 'grad_rate_linc'})\n",
    "grad.dtypes"
   ]
  },
  {
   "cell_type": "code",
   "execution_count": 47,
   "metadata": {},
   "outputs": [],
   "source": [
    "grad.to_csv(\"grad_clean.csv\")"
   ]
  },
  {
   "cell_type": "code",
   "execution_count": 36,
   "metadata": {},
   "outputs": [],
   "source": [
    "financials = pd.read_csv(\"financials.txt\", delimiter = \"\\t\", low_memory = False)\n",
    "financials = financials.drop([0]).reset_index(drop=True)\n"
   ]
  },
  {
   "cell_type": "code",
   "execution_count": 37,
   "metadata": {},
   "outputs": [],
   "source": [
    "financials = financials[['LEAID', 'TOTALREV', 'TLOCREV', 'T02', 'T06', 'T09', 'T15', 'T40', 'T99', 'Z32', 'Z33', 'Z35']]\n",
    "financials = financials.rename(columns={'LEAID': 'district_id', 'TOTALREV': 'total_rev', 'TLOCREV': 'total_locrev', 'T02': 'pta_rev', 'T06': 'prop_taxes', 'T09': 'sales_taxes', 'T15': 'public_utility_taxes', 'T40': 'income_taxes', 'T99': 'other_taxes', 'Z32': 'total_salaries', 'Z33': 'salaries_instruction', 'Z35': 'salaries_teachers'})"
   ]
  },
  {
   "cell_type": "code",
   "execution_count": 38,
   "metadata": {},
   "outputs": [],
   "source": [
    "financials.iloc[:, 1:] = financials.iloc[:, 1:].clip(0)"
   ]
  },
  {
   "cell_type": "code",
   "execution_count": 39,
   "metadata": {},
   "outputs": [
    {
     "data": {
      "text/html": [
       "<div>\n",
       "<style scoped>\n",
       "    .dataframe tbody tr th:only-of-type {\n",
       "        vertical-align: middle;\n",
       "    }\n",
       "\n",
       "    .dataframe tbody tr th {\n",
       "        vertical-align: top;\n",
       "    }\n",
       "\n",
       "    .dataframe thead th {\n",
       "        text-align: right;\n",
       "    }\n",
       "</style>\n",
       "<table border=\"1\" class=\"dataframe\">\n",
       "  <thead>\n",
       "    <tr style=\"text-align: right;\">\n",
       "      <th></th>\n",
       "      <th>district_id</th>\n",
       "      <th>total_rev</th>\n",
       "      <th>total_locrev</th>\n",
       "      <th>pta_rev</th>\n",
       "      <th>prop_taxes</th>\n",
       "      <th>sales_taxes</th>\n",
       "      <th>public_utility_taxes</th>\n",
       "      <th>income_taxes</th>\n",
       "      <th>other_taxes</th>\n",
       "      <th>total_salaries</th>\n",
       "      <th>salaries_instruction</th>\n",
       "      <th>salaries_teachers</th>\n",
       "    </tr>\n",
       "  </thead>\n",
       "  <tbody>\n",
       "    <tr>\n",
       "      <th>0</th>\n",
       "      <td>0100005</td>\n",
       "      <td>45519000</td>\n",
       "      <td>12503000</td>\n",
       "      <td>0</td>\n",
       "      <td>4663000</td>\n",
       "      <td>0</td>\n",
       "      <td>0</td>\n",
       "      <td>0</td>\n",
       "      <td>388000</td>\n",
       "      <td>22798000</td>\n",
       "      <td>14900000</td>\n",
       "      <td>10992000</td>\n",
       "    </tr>\n",
       "    <tr>\n",
       "      <th>1</th>\n",
       "      <td>0100006</td>\n",
       "      <td>55501000</td>\n",
       "      <td>13248000</td>\n",
       "      <td>0</td>\n",
       "      <td>6536000</td>\n",
       "      <td>0</td>\n",
       "      <td>0</td>\n",
       "      <td>0</td>\n",
       "      <td>96000</td>\n",
       "      <td>29650000</td>\n",
       "      <td>17898000</td>\n",
       "      <td>12245000</td>\n",
       "    </tr>\n",
       "    <tr>\n",
       "      <th>2</th>\n",
       "      <td>0100007</td>\n",
       "      <td>163058000</td>\n",
       "      <td>86878000</td>\n",
       "      <td>0</td>\n",
       "      <td>66946000</td>\n",
       "      <td>0</td>\n",
       "      <td>0</td>\n",
       "      <td>0</td>\n",
       "      <td>4000</td>\n",
       "      <td>84171000</td>\n",
       "      <td>56693000</td>\n",
       "      <td>45336000</td>\n",
       "    </tr>\n",
       "    <tr>\n",
       "      <th>3</th>\n",
       "      <td>0100008</td>\n",
       "      <td>103675000</td>\n",
       "      <td>44505000</td>\n",
       "      <td>0</td>\n",
       "      <td>18041000</td>\n",
       "      <td>0</td>\n",
       "      <td>0</td>\n",
       "      <td>0</td>\n",
       "      <td>6000</td>\n",
       "      <td>49609000</td>\n",
       "      <td>32902000</td>\n",
       "      <td>23499000</td>\n",
       "    </tr>\n",
       "    <tr>\n",
       "      <th>4</th>\n",
       "      <td>0100009</td>\n",
       "      <td>0</td>\n",
       "      <td>0</td>\n",
       "      <td>0</td>\n",
       "      <td>0</td>\n",
       "      <td>0</td>\n",
       "      <td>0</td>\n",
       "      <td>0</td>\n",
       "      <td>0</td>\n",
       "      <td>0</td>\n",
       "      <td>0</td>\n",
       "      <td>0</td>\n",
       "    </tr>\n",
       "  </tbody>\n",
       "</table>\n",
       "</div>"
      ],
      "text/plain": [
       "  district_id  total_rev  total_locrev  pta_rev  prop_taxes  sales_taxes  \\\n",
       "0     0100005   45519000      12503000        0     4663000            0   \n",
       "1     0100006   55501000      13248000        0     6536000            0   \n",
       "2     0100007  163058000      86878000        0    66946000            0   \n",
       "3     0100008  103675000      44505000        0    18041000            0   \n",
       "4     0100009          0             0        0           0            0   \n",
       "\n",
       "   public_utility_taxes  income_taxes  other_taxes  total_salaries  \\\n",
       "0                     0             0       388000        22798000   \n",
       "1                     0             0        96000        29650000   \n",
       "2                     0             0         4000        84171000   \n",
       "3                     0             0         6000        49609000   \n",
       "4                     0             0            0               0   \n",
       "\n",
       "   salaries_instruction  salaries_teachers  \n",
       "0              14900000           10992000  \n",
       "1              17898000           12245000  \n",
       "2              56693000           45336000  \n",
       "3              32902000           23499000  \n",
       "4                     0                  0  "
      ]
     },
     "execution_count": 39,
     "metadata": {},
     "output_type": "execute_result"
    }
   ],
   "source": [
    "financials.head()"
   ]
  },
  {
   "cell_type": "code",
   "execution_count": 40,
   "metadata": {
    "scrolled": false
   },
   "outputs": [
    {
     "data": {
      "text/plain": [
       "total_rev               16938\n",
       "total_locrev            16758\n",
       "pta_rev                  1084\n",
       "prop_taxes              12104\n",
       "sales_taxes               497\n",
       "public_utility_taxes     1206\n",
       "income_taxes              956\n",
       "other_taxes              2777\n",
       "total_salaries          16417\n",
       "salaries_instruction    16200\n",
       "salaries_teachers       13836\n",
       "dtype: int64"
      ]
     },
     "execution_count": 40,
     "metadata": {},
     "output_type": "execute_result"
    }
   ],
   "source": [
    "financials.iloc[:, 1:][financials.iloc[:, 1:] > 0].count()"
   ]
  },
  {
   "cell_type": "code",
   "execution_count": 41,
   "metadata": {},
   "outputs": [],
   "source": [
    "financials = financials[financials.apply(pd.to_numeric, errors='coerce').notna()].dropna()\n",
    "financials.district_id = financials.district_id.astype(float)"
   ]
  },
  {
   "cell_type": "code",
   "execution_count": 42,
   "metadata": {},
   "outputs": [],
   "source": [
    "financials.to_csv(\"financials_clean.csv\")"
   ]
  }
 ],
 "metadata": {
  "kernelspec": {
   "display_name": "Python 3",
   "language": "python",
   "name": "python3"
  },
  "language_info": {
   "codemirror_mode": {
    "name": "ipython",
    "version": 3
   },
   "file_extension": ".py",
   "mimetype": "text/x-python",
   "name": "python",
   "nbconvert_exporter": "python",
   "pygments_lexer": "ipython3",
   "version": "3.7.1"
  }
 },
 "nbformat": 4,
 "nbformat_minor": 2
}
