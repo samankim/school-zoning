{
 "cells": [
  {
   "cell_type": "markdown",
   "metadata": {},
   "source": [
    "# Joining Processed Data"
   ]
  },
  {
   "cell_type": "markdown",
   "metadata": {},
   "source": [
    "This section joins data processed from data_extraction.ipynb and returns numpy representation of pandas dfs compatible with sklearn. \n",
    "\n",
    "NA values in df1 and df2 are filled with medians of their respective columns (may be testing other options like cosine similarity for missing data)."
   ]
  },
  {
   "cell_type": "code",
   "execution_count": 1,
   "metadata": {},
   "outputs": [],
   "source": [
    "import sklearn\n",
    "from sklearn.model_selection import train_test_split\n",
    "from sklearn.linear_model import LinearRegression\n",
    "from sklearn.metrics import mean_squared_error\n",
    "from sklearn.metrics import mean_absolute_error\n",
    "\n",
    "import pandas as pd\n",
    "import numpy as np\n",
    "import matplotlib.pyplot as plt\n",
    "#import tensorflow as tf\n",
    "#import keras\n",
    "#from fancyimpute import KNN, NuclearNormMinimization, SoftImpute, IterativeImputer, BiScaler"
   ]
  },
  {
   "cell_type": "code",
   "execution_count": 2,
   "metadata": {},
   "outputs": [],
   "source": [
    "demos = pd.read_csv(\"demos_clean.csv\")\n",
    "demos.drop(demos.columns[[0]], axis=1, inplace=True)\n",
    "all_achi = pd.read_csv(\"all_achi.csv\")\n",
    "all_achi.drop(all_achi.columns[[0]], axis=1, inplace=True)\n",
    "sw_achi = pd.read_csv(\"sw_achi.csv\")\n",
    "sw_achi.drop(sw_achi.columns[[0]], axis=1, inplace=True)\n",
    "sw_achi_1516 = pd.read_csv(\"sw_achi_1516.csv\")\n",
    "sw_achi_1516.drop(sw_achi_1516.columns[[0]], axis=1, inplace=True)"
   ]
  },
  {
   "cell_type": "code",
   "execution_count": 3,
   "metadata": {},
   "outputs": [],
   "source": [
    "df1_sw_oracle = pd.merge(demos, sw_achi_1516, on='school_id', how='inner')\n",
    "df1_sw_oracle = pd.merge(df1_sw_oracle, sw_achi, on='school_id', how='inner')\n",
    "df1_sw_oracle = df1_sw_oracle.rename(columns={'schoolwide_achi_x': 'schoolwide_achi_1516', 'schoolwide_achi_y': 'schoolwide_achi_1617'})\n",
    "df1_sw_oracle = df1_sw_oracle.drop(columns=['school_name', 'state_name', 'school_id', 'district_id', 'total_race'])\n",
    "df1_sw_oracle = df1_sw_oracle.dropna(how='any')"
   ]
  },
  {
   "cell_type": "code",
   "execution_count": 4,
   "metadata": {},
   "outputs": [],
   "source": [
    "grad = pd.read_csv(\"grad_clean.csv\")\n",
    "grad.drop(grad.columns[[0]], axis=1, inplace=True)\n",
    "financials = pd.read_csv(\"financials_clean.csv\")\n",
    "financials.drop(financials.columns[[0]], axis=1, inplace=True)"
   ]
  },
  {
   "cell_type": "code",
   "execution_count": 5,
   "metadata": {},
   "outputs": [],
   "source": [
    "df2_sw_oracle = pd.merge(demos, grad, on='school_id', how='inner')\n",
    "df2_sw_oracle = pd.merge(df2_sw_oracle, financials, on='district_id', how='inner')\n",
    "df2_sw_oracle = pd.merge(df2_sw_oracle, sw_achi_1516, on='school_id', how='inner')\n",
    "df2_sw_oracle = pd.merge(df2_sw_oracle, sw_achi, on='school_id', how='inner')\n",
    "df2_sw_oracle = df2_sw_oracle.rename(columns={'schoolwide_achi_x': 'schoolwide_achi_1516', 'schoolwide_achi_y': 'schoolwide_achi_1617'})"
   ]
  },
  {
   "cell_type": "code",
   "execution_count": 6,
   "metadata": {},
   "outputs": [],
   "source": [
    "#drop attributes used for data processing\n",
    "df2_sw_oracle = df2_sw_oracle.drop(columns=['school_name', 'state_name', 'school_id', 'district_id', 'total_race'])\n",
    "#drop attributes that were pulled, but not predictive\n",
    "df2_sw_oracle = df2_sw_oracle.drop(columns=['total_rev', 'total_locrev', 'pta_rev', 'prop_taxes', 'sales_taxes', 'public_utility_taxes', 'income_taxes', 'other_taxes'])\n",
    "#engineer features so they reflect per student values\n",
    "df2_sw_oracle.total_salaries = df2_sw_oracle.total_salaries/df2_sw_oracle.total\n",
    "df2_sw_oracle.salaries_instruction = df2_sw_oracle.salaries_instruction/df2_sw_oracle.total\n",
    "df2_sw_oracle.salaries_teachers = df2_sw_oracle.salaries_teachers/df2_sw_oracle.total\n",
    "df2_sw_oracle = df2_sw_oracle.rename(columns={'total_salaries': 'total_salaries_ps', 'salaries_instruction': 'salaries_instruction_ps', 'salaries_teachers': 'salaries_teachers_ps'})"
   ]
  },
  {
   "cell_type": "code",
   "execution_count": 7,
   "metadata": {},
   "outputs": [],
   "source": [
    "#impute na with median\n",
    "for i in range(len(df2_sw_oracle.columns)):\n",
    "    df2_sw_oracle.iloc[:, i] = df2_sw_oracle.iloc[:, i].fillna(df2_sw_oracle.iloc[:, i].median(skipna=True))"
   ]
  },
  {
   "cell_type": "markdown",
   "metadata": {},
   "source": [
    "# Oracle Linear Regression"
   ]
  },
  {
   "cell_type": "code",
   "execution_count": 8,
   "metadata": {},
   "outputs": [],
   "source": [
    "data = df1_sw_oracle.values"
   ]
  },
  {
   "cell_type": "code",
   "execution_count": 9,
   "metadata": {
    "scrolled": true
   },
   "outputs": [
    {
     "data": {
      "text/plain": [
       "pct_native              float64\n",
       "pct_asian               float64\n",
       "pct_hispanic            float64\n",
       "pct_black               float64\n",
       "pct_white               float64\n",
       "pct_pacisl              float64\n",
       "pct_mixed               float64\n",
       "free_lunch              float64\n",
       "reduced_lunch           float64\n",
       "total                   float64\n",
       "schoolwide_achi_1516    float64\n",
       "schoolwide_achi_1617    float64\n",
       "dtype: object"
      ]
     },
     "execution_count": 9,
     "metadata": {},
     "output_type": "execute_result"
    }
   ],
   "source": [
    "df1_sw_oracle.dtypes"
   ]
  },
  {
   "cell_type": "code",
   "execution_count": 10,
   "metadata": {},
   "outputs": [],
   "source": [
    "features = data[:, 10:11]\n",
    "labels = data[:, 11]"
   ]
  },
  {
   "cell_type": "code",
   "execution_count": 18,
   "metadata": {},
   "outputs": [
    {
     "data": {
      "text/plain": [
       "<matplotlib.collections.PathCollection at 0x11b7b1ef0>"
      ]
     },
     "execution_count": 18,
     "metadata": {},
     "output_type": "execute_result"
    },
    {
     "data": {
      "image/png": "[encoded data removed]",
      "text/plain": [
       "<Figure size 432x288 with 1 Axes>"
      ]
     },
     "metadata": {
      "needs_background": "light"
     },
     "output_type": "display_data"
    }
   ],
   "source": [
    "plt.scatter(features[:, 0], labels, color='blue')"
   ]
  },
  {
   "cell_type": "code",
   "execution_count": 21,
   "metadata": {},
   "outputs": [],
   "source": [
    "train, test, train_labels, test_labels = train_test_split(features, labels, test_size = 0.2)"
   ]
  },
  {
   "cell_type": "code",
   "execution_count": 22,
   "metadata": {},
   "outputs": [],
   "source": [
    "lr = LinearRegression(normalize=True)"
   ]
  },
  {
   "cell_type": "code",
   "execution_count": 23,
   "metadata": {},
   "outputs": [],
   "source": [
    "model = lr.fit(train, train_labels)"
   ]
  },
  {
   "cell_type": "code",
   "execution_count": 24,
   "metadata": {
    "scrolled": true
   },
   "outputs": [
    {
     "name": "stdout",
     "output_type": "stream",
     "text": [
      "0.8354472022689599\n"
     ]
    }
   ],
   "source": [
    "score = model.score(test, test_labels)\n",
    "print(score)"
   ]
  },
  {
   "cell_type": "code",
   "execution_count": 25,
   "metadata": {},
   "outputs": [
    {
     "name": "stdout",
     "output_type": "stream",
     "text": [
      "65.40331582131245\n"
     ]
    }
   ],
   "source": [
    "test_pred = model.predict(test)\n",
    "mse_lr = mean_squared_error(test_labels, test_pred)\n",
    "print(mse_lr)"
   ]
  },
  {
   "cell_type": "markdown",
   "metadata": {},
   "source": [
    "## DF1 Features (on sw_achi)"
   ]
  },
  {
   "cell_type": "code",
   "execution_count": 20,
   "metadata": {},
   "outputs": [],
   "source": [
    "data = df1_sw_oracle.values"
   ]
  },
  {
   "cell_type": "code",
   "execution_count": 21,
   "metadata": {
    "scrolled": true
   },
   "outputs": [
    {
     "data": {
      "text/plain": [
       "pct_native              float64\n",
       "pct_asian               float64\n",
       "pct_hispanic            float64\n",
       "pct_black               float64\n",
       "pct_white               float64\n",
       "pct_pacisl              float64\n",
       "pct_mixed               float64\n",
       "free_lunch              float64\n",
       "reduced_lunch           float64\n",
       "total                   float64\n",
       "schoolwide_achi_1516    float64\n",
       "schoolwide_achi_1617    float64\n",
       "dtype: object"
      ]
     },
     "execution_count": 21,
     "metadata": {},
     "output_type": "execute_result"
    }
   ],
   "source": [
    "df1_sw_oracle.dtypes"
   ]
  },
  {
   "cell_type": "code",
   "execution_count": 22,
   "metadata": {},
   "outputs": [],
   "source": [
    "features = data[:, 0:11]\n",
    "labels = data[:, 11]"
   ]
  },
  {
   "cell_type": "code",
   "execution_count": 30,
   "metadata": {},
   "outputs": [
    {
     "data": {
      "image/png": "[encoded data removed]",
      "text/plain": [
       "<Figure size 432x288 with 1 Axes>"
      ]
     },
     "metadata": {
      "needs_background": "light"
     },
     "output_type": "display_data"
    }
   ],
   "source": [
    "plt.scatter(features[:, 10], labels, color='#2b4e9b')\n",
    "plt.title(\"Aggregate Achievement Index: 2015 - 2016 vs. 2016 - 2017\")\n",
    "plt.xlabel(\"Aggregate Achievement Index (2015-2016)\")\n",
    "plt.ylabel(\"Aggregate Achievement Index (2016-2017)\")\n",
    "plt.show()"
   ]
  },
  {
   "cell_type": "code",
   "execution_count": 49,
   "metadata": {},
   "outputs": [],
   "source": [
    "train, test, train_labels, test_labels = train_test_split(features, labels, test_size = 0.2)"
   ]
  },
  {
   "cell_type": "code",
   "execution_count": 50,
   "metadata": {},
   "outputs": [],
   "source": [
    "lr = LinearRegression(normalize=True)"
   ]
  },
  {
   "cell_type": "code",
   "execution_count": 51,
   "metadata": {},
   "outputs": [],
   "source": [
    "model = lr.fit(train, train_labels)"
   ]
  },
  {
   "cell_type": "code",
   "execution_count": 52,
   "metadata": {
    "scrolled": false
   },
   "outputs": [
    {
     "name": "stdout",
     "output_type": "stream",
     "text": [
      "0.8587687236252087\n"
     ]
    }
   ],
   "source": [
    "score = model.score(test, test_labels)\n",
    "print(score)"
   ]
  },
  {
   "cell_type": "code",
   "execution_count": 53,
   "metadata": {
    "scrolled": true
   },
   "outputs": [
    {
     "name": "stdout",
     "output_type": "stream",
     "text": [
      "53.785944955560225\n"
     ]
    }
   ],
   "source": [
    "test_pred = model.predict(test)\n",
    "mse_lr = mean_squared_error(test_labels, test_pred)\n",
    "print(mse_lr)"
   ]
  },
  {
   "cell_type": "code",
   "execution_count": 60,
   "metadata": {},
   "outputs": [
    {
     "name": "stdout",
     "output_type": "stream",
     "text": [
      "5.363221914556962\n"
     ]
    }
   ],
   "source": [
    "test_pred = model.predict(test)\n",
    "mse_lr_abs = mean_absolute_error(test_labels, test_pred)\n",
    "print(mse_lr_abs)"
   ]
  },
  {
   "cell_type": "code",
   "execution_count": 8,
   "metadata": {
    "scrolled": false
   },
   "outputs": [
    {
     "data": {
      "text/plain": [
       "pct_native              float64\n",
       "pct_asian               float64\n",
       "pct_hispanic            float64\n",
       "pct_black               float64\n",
       "pct_white               float64\n",
       "pct_pacisl              float64\n",
       "pct_mixed               float64\n",
       "free_lunch              float64\n",
       "reduced_lunch           float64\n",
       "total                   float64\n",
       "schoolwide_achi_1516    float64\n",
       "schoolwide_achi_1617    float64\n",
       "dtype: object"
      ]
     },
     "execution_count": 8,
     "metadata": {},
     "output_type": "execute_result"
    }
   ],
   "source": [
    "df1_sw_oracle.dtypes"
   ]
  },
  {
   "cell_type": "code",
   "execution_count": 9,
   "metadata": {},
   "outputs": [],
   "source": [
    "data = df1_sw_oracle.values"
   ]
  },
  {
   "cell_type": "code",
   "execution_count": 10,
   "metadata": {},
   "outputs": [],
   "source": [
    "features = data[:, 0:11]\n",
    "labels = data[:, 11]"
   ]
  },
  {
   "cell_type": "code",
   "execution_count": 11,
   "metadata": {},
   "outputs": [
    {
     "data": {
      "text/plain": [
       "<matplotlib.collections.PathCollection at 0x11d6fe4a8>"
      ]
     },
     "execution_count": 11,
     "metadata": {},
     "output_type": "execute_result"
    },
    {
     "data": {
      "image/png": "[encoded data removed]",
      "text/plain": [
       "<Figure size 432x288 with 1 Axes>"
      ]
     },
     "metadata": {
      "needs_background": "light"
     },
     "output_type": "display_data"
    }
   ],
   "source": [
    "plt.scatter(features[:, 1], labels, color='blue')"
   ]
  },
  {
   "cell_type": "code",
   "execution_count": 12,
   "metadata": {},
   "outputs": [],
   "source": [
    "train, test, train_labels, test_labels = train_test_split(features, labels, test_size = 0.2)"
   ]
  },
  {
   "cell_type": "code",
   "execution_count": 13,
   "metadata": {},
   "outputs": [],
   "source": [
    "lr = LinearRegression(normalize=True)"
   ]
  },
  {
   "cell_type": "code",
   "execution_count": 14,
   "metadata": {},
   "outputs": [],
   "source": [
    "model = lr.fit(train, train_labels)"
   ]
  },
  {
   "cell_type": "code",
   "execution_count": 15,
   "metadata": {
    "scrolled": true
   },
   "outputs": [
    {
     "name": "stdout",
     "output_type": "stream",
     "text": [
      "0.8492963397195818\n"
     ]
    }
   ],
   "source": [
    "score = model.score(test, test_labels)\n",
    "print(score)"
   ]
  },
  {
   "cell_type": "code",
   "execution_count": 18,
   "metadata": {},
   "outputs": [
    {
     "name": "stdout",
     "output_type": "stream",
     "text": [
      "57.45121266811709\n"
     ]
    }
   ],
   "source": [
    "test_pred = model.predict(test)\n",
    "mse_lr = mean_squared_error(test_labels, test_pred)\n",
    "print(mse_lr)"
   ]
  },
  {
   "cell_type": "code",
   "execution_count": 31,
   "metadata": {
    "scrolled": true
   },
   "outputs": [
    {
     "name": "stderr",
     "output_type": "stream",
     "text": [
      "/Library/Frameworks/Python.framework/Versions/3.7/lib/python3.7/site-packages/sklearn/svm/base.py:931: ConvergenceWarning: Liblinear failed to converge, increase the number of iterations.\n",
      "  \"the number of iterations.\", ConvergenceWarning)\n"
     ]
    },
    {
     "data": {
      "text/plain": [
       "0.8124432771233112"
      ]
     },
     "execution_count": 31,
     "metadata": {},
     "output_type": "execute_result"
    }
   ],
   "source": [
    "# Support Vector Machine, but with regression\n",
    "from sklearn.svm import LinearSVR\n",
    "svmRg = LinearSVR(max_iter=1000) #dual=False)\n",
    "svmRg.fit(train, train_labels)\n",
    "svmRgScore = svmRg.score(test, test_labels)\n",
    "svmRgScore # L1 loss score, uses loss function 'epsilon-insensitive'"
   ]
  },
  {
   "cell_type": "code",
   "execution_count": 32,
   "metadata": {},
   "outputs": [
    {
     "name": "stdout",
     "output_type": "stream",
     "text": [
      "71.5003282154777\n"
     ]
    }
   ],
   "source": [
    "test_pred = svmRg.predict(test)\n",
    "mse_svm = mean_squared_error(test_labels, test_pred)\n",
    "print(mse_svm)"
   ]
  },
  {
   "cell_type": "code",
   "execution_count": 33,
   "metadata": {},
   "outputs": [
    {
     "data": {
      "text/plain": [
       "0.8574321268665734"
      ]
     },
     "execution_count": 33,
     "metadata": {},
     "output_type": "execute_result"
    }
   ],
   "source": [
    "# Trying regression again\n",
    "from sklearn.ensemble import ExtraTreesRegressor\n",
    "extTreeRg = ExtraTreesRegressor(n_estimators=100)\n",
    "extTreeRg.fit(train, train_labels)\n",
    "extTreeRgScore = extTreeRg.score(test, test_labels)\n",
    "extTreeRgScore # note: this is R^2 coefficient"
   ]
  },
  {
   "cell_type": "code",
   "execution_count": 34,
   "metadata": {},
   "outputs": [
    {
     "name": "stdout",
     "output_type": "stream",
     "text": [
      "54.34968987341773\n"
     ]
    }
   ],
   "source": [
    "test_pred = extTreeRg.predict(test)\n",
    "mse_etr = mean_squared_error(test_labels, test_pred)\n",
    "print(mse_etr)"
   ]
  },
  {
   "cell_type": "code",
   "execution_count": 35,
   "metadata": {},
   "outputs": [
    {
     "data": {
      "text/plain": [
       "0.8605499718728098"
      ]
     },
     "execution_count": 35,
     "metadata": {},
     "output_type": "execute_result"
    }
   ],
   "source": [
    "from sklearn.ensemble import RandomForestRegressor\n",
    "randForsRg = RandomForestRegressor(n_estimators=100)\n",
    "randForsRg.fit(train, train_labels)\n",
    "randForsRgScore = randForsRg.score(test, test_labels)\n",
    "randForsRgScore # R^2 coefficient"
   ]
  },
  {
   "cell_type": "code",
   "execution_count": 36,
   "metadata": {},
   "outputs": [
    {
     "name": "stdout",
     "output_type": "stream",
     "text": [
      "53.161105759493665\n"
     ]
    }
   ],
   "source": [
    "test_pred = randForsRg.predict(test)\n",
    "mse_rfr = mean_squared_error(test_labels, test_pred)\n",
    "print(mse_rfr)"
   ]
  },
  {
   "cell_type": "markdown",
   "metadata": {},
   "source": [
    "## DF2 Features (on sw_achi)"
   ]
  },
  {
   "cell_type": "code",
   "execution_count": 37,
   "metadata": {},
   "outputs": [
    {
     "data": {
      "text/plain": [
       "pct_native                 float64\n",
       "pct_asian                  float64\n",
       "pct_hispanic               float64\n",
       "pct_black                  float64\n",
       "pct_white                  float64\n",
       "pct_pacisl                 float64\n",
       "pct_mixed                  float64\n",
       "free_lunch                 float64\n",
       "reduced_lunch              float64\n",
       "total                      float64\n",
       "grad_rate_all              float64\n",
       "grad_rate_native           float64\n",
       "grad_rate_asian            float64\n",
       "grad_rate_black            float64\n",
       "grad_rate_hispanic         float64\n",
       "grad_rate_mixed            float64\n",
       "grad_rate_linc             float64\n",
       "total_salaries_ps          float64\n",
       "salaries_instruction_ps    float64\n",
       "salaries_teachers_ps       float64\n",
       "schoolwide_achi_1516       float64\n",
       "schoolwide_achi_1617       float64\n",
       "dtype: object"
      ]
     },
     "execution_count": 37,
     "metadata": {},
     "output_type": "execute_result"
    }
   ],
   "source": [
    "df2_sw_oracle.dtypes"
   ]
  },
  {
   "cell_type": "code",
   "execution_count": 38,
   "metadata": {},
   "outputs": [],
   "source": [
    "data_add = df2_sw_oracle.values"
   ]
  },
  {
   "cell_type": "code",
   "execution_count": 39,
   "metadata": {},
   "outputs": [],
   "source": [
    "features_add = data_add[:, 0:21]\n",
    "labels_add = data_add[:, 21]"
   ]
  },
  {
   "cell_type": "code",
   "execution_count": 40,
   "metadata": {
    "scrolled": true
   },
   "outputs": [
    {
     "data": {
      "text/plain": [
       "<matplotlib.collections.PathCollection at 0x122dc89e8>"
      ]
     },
     "execution_count": 40,
     "metadata": {},
     "output_type": "execute_result"
    },
    {
     "data": {
      "image/png": "[encoded data removed]",
      "text/plain": [
       "<Figure size 432x288 with 1 Axes>"
      ]
     },
     "metadata": {
      "needs_background": "light"
     },
     "output_type": "display_data"
    }
   ],
   "source": [
    "plt.scatter(features_add[:, 1], labels_add, color='blue')"
   ]
  },
  {
   "cell_type": "code",
   "execution_count": 41,
   "metadata": {},
   "outputs": [],
   "source": [
    "train_add, test_add, train_labels_add, test_labels_add = train_test_split(features_add, labels_add, test_size = 0.2)"
   ]
  },
  {
   "cell_type": "code",
   "execution_count": 42,
   "metadata": {},
   "outputs": [],
   "source": [
    "lr_add = LinearRegression(normalize=True)"
   ]
  },
  {
   "cell_type": "code",
   "execution_count": 43,
   "metadata": {},
   "outputs": [],
   "source": [
    "model_add = lr_add.fit(train_add, train_labels_add)"
   ]
  },
  {
   "cell_type": "code",
   "execution_count": 44,
   "metadata": {},
   "outputs": [
    {
     "name": "stdout",
     "output_type": "stream",
     "text": [
      "0.8430233584115601\n"
     ]
    }
   ],
   "source": [
    "score_add = model_add.score(test_add, test_labels_add)\n",
    "print(score_add)"
   ]
  },
  {
   "cell_type": "code",
   "execution_count": 52,
   "metadata": {
    "scrolled": true
   },
   "outputs": [
    {
     "name": "stdout",
     "output_type": "stream",
     "text": [
      "59.76126896152173\n"
     ]
    }
   ],
   "source": [
    "test_pred = model_add.predict(test_add)\n",
    "mse_lr = mean_squared_error(test_labels_add, test_pred_add)\n",
    "print(mse_lr)"
   ]
  },
  {
   "cell_type": "code",
   "execution_count": 46,
   "metadata": {},
   "outputs": [
    {
     "name": "stderr",
     "output_type": "stream",
     "text": [
      "/Library/Frameworks/Python.framework/Versions/3.7/lib/python3.7/site-packages/sklearn/svm/base.py:931: ConvergenceWarning: Liblinear failed to converge, increase the number of iterations.\n",
      "  \"the number of iterations.\", ConvergenceWarning)\n"
     ]
    },
    {
     "data": {
      "text/plain": [
       "0.7616027689297324"
      ]
     },
     "execution_count": 46,
     "metadata": {},
     "output_type": "execute_result"
    }
   ],
   "source": [
    "# Support Vector Machine, but with regression\n",
    "from sklearn.svm import LinearSVR\n",
    "svmRg = LinearSVR(max_iter=100000) #dual=False)\n",
    "svmRg.fit(train, train_labels)\n",
    "svmRgScore = svmRg.score(test, test_labels)\n",
    "svmRgScore # L1 loss score, uses loss function 'epsilon-insensitive'"
   ]
  },
  {
   "cell_type": "code",
   "execution_count": 47,
   "metadata": {},
   "outputs": [
    {
     "name": "stdout",
     "output_type": "stream",
     "text": [
      "90.88173436679176\n"
     ]
    }
   ],
   "source": [
    "test_pred = svmRg.predict(test)\n",
    "mse_svm = mean_squared_error(test_labels, test_pred)\n",
    "print(mse_svm)"
   ]
  },
  {
   "cell_type": "code",
   "execution_count": 48,
   "metadata": {},
   "outputs": [
    {
     "data": {
      "text/plain": [
       "0.8584465513929621"
      ]
     },
     "execution_count": 48,
     "metadata": {},
     "output_type": "execute_result"
    }
   ],
   "source": [
    "# Trying regression again\n",
    "from sklearn.ensemble import ExtraTreesRegressor\n",
    "extTreeRg = ExtraTreesRegressor(n_estimators=100)\n",
    "extTreeRg.fit(train, train_labels)\n",
    "extTreeRgScore = extTreeRg.score(test, test_labels)\n",
    "extTreeRgScore # note: this is R^2 coefficient"
   ]
  },
  {
   "cell_type": "code",
   "execution_count": 49,
   "metadata": {},
   "outputs": [
    {
     "name": "stdout",
     "output_type": "stream",
     "text": [
      "53.96297120253165\n"
     ]
    }
   ],
   "source": [
    "test_pred = extTreeRg.predict(test)\n",
    "mse_etr = mean_squared_error(test_labels, test_pred)\n",
    "print(mse_etr)"
   ]
  },
  {
   "cell_type": "code",
   "execution_count": 50,
   "metadata": {},
   "outputs": [
    {
     "data": {
      "text/plain": [
       "0.8599492095448351"
      ]
     },
     "execution_count": 50,
     "metadata": {},
     "output_type": "execute_result"
    }
   ],
   "source": [
    "from sklearn.ensemble import RandomForestRegressor\n",
    "randForsRg = RandomForestRegressor(n_estimators=100)\n",
    "randForsRg.fit(train, train_labels)\n",
    "randForsRgScore = randForsRg.score(test, test_labels)\n",
    "randForsRgScore # R^2 coefficient"
   ]
  },
  {
   "cell_type": "code",
   "execution_count": 51,
   "metadata": {},
   "outputs": [
    {
     "name": "stdout",
     "output_type": "stream",
     "text": [
      "53.3901282278481\n"
     ]
    }
   ],
   "source": [
    "test_pred = randForsRg.predict(test)\n",
    "mse_rfr = mean_squared_error(test_labels, test_pred)\n",
    "print(mse_rfr)"
   ]
  },
  {
   "cell_type": "markdown",
   "metadata": {},
   "source": [
    "# Oracle Multi-Class Classification (on sw_achi)"
   ]
  },
  {
   "cell_type": "code",
   "execution_count": 127,
   "metadata": {
    "scrolled": false
   },
   "outputs": [
    {
     "name": "stdout",
     "output_type": "stream",
     "text": [
      "max: 99.0\n",
      "min:  1.5\n"
     ]
    }
   ],
   "source": [
    "print('max:', df1_sw_oracle['schoolwide_achi_1617'].max())\n",
    "print('min: ', df1_sw_oracle['schoolwide_achi_1617'].min())"
   ]
  },
  {
   "cell_type": "markdown",
   "metadata": {},
   "source": [
    "# Ten Class"
   ]
  },
  {
   "cell_type": "markdown",
   "metadata": {},
   "source": [
    "## DF1 Features"
   ]
  },
  {
   "cell_type": "code",
   "execution_count": 128,
   "metadata": {},
   "outputs": [],
   "source": [
    "bins = [0, 10, 20, 30, 40, 50, 60, 70, 80, 90, 101]\n",
    "names = ['[0-10)', '[10-20)', '[20-30)', '[30-40)', '[40-50)', '[50-60)', '[60-70)', '[70-80)', '[80-90)', '[90-100]']\n",
    "df1_sw_oracle['schoolwide_achc'] = pd.cut(df1_sw_oracle.schoolwide_achi_1617, bins, labels = names, right = False)"
   ]
  },
  {
   "cell_type": "code",
   "execution_count": 130,
   "metadata": {},
   "outputs": [],
   "source": [
    "ten_class_achidf1_sw_oracle = df1_sw_oracle.values"
   ]
  },
  {
   "cell_type": "code",
   "execution_count": 131,
   "metadata": {},
   "outputs": [],
   "source": [
    "mc_features = ten_class_achidf1_sw_oracle[:, 0:11]\n",
    "mc_labels = ten_class_achidf1_sw_oracle[:, 12]"
   ]
  },
  {
   "cell_type": "code",
   "execution_count": 132,
   "metadata": {},
   "outputs": [],
   "source": [
    "mc_train, mc_test, mc_train_labels, mc_test_labels = train_test_split(mc_features, mc_labels, test_size = 0.2)"
   ]
  },
  {
   "cell_type": "code",
   "execution_count": 133,
   "metadata": {},
   "outputs": [],
   "source": [
    "from sklearn.linear_model import LogisticRegression\n",
    "mclr = LogisticRegression(solver = 'lbfgs', max_iter=10000, multi_class='multinomial')"
   ]
  },
  {
   "cell_type": "code",
   "execution_count": 134,
   "metadata": {},
   "outputs": [
    {
     "name": "stderr",
     "output_type": "stream",
     "text": [
      "/Library/Frameworks/Python.framework/Versions/3.7/lib/python3.7/site-packages/sklearn/linear_model/logistic.py:758: ConvergenceWarning: lbfgs failed to converge. Increase the number of iterations.\n",
      "  \"of iterations.\", ConvergenceWarning)\n"
     ]
    }
   ],
   "source": [
    "mc_model = mclr.fit(mc_train, mc_train_labels)"
   ]
  },
  {
   "cell_type": "code",
   "execution_count": 135,
   "metadata": {
    "scrolled": true
   },
   "outputs": [
    {
     "name": "stdout",
     "output_type": "stream",
     "text": [
      "0.45569620253164556\n"
     ]
    }
   ],
   "source": [
    "mc_score = mc_model.score(mc_test, mc_test_labels)\n",
    "print(mc_score)"
   ]
  },
  {
   "cell_type": "markdown",
   "metadata": {},
   "source": [
    "## DF2 Features"
   ]
  },
  {
   "cell_type": "code",
   "execution_count": 136,
   "metadata": {},
   "outputs": [],
   "source": [
    "bins = [0, 10, 20, 30, 40, 50, 60, 70, 80, 90, 101]\n",
    "names = ['[0-10)', '[10-20)', '[20-30)', '[30-40)', '[40-50)', '[50-60)', '[60-70)', '[70-80)', '[80-90)', '[90-100]']\n",
    "df2_sw_oracle['schoolwide_achc'] = pd.cut(df2_sw_oracle.schoolwide_achi_1617, bins, labels = names, right = False)"
   ]
  },
  {
   "cell_type": "code",
   "execution_count": 143,
   "metadata": {},
   "outputs": [
    {
     "data": {
      "text/plain": [
       "pct_native                  float64\n",
       "pct_asian                   float64\n",
       "pct_hispanic                float64\n",
       "pct_black                   float64\n",
       "pct_white                   float64\n",
       "pct_pacisl                  float64\n",
       "pct_mixed                   float64\n",
       "free_lunch                  float64\n",
       "reduced_lunch               float64\n",
       "total                       float64\n",
       "grad_rate_all               float64\n",
       "grad_rate_native            float64\n",
       "grad_rate_asian             float64\n",
       "grad_rate_black             float64\n",
       "grad_rate_hispanic          float64\n",
       "grad_rate_mixed             float64\n",
       "grad_rate_linc              float64\n",
       "total_salaries_ps           float64\n",
       "salaries_instruction_ps     float64\n",
       "salaries_teachers_ps        float64\n",
       "schoolwide_achi_1516        float64\n",
       "schoolwide_achi_1617        float64\n",
       "schoolwide_achc            category\n",
       "dtype: object"
      ]
     },
     "execution_count": 143,
     "metadata": {},
     "output_type": "execute_result"
    }
   ],
   "source": [
    "df2_sw_oracle.dtypes"
   ]
  },
  {
   "cell_type": "code",
   "execution_count": 137,
   "metadata": {},
   "outputs": [],
   "source": [
    "ten_class_achidf2_sw_oracle = df2_sw_oracle.values"
   ]
  },
  {
   "cell_type": "code",
   "execution_count": 144,
   "metadata": {},
   "outputs": [],
   "source": [
    "mc_features_add = ten_class_achidf2_sw_oracle[:, 0:21]\n",
    "mc_labels_add = ten_class_achidf2_sw_oracle[:, 22]"
   ]
  },
  {
   "cell_type": "code",
   "execution_count": 145,
   "metadata": {},
   "outputs": [],
   "source": [
    "mc_train_add, mc_test_add, mc_train_labels_add, mc_test_labels_add = train_test_split(mc_features_add, mc_labels_add, test_size = 0.2)"
   ]
  },
  {
   "cell_type": "code",
   "execution_count": 146,
   "metadata": {},
   "outputs": [],
   "source": [
    "mclr_add = LogisticRegression(solver = 'lbfgs', max_iter=10000, multi_class='multinomial')"
   ]
  },
  {
   "cell_type": "code",
   "execution_count": 147,
   "metadata": {},
   "outputs": [
    {
     "name": "stderr",
     "output_type": "stream",
     "text": [
      "/Library/Frameworks/Python.framework/Versions/3.7/lib/python3.7/site-packages/sklearn/linear_model/logistic.py:758: ConvergenceWarning: lbfgs failed to converge. Increase the number of iterations.\n",
      "  \"of iterations.\", ConvergenceWarning)\n"
     ]
    }
   ],
   "source": [
    "mc_model_add = mclr_add.fit(mc_train_add, mc_train_labels_add)"
   ]
  },
  {
   "cell_type": "code",
   "execution_count": 148,
   "metadata": {
    "scrolled": false
   },
   "outputs": [
    {
     "name": "stdout",
     "output_type": "stream",
     "text": [
      "0.2519809825673534\n"
     ]
    }
   ],
   "source": [
    "mc_score_add = mc_model_add.score(mc_test_add, mc_test_labels_add)\n",
    "print(mc_score_add)"
   ]
  },
  {
   "cell_type": "markdown",
   "metadata": {},
   "source": [
    "# Four Class"
   ]
  },
  {
   "cell_type": "markdown",
   "metadata": {},
   "source": [
    "## DF1 Features"
   ]
  },
  {
   "cell_type": "code",
   "execution_count": 149,
   "metadata": {},
   "outputs": [],
   "source": [
    "bins = [0, 25, 50, 75, 101]\n",
    "names = ['[0-25)', '[25-50)', '[50-75)', '[75-100]']\n",
    "df1_sw_oracle['schoolwide_achc'] = pd.cut(df1_sw_oracle.schoolwide_achi_1617, bins, labels = names, right = False)"
   ]
  },
  {
   "cell_type": "code",
   "execution_count": 150,
   "metadata": {},
   "outputs": [],
   "source": [
    "four_class_achidf1_sw_oracle = df1_sw_oracle.values"
   ]
  },
  {
   "cell_type": "code",
   "execution_count": 151,
   "metadata": {},
   "outputs": [],
   "source": [
    "mc_features = four_class_achidf1_sw_oracle[:, 0:11]\n",
    "mc_labels = four_class_achidf1_sw_oracle[:, 12]"
   ]
  },
  {
   "cell_type": "code",
   "execution_count": 152,
   "metadata": {},
   "outputs": [],
   "source": [
    "mc_train, mc_test, mc_train_labels, mc_test_labels = train_test_split(mc_features, mc_labels, test_size = 0.2)"
   ]
  },
  {
   "cell_type": "code",
   "execution_count": 153,
   "metadata": {},
   "outputs": [],
   "source": [
    "from sklearn.linear_model import LogisticRegression\n",
    "mclr = LogisticRegression(solver = 'lbfgs', max_iter=10000, multi_class='multinomial')"
   ]
  },
  {
   "cell_type": "code",
   "execution_count": 154,
   "metadata": {},
   "outputs": [],
   "source": [
    "mc_model = mclr.fit(mc_train, mc_train_labels)"
   ]
  },
  {
   "cell_type": "code",
   "execution_count": 155,
   "metadata": {
    "scrolled": true
   },
   "outputs": [
    {
     "name": "stdout",
     "output_type": "stream",
     "text": [
      "0.7848101265822784\n"
     ]
    }
   ],
   "source": [
    "mc_score = mc_model.score(mc_test, mc_test_labels)\n",
    "print(mc_score)"
   ]
  },
  {
   "cell_type": "markdown",
   "metadata": {},
   "source": [
    "## DF2 Features"
   ]
  },
  {
   "cell_type": "code",
   "execution_count": 156,
   "metadata": {},
   "outputs": [],
   "source": [
    "bins = [0, 25, 50, 75, 101]\n",
    "names = ['[0-25)', '[25-50)', '[50-75)', '[75-100]']\n",
    "df2_sw_oracle['schoolwide_achc'] = pd.cut(df2_sw_oracle.schoolwide_achi_1617, bins, labels = names, right = False)"
   ]
  },
  {
   "cell_type": "code",
   "execution_count": 163,
   "metadata": {},
   "outputs": [
    {
     "data": {
      "text/plain": [
       "pct_native                  float64\n",
       "pct_asian                   float64\n",
       "pct_hispanic                float64\n",
       "pct_black                   float64\n",
       "pct_white                   float64\n",
       "pct_pacisl                  float64\n",
       "pct_mixed                   float64\n",
       "free_lunch                  float64\n",
       "reduced_lunch               float64\n",
       "total                       float64\n",
       "grad_rate_all               float64\n",
       "grad_rate_native            float64\n",
       "grad_rate_asian             float64\n",
       "grad_rate_black             float64\n",
       "grad_rate_hispanic          float64\n",
       "grad_rate_mixed             float64\n",
       "grad_rate_linc              float64\n",
       "total_salaries_ps           float64\n",
       "salaries_instruction_ps     float64\n",
       "salaries_teachers_ps        float64\n",
       "schoolwide_achi_1516        float64\n",
       "schoolwide_achi_1617        float64\n",
       "schoolwide_achc            category\n",
       "dtype: object"
      ]
     },
     "execution_count": 163,
     "metadata": {},
     "output_type": "execute_result"
    }
   ],
   "source": [
    "df2_sw_oracle.dtypes"
   ]
  },
  {
   "cell_type": "code",
   "execution_count": 164,
   "metadata": {},
   "outputs": [],
   "source": [
    "four_class_achidf2_sw_oracle = df2_sw_oracle.values"
   ]
  },
  {
   "cell_type": "code",
   "execution_count": 165,
   "metadata": {},
   "outputs": [],
   "source": [
    "mc_features_add = four_class_achidf2_sw_oracle[:, 0:21]\n",
    "mc_labels_add = four_class_achidf2_sw_oracle[:, 22]"
   ]
  },
  {
   "cell_type": "code",
   "execution_count": 166,
   "metadata": {},
   "outputs": [],
   "source": [
    "mc_train_add, mc_test_add, mc_train_labels_add, mc_test_labels_add = train_test_split(mc_features_add, mc_labels_add, test_size = 0.2)"
   ]
  },
  {
   "cell_type": "code",
   "execution_count": 167,
   "metadata": {},
   "outputs": [],
   "source": [
    "mclr_add = LogisticRegression(solver = 'lbfgs', max_iter=10000, multi_class='multinomial')"
   ]
  },
  {
   "cell_type": "code",
   "execution_count": 168,
   "metadata": {},
   "outputs": [],
   "source": [
    "mc_model_add = mclr_add.fit(mc_train_add, mc_train_labels_add)"
   ]
  },
  {
   "cell_type": "code",
   "execution_count": 169,
   "metadata": {
    "scrolled": false
   },
   "outputs": [
    {
     "name": "stdout",
     "output_type": "stream",
     "text": [
      "0.43898573692551507\n"
     ]
    }
   ],
   "source": [
    "mc_score_add = mc_model_add.score(mc_test_add, mc_test_labels_add)\n",
    "print(mc_score_add)"
   ]
  }
 ],
 "metadata": {
  "kernelspec": {
   "display_name": "Python 3",
   "language": "python",
   "name": "python3"
  },
  "language_info": {
   "codemirror_mode": {
    "name": "ipython",
    "version": 3
   },
   "file_extension": ".py",
   "mimetype": "text/x-python",
   "name": "python",
   "nbconvert_exporter": "python",
   "pygments_lexer": "ipython3",
   "version": "3.7.1"
  }
 },
 "nbformat": 4,
 "nbformat_minor": 2
}
