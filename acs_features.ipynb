{
 "cells": [
  {
   "cell_type": "code",
   "execution_count": 1,
   "metadata": {},
   "outputs": [],
   "source": [
    "import pandas as pd\n",
    "import numpy as np\n",
    "import matplotlib.pyplot as plt\n",
    "\n",
    "import sklearn\n",
    "from sklearn.model_selection import train_test_split\n",
    "from sklearn.linear_model import LinearRegression\n",
    "from sklearn.metrics import accuracy_score\n",
    "from sklearn.metrics import r2_score"
   ]
  },
  {
   "cell_type": "code",
   "execution_count": 2,
   "metadata": {},
   "outputs": [],
   "source": [
    "acs = pd.read_csv(\"nhgis.csv\", sep=\",\", encoding='latin-1')"
   ]
  },
  {
   "cell_type": "code",
   "execution_count": 3,
   "metadata": {},
   "outputs": [],
   "source": [
    "acs = acs.drop(['GISJOIN', 'YEAR', 'REGIONA', 'DIVISIONA', 'STATE', 'COUNTY', 'COUSUBA', 'PLACEA', 'NAME_E'], axis=1)"
   ]
  },
  {
   "cell_type": "code",
   "execution_count": 4,
   "metadata": {},
   "outputs": [],
   "source": [
    "acs.STATEA = acs.STATEA.astype(str)\n",
    "acs.COUNTYA = acs.COUNTYA.astype(str)\n",
    "acs.TRACTA = acs.TRACTA.astype(str)\n",
    "acs.BLKGRPA = acs.BLKGRPA.astype(str)"
   ]
  },
  {
   "cell_type": "code",
   "execution_count": 5,
   "metadata": {},
   "outputs": [],
   "source": [
    "acs.STATEA = acs.STATEA.str.zfill(2)\n",
    "acs.COUNTYA = acs.COUNTYA.str.zfill(3)\n",
    "acs.TRACTA = acs.TRACTA.str.zfill(6)\n",
    "#acs.BLKGRPA = acs.BLKGRPA.str.zfill(4)"
   ]
  },
  {
   "cell_type": "code",
   "execution_count": 6,
   "metadata": {},
   "outputs": [],
   "source": [
    "acs.BLKGRPA = acs.STATEA + acs.COUNTYA + acs.TRACTA + acs.BLKGRPA"
   ]
  },
  {
   "cell_type": "code",
   "execution_count": 7,
   "metadata": {},
   "outputs": [],
   "source": [
    "acs = acs.drop(['STATEA', 'COUNTYA', 'TRACTA'], axis=1)\n",
    "acs = acs.rename(columns={'BLKGRPA': 'BLKGRP'})"
   ]
  },
  {
   "cell_type": "code",
   "execution_count": null,
   "metadata": {},
   "outputs": [],
   "source": [
    "#TODO: pick out features of interest from acs data"
   ]
  },
  {
   "cell_type": "code",
   "execution_count": 8,
   "metadata": {},
   "outputs": [],
   "source": [
    "relation = pd.read_excel(\"grf18_lea_blkgrp.xlsx\")"
   ]
  },
  {
   "cell_type": "code",
   "execution_count": 9,
   "metadata": {
    "scrolled": true
   },
   "outputs": [],
   "source": [
    "relation = relation.rename(columns={'LEAID': 'district_id'})\n",
    "relation.district_id = relation.district_id.astype(float)\n",
    "relation = relation[['district_id', 'BLKGRP', 'LANDAREA']]"
   ]
  },
  {
   "cell_type": "code",
   "execution_count": 10,
   "metadata": {},
   "outputs": [],
   "source": [
    "relation.BLKGRP = relation.BLKGRP.astype(str)\n",
    "relation.BLKGRP = relation.BLKGRP.str.zfill(12)"
   ]
  },
  {
   "cell_type": "code",
   "execution_count": 11,
   "metadata": {},
   "outputs": [],
   "source": [
    "demos = pd.read_csv(\"demos_clean.csv\")\n",
    "demos.drop(demos.columns[[0, 1, 2]], axis=1, inplace=True)"
   ]
  },
  {
   "cell_type": "code",
   "execution_count": 12,
   "metadata": {},
   "outputs": [],
   "source": [
    "df1 = pd.merge(relation, demos, on='district_id', how='inner')"
   ]
  },
  {
   "cell_type": "code",
   "execution_count": 13,
   "metadata": {
    "scrolled": true
   },
   "outputs": [
    {
     "data": {
      "text/html": [
       "<div>\n",
       "<style scoped>\n",
       "    .dataframe tbody tr th:only-of-type {\n",
       "        vertical-align: middle;\n",
       "    }\n",
       "\n",
       "    .dataframe tbody tr th {\n",
       "        vertical-align: top;\n",
       "    }\n",
       "\n",
       "    .dataframe thead th {\n",
       "        text-align: right;\n",
       "    }\n",
       "</style>\n",
       "<table border=\"1\" class=\"dataframe\">\n",
       "  <thead>\n",
       "    <tr style=\"text-align: right;\">\n",
       "      <th></th>\n",
       "      <th>district_id</th>\n",
       "      <th>BLKGRP</th>\n",
       "      <th>LANDAREA</th>\n",
       "      <th>school_id</th>\n",
       "      <th>pct_native</th>\n",
       "      <th>pct_asian</th>\n",
       "      <th>pct_hispanic</th>\n",
       "      <th>pct_black</th>\n",
       "      <th>pct_white</th>\n",
       "      <th>pct_pacisl</th>\n",
       "      <th>pct_mixed</th>\n",
       "      <th>total_race</th>\n",
       "      <th>free_lunch</th>\n",
       "      <th>reduced_lunch</th>\n",
       "      <th>total</th>\n",
       "    </tr>\n",
       "  </thead>\n",
       "  <tbody>\n",
       "    <tr>\n",
       "      <th>0</th>\n",
       "      <td>100005.0</td>\n",
       "      <td>010950307011</td>\n",
       "      <td>0.049445</td>\n",
       "      <td>1.000050e+10</td>\n",
       "      <td>0.00219</td>\n",
       "      <td>0.006569</td>\n",
       "      <td>0.40146</td>\n",
       "      <td>0.027737</td>\n",
       "      <td>0.543796</td>\n",
       "      <td>0.00146</td>\n",
       "      <td>0.016788</td>\n",
       "      <td>1370.0</td>\n",
       "      <td>0.310949</td>\n",
       "      <td>NaN</td>\n",
       "      <td>1370.0</td>\n",
       "    </tr>\n",
       "    <tr>\n",
       "      <th>1</th>\n",
       "      <td>100005.0</td>\n",
       "      <td>010950307012</td>\n",
       "      <td>2.066567</td>\n",
       "      <td>1.000050e+10</td>\n",
       "      <td>0.00219</td>\n",
       "      <td>0.006569</td>\n",
       "      <td>0.40146</td>\n",
       "      <td>0.027737</td>\n",
       "      <td>0.543796</td>\n",
       "      <td>0.00146</td>\n",
       "      <td>0.016788</td>\n",
       "      <td>1370.0</td>\n",
       "      <td>0.310949</td>\n",
       "      <td>NaN</td>\n",
       "      <td>1370.0</td>\n",
       "    </tr>\n",
       "    <tr>\n",
       "      <th>2</th>\n",
       "      <td>100005.0</td>\n",
       "      <td>010950307024</td>\n",
       "      <td>0.800889</td>\n",
       "      <td>1.000050e+10</td>\n",
       "      <td>0.00219</td>\n",
       "      <td>0.006569</td>\n",
       "      <td>0.40146</td>\n",
       "      <td>0.027737</td>\n",
       "      <td>0.543796</td>\n",
       "      <td>0.00146</td>\n",
       "      <td>0.016788</td>\n",
       "      <td>1370.0</td>\n",
       "      <td>0.310949</td>\n",
       "      <td>NaN</td>\n",
       "      <td>1370.0</td>\n",
       "    </tr>\n",
       "    <tr>\n",
       "      <th>3</th>\n",
       "      <td>100005.0</td>\n",
       "      <td>010950308011</td>\n",
       "      <td>0.852707</td>\n",
       "      <td>1.000050e+10</td>\n",
       "      <td>0.00219</td>\n",
       "      <td>0.006569</td>\n",
       "      <td>0.40146</td>\n",
       "      <td>0.027737</td>\n",
       "      <td>0.543796</td>\n",
       "      <td>0.00146</td>\n",
       "      <td>0.016788</td>\n",
       "      <td>1370.0</td>\n",
       "      <td>0.310949</td>\n",
       "      <td>NaN</td>\n",
       "      <td>1370.0</td>\n",
       "    </tr>\n",
       "    <tr>\n",
       "      <th>4</th>\n",
       "      <td>100005.0</td>\n",
       "      <td>010950308012</td>\n",
       "      <td>1.957542</td>\n",
       "      <td>1.000050e+10</td>\n",
       "      <td>0.00219</td>\n",
       "      <td>0.006569</td>\n",
       "      <td>0.40146</td>\n",
       "      <td>0.027737</td>\n",
       "      <td>0.543796</td>\n",
       "      <td>0.00146</td>\n",
       "      <td>0.016788</td>\n",
       "      <td>1370.0</td>\n",
       "      <td>0.310949</td>\n",
       "      <td>NaN</td>\n",
       "      <td>1370.0</td>\n",
       "    </tr>\n",
       "  </tbody>\n",
       "</table>\n",
       "</div>"
      ],
      "text/plain": [
       "   district_id        BLKGRP  LANDAREA     school_id  pct_native  pct_asian  \\\n",
       "0     100005.0  010950307011  0.049445  1.000050e+10     0.00219   0.006569   \n",
       "1     100005.0  010950307012  2.066567  1.000050e+10     0.00219   0.006569   \n",
       "2     100005.0  010950307024  0.800889  1.000050e+10     0.00219   0.006569   \n",
       "3     100005.0  010950308011  0.852707  1.000050e+10     0.00219   0.006569   \n",
       "4     100005.0  010950308012  1.957542  1.000050e+10     0.00219   0.006569   \n",
       "\n",
       "   pct_hispanic  pct_black  pct_white  pct_pacisl  pct_mixed  total_race  \\\n",
       "0       0.40146   0.027737   0.543796     0.00146   0.016788      1370.0   \n",
       "1       0.40146   0.027737   0.543796     0.00146   0.016788      1370.0   \n",
       "2       0.40146   0.027737   0.543796     0.00146   0.016788      1370.0   \n",
       "3       0.40146   0.027737   0.543796     0.00146   0.016788      1370.0   \n",
       "4       0.40146   0.027737   0.543796     0.00146   0.016788      1370.0   \n",
       "\n",
       "   free_lunch  reduced_lunch   total  \n",
       "0    0.310949            NaN  1370.0  \n",
       "1    0.310949            NaN  1370.0  \n",
       "2    0.310949            NaN  1370.0  \n",
       "3    0.310949            NaN  1370.0  \n",
       "4    0.310949            NaN  1370.0  "
      ]
     },
     "execution_count": 13,
     "metadata": {},
     "output_type": "execute_result"
    }
   ],
   "source": [
    "df1.head()"
   ]
  },
  {
   "cell_type": "code",
   "execution_count": 14,
   "metadata": {},
   "outputs": [],
   "source": [
    "df1 = pd.merge(df1, acs, on='BLKGRP', how='inner')"
   ]
  }
 ],
 "metadata": {
  "kernelspec": {
   "display_name": "Python 3",
   "language": "python",
   "name": "python3"
  },
  "language_info": {
   "codemirror_mode": {
    "name": "ipython",
    "version": 3
   },
   "file_extension": ".py",
   "mimetype": "text/x-python",
   "name": "python",
   "nbconvert_exporter": "python",
   "pygments_lexer": "ipython3",
   "version": "3.7.1"
  }
 },
 "nbformat": 4,
 "nbformat_minor": 2
}
