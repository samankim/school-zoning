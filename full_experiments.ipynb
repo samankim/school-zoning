{
 "cells": [
  {
   "cell_type": "code",
   "execution_count": 169,
   "metadata": {},
   "outputs": [],
   "source": [
    "import pandas as pd\n",
    "import numpy as np\n",
    "import matplotlib.pyplot as plt\n",
    "\n",
    "import sklearn\n",
    "from sklearn.model_selection import train_test_split\n",
    "from sklearn.linear_model import LinearRegression\n",
    "from sklearn import linear_model\n",
    "from sklearn.svm import LinearSVR\n",
    "from sklearn.ensemble import ExtraTreesRegressor\n",
    "from sklearn.ensemble import RandomForestRegressor\n",
    "from sklearn.ensemble import AdaBoostRegressor\n",
    "from sklearn.ensemble import GradientBoostingRegressor\n",
    "from sklearn.ensemble import BaggingRegressor\n",
    "\n",
    "from sklearn.metrics import r2_score\n",
    "from sklearn.metrics import mean_squared_error\n",
    "\n",
    "import mlxtend\n",
    "from mlxtend.regressor import StackingRegressor\n",
    "from sklearn.svm import SVR"
   ]
  },
  {
   "cell_type": "code",
   "execution_count": 31,
   "metadata": {},
   "outputs": [],
   "source": [
    "df = pd.read_csv(\"pf_medianagg.csv\")\n",
    "df.drop(df.columns[[0]], axis=1, inplace=True)"
   ]
  },
  {
   "cell_type": "code",
   "execution_count": 32,
   "metadata": {
    "scrolled": false
   },
   "outputs": [
    {
     "data": {
      "text/html": [
       "<div>\n",
       "<style scoped>\n",
       "    .dataframe tbody tr th:only-of-type {\n",
       "        vertical-align: middle;\n",
       "    }\n",
       "\n",
       "    .dataframe tbody tr th {\n",
       "        vertical-align: top;\n",
       "    }\n",
       "\n",
       "    .dataframe thead th {\n",
       "        text-align: right;\n",
       "    }\n",
       "</style>\n",
       "<table border=\"1\" class=\"dataframe\">\n",
       "  <thead>\n",
       "    <tr style=\"text-align: right;\">\n",
       "      <th></th>\n",
       "      <th>school_id</th>\n",
       "      <th>pct_native</th>\n",
       "      <th>pct_asian</th>\n",
       "      <th>pct_hispanic</th>\n",
       "      <th>pct_black</th>\n",
       "      <th>pct_white</th>\n",
       "      <th>pct_pacisl</th>\n",
       "      <th>pct_mixed</th>\n",
       "      <th>free_lunch</th>\n",
       "      <th>reduced_lunch</th>\n",
       "      <th>...</th>\n",
       "      <th>LANDAREA</th>\n",
       "      <th>r_native</th>\n",
       "      <th>r_asian</th>\n",
       "      <th>r_hispanic</th>\n",
       "      <th>r_black</th>\n",
       "      <th>r_white</th>\n",
       "      <th>r_pacisl</th>\n",
       "      <th>r_mixed</th>\n",
       "      <th>r_foodassist</th>\n",
       "      <th>schoolwide_achi</th>\n",
       "    </tr>\n",
       "  </thead>\n",
       "  <tbody>\n",
       "    <tr>\n",
       "      <th>0</th>\n",
       "      <td>1.000050e+10</td>\n",
       "      <td>0.002190</td>\n",
       "      <td>0.006569</td>\n",
       "      <td>0.401460</td>\n",
       "      <td>0.027737</td>\n",
       "      <td>0.543796</td>\n",
       "      <td>0.001460</td>\n",
       "      <td>0.016788</td>\n",
       "      <td>0.310949</td>\n",
       "      <td>0.076343</td>\n",
       "      <td>...</td>\n",
       "      <td>26.779523</td>\n",
       "      <td>inf</td>\n",
       "      <td>inf</td>\n",
       "      <td>24.645257</td>\n",
       "      <td>147.527906</td>\n",
       "      <td>12.947729</td>\n",
       "      <td>inf</td>\n",
       "      <td>25.795815</td>\n",
       "      <td>1.946739</td>\n",
       "      <td>20.0</td>\n",
       "    </tr>\n",
       "    <tr>\n",
       "      <th>1</th>\n",
       "      <td>1.000060e+10</td>\n",
       "      <td>0.000000</td>\n",
       "      <td>0.002933</td>\n",
       "      <td>0.043988</td>\n",
       "      <td>0.020528</td>\n",
       "      <td>0.926686</td>\n",
       "      <td>0.000000</td>\n",
       "      <td>0.005865</td>\n",
       "      <td>0.563050</td>\n",
       "      <td>0.046921</td>\n",
       "      <td>...</td>\n",
       "      <td>488.942901</td>\n",
       "      <td>NaN</td>\n",
       "      <td>inf</td>\n",
       "      <td>NaN</td>\n",
       "      <td>inf</td>\n",
       "      <td>61.245940</td>\n",
       "      <td>NaN</td>\n",
       "      <td>24.188270</td>\n",
       "      <td>4.208489</td>\n",
       "      <td>14.5</td>\n",
       "    </tr>\n",
       "    <tr>\n",
       "      <th>2</th>\n",
       "      <td>1.000060e+10</td>\n",
       "      <td>0.016639</td>\n",
       "      <td>0.004992</td>\n",
       "      <td>0.277870</td>\n",
       "      <td>0.011647</td>\n",
       "      <td>0.687188</td>\n",
       "      <td>0.000000</td>\n",
       "      <td>0.001664</td>\n",
       "      <td>0.623960</td>\n",
       "      <td>0.089850</td>\n",
       "      <td>...</td>\n",
       "      <td>488.942901</td>\n",
       "      <td>inf</td>\n",
       "      <td>inf</td>\n",
       "      <td>NaN</td>\n",
       "      <td>inf</td>\n",
       "      <td>45.417181</td>\n",
       "      <td>NaN</td>\n",
       "      <td>6.862063</td>\n",
       "      <td>4.663760</td>\n",
       "      <td>15.0</td>\n",
       "    </tr>\n",
       "    <tr>\n",
       "      <th>3</th>\n",
       "      <td>1.000060e+10</td>\n",
       "      <td>0.004386</td>\n",
       "      <td>0.004386</td>\n",
       "      <td>0.019737</td>\n",
       "      <td>0.010965</td>\n",
       "      <td>0.953947</td>\n",
       "      <td>0.000000</td>\n",
       "      <td>0.006579</td>\n",
       "      <td>0.381579</td>\n",
       "      <td>0.054825</td>\n",
       "      <td>...</td>\n",
       "      <td>488.942901</td>\n",
       "      <td>inf</td>\n",
       "      <td>inf</td>\n",
       "      <td>NaN</td>\n",
       "      <td>inf</td>\n",
       "      <td>63.047666</td>\n",
       "      <td>NaN</td>\n",
       "      <td>27.132237</td>\n",
       "      <td>2.852094</td>\n",
       "      <td>30.0</td>\n",
       "    </tr>\n",
       "    <tr>\n",
       "      <th>4</th>\n",
       "      <td>1.016900e+10</td>\n",
       "      <td>0.003289</td>\n",
       "      <td>0.011513</td>\n",
       "      <td>0.078947</td>\n",
       "      <td>0.078947</td>\n",
       "      <td>0.794408</td>\n",
       "      <td>0.001645</td>\n",
       "      <td>0.031250</td>\n",
       "      <td>0.328947</td>\n",
       "      <td>0.019737</td>\n",
       "      <td>...</td>\n",
       "      <td>25.386423</td>\n",
       "      <td>inf</td>\n",
       "      <td>45.443481</td>\n",
       "      <td>26.543576</td>\n",
       "      <td>67.210526</td>\n",
       "      <td>13.824289</td>\n",
       "      <td>inf</td>\n",
       "      <td>34.790064</td>\n",
       "      <td>2.038661</td>\n",
       "      <td>30.0</td>\n",
       "    </tr>\n",
       "  </tbody>\n",
       "</table>\n",
       "<p>5 rows × 66 columns</p>\n",
       "</div>"
      ],
      "text/plain": [
       "      school_id  pct_native  pct_asian  pct_hispanic  pct_black  pct_white  \\\n",
       "0  1.000050e+10    0.002190   0.006569      0.401460   0.027737   0.543796   \n",
       "1  1.000060e+10    0.000000   0.002933      0.043988   0.020528   0.926686   \n",
       "2  1.000060e+10    0.016639   0.004992      0.277870   0.011647   0.687188   \n",
       "3  1.000060e+10    0.004386   0.004386      0.019737   0.010965   0.953947   \n",
       "4  1.016900e+10    0.003289   0.011513      0.078947   0.078947   0.794408   \n",
       "\n",
       "   pct_pacisl  pct_mixed  free_lunch  reduced_lunch  ...    LANDAREA  \\\n",
       "0    0.001460   0.016788    0.310949       0.076343  ...   26.779523   \n",
       "1    0.000000   0.005865    0.563050       0.046921  ...  488.942901   \n",
       "2    0.000000   0.001664    0.623960       0.089850  ...  488.942901   \n",
       "3    0.000000   0.006579    0.381579       0.054825  ...  488.942901   \n",
       "4    0.001645   0.031250    0.328947       0.019737  ...   25.386423   \n",
       "\n",
       "   r_native    r_asian  r_hispanic     r_black    r_white  r_pacisl  \\\n",
       "0       inf        inf   24.645257  147.527906  12.947729       inf   \n",
       "1       NaN        inf         NaN         inf  61.245940       NaN   \n",
       "2       inf        inf         NaN         inf  45.417181       NaN   \n",
       "3       inf        inf         NaN         inf  63.047666       NaN   \n",
       "4       inf  45.443481   26.543576   67.210526  13.824289       inf   \n",
       "\n",
       "     r_mixed  r_foodassist  schoolwide_achi  \n",
       "0  25.795815      1.946739             20.0  \n",
       "1  24.188270      4.208489             14.5  \n",
       "2   6.862063      4.663760             15.0  \n",
       "3  27.132237      2.852094             30.0  \n",
       "4  34.790064      2.038661             30.0  \n",
       "\n",
       "[5 rows x 66 columns]"
      ]
     },
     "execution_count": 32,
     "metadata": {},
     "output_type": "execute_result"
    }
   ],
   "source": [
    "df.head()"
   ]
  },
  {
   "cell_type": "code",
   "execution_count": 33,
   "metadata": {},
   "outputs": [],
   "source": [
    "df = df.replace([np.inf, -np.inf], np.nan)\n",
    "for i in range(len(df.columns)):\n",
    "    df.iloc[:, i] = df.iloc[:, i].fillna(df.iloc[:, i].median(skipna=True))"
   ]
  },
  {
   "cell_type": "code",
   "execution_count": 34,
   "metadata": {
    "scrolled": false
   },
   "outputs": [
    {
     "data": {
      "text/plain": [
       "[(0, 'school_id'),\n",
       " (1, 'pct_native'),\n",
       " (2, 'pct_asian'),\n",
       " (3, 'pct_hispanic'),\n",
       " (4, 'pct_black'),\n",
       " (5, 'pct_white'),\n",
       " (6, 'pct_pacisl'),\n",
       " (7, 'pct_mixed'),\n",
       " (8, 'free_lunch'),\n",
       " (9, 'reduced_lunch'),\n",
       " (10, 'total'),\n",
       " (11, 'grad_rate_all'),\n",
       " (12, 'grad_rate_native'),\n",
       " (13, 'grad_rate_asian'),\n",
       " (14, 'grad_rate_black'),\n",
       " (15, 'grad_rate_hispanic'),\n",
       " (16, 'grad_rate_mixed'),\n",
       " (17, 'grad_rate_linc'),\n",
       " (18, 'total_salaries_ps'),\n",
       " (19, 'salaries_instruction_ps'),\n",
       " (20, 'salaries_teachers_ps'),\n",
       " (21, 'AHY1E001'),\n",
       " (22, 'AHY2E002'),\n",
       " (23, 'AHY2E003'),\n",
       " (24, 'AHY2E004'),\n",
       " (25, 'AHY2E005'),\n",
       " (26, 'AHY2E006'),\n",
       " (27, 'AHY2E007'),\n",
       " (28, 'AHY2E008'),\n",
       " (29, 'AHZBE003'),\n",
       " (30, 'AHZUE009'),\n",
       " (31, 'AHZUE015'),\n",
       " (32, 'AH04E017'),\n",
       " (33, 'AH04E018'),\n",
       " (34, 'AH04E022'),\n",
       " (35, 'AH04E023'),\n",
       " (36, 'AH04E024'),\n",
       " (37, 'AH04E025'),\n",
       " (38, 'AH1JE002'),\n",
       " (39, 'AH1JE003'),\n",
       " (40, 'AH1JE004'),\n",
       " (41, 'AH1JE005'),\n",
       " (42, 'AH1JE006'),\n",
       " (43, 'AH1JE007'),\n",
       " (44, 'AH1JE008'),\n",
       " (45, 'AH1KE002'),\n",
       " (46, 'AH1LE001'),\n",
       " (47, 'AH1PE001'),\n",
       " (48, 'AH19E002'),\n",
       " (49, 'AH19E003'),\n",
       " (50, 'AH3IE002'),\n",
       " (51, 'AH3IE003'),\n",
       " (52, 'AH3IE004'),\n",
       " (53, 'AH3IE005'),\n",
       " (54, 'AH5RE001'),\n",
       " (55, 'pop_density'),\n",
       " (56, 'LANDAREA'),\n",
       " (57, 'r_native'),\n",
       " (58, 'r_asian'),\n",
       " (59, 'r_hispanic'),\n",
       " (60, 'r_black'),\n",
       " (61, 'r_white'),\n",
       " (62, 'r_pacisl'),\n",
       " (63, 'r_mixed'),\n",
       " (64, 'r_foodassist'),\n",
       " (65, 'schoolwide_achi')]"
      ]
     },
     "execution_count": 34,
     "metadata": {},
     "output_type": "execute_result"
    }
   ],
   "source": [
    "[(df.columns.get_loc(c), c) for c in df.columns]"
   ]
  },
  {
   "cell_type": "markdown",
   "metadata": {},
   "source": [
    "## Column Selection 1"
   ]
  },
  {
   "cell_type": "code",
   "execution_count": 35,
   "metadata": {},
   "outputs": [],
   "source": [
    "cols = df.columns.tolist()\n",
    "cols_s1 = cols[0:6] + cols[7:9] + cols[11:12] + cols[13:16] + cols[17:19] + cols[21:22] + cols[32:44] + cols[45:50] + cols[53:54] + cols[57:63] + cols[64:]\n",
    "df1 = df[cols_s1]"
   ]
  },
  {
   "cell_type": "code",
   "execution_count": 36,
   "metadata": {},
   "outputs": [],
   "source": [
    "data = df1.values"
   ]
  },
  {
   "cell_type": "code",
   "execution_count": 37,
   "metadata": {
    "scrolled": true
   },
   "outputs": [
    {
     "data": {
      "text/plain": [
       "(3000, 41)"
      ]
     },
     "execution_count": 37,
     "metadata": {},
     "output_type": "execute_result"
    }
   ],
   "source": [
    "data.shape"
   ]
  },
  {
   "cell_type": "code",
   "execution_count": 39,
   "metadata": {},
   "outputs": [],
   "source": [
    "features = data[:, 0:40]\n",
    "labels = data[:, 40]"
   ]
  },
  {
   "cell_type": "code",
   "execution_count": 40,
   "metadata": {},
   "outputs": [],
   "source": [
    "train, test, train_labels, test_labels = train_test_split(features, labels, test_size = 0.2)"
   ]
  },
  {
   "cell_type": "code",
   "execution_count": 41,
   "metadata": {},
   "outputs": [],
   "source": [
    "lr = LinearRegression(normalize=True)\n",
    "model = lr.fit(train, train_labels)"
   ]
  },
  {
   "cell_type": "code",
   "execution_count": 42,
   "metadata": {},
   "outputs": [
    {
     "name": "stdout",
     "output_type": "stream",
     "text": [
      "164.15910287126667\n"
     ]
    }
   ],
   "source": [
    "test_pred = model.predict(test)\n",
    "mse_lr = mean_squared_error(test_labels, test_pred)\n",
    "print(mse_lr)"
   ]
  },
  {
   "cell_type": "code",
   "execution_count": 53,
   "metadata": {},
   "outputs": [],
   "source": [
    "extTreeRg = ExtraTreesRegressor(n_estimators=100)\n",
    "model = extTreeRg.fit(train, train_labels)"
   ]
  },
  {
   "cell_type": "code",
   "execution_count": 54,
   "metadata": {},
   "outputs": [
    {
     "name": "stdout",
     "output_type": "stream",
     "text": [
      "106.55986554166667\n"
     ]
    }
   ],
   "source": [
    "test_pred = extTreeRg.predict(test)\n",
    "mse_etr = mean_squared_error(test_labels, test_pred)\n",
    "print(mse_etr)"
   ]
  },
  {
   "cell_type": "code",
   "execution_count": 55,
   "metadata": {},
   "outputs": [],
   "source": [
    "randForsRg = RandomForestRegressor(n_estimators=100)\n",
    "model = randForsRg.fit(train, train_labels)"
   ]
  },
  {
   "cell_type": "code",
   "execution_count": 56,
   "metadata": {},
   "outputs": [
    {
     "name": "stdout",
     "output_type": "stream",
     "text": [
      "113.275882625\n"
     ]
    }
   ],
   "source": [
    "test_pred = randForsRg.predict(test)\n",
    "mse_rfr = mean_squared_error(test_labels, test_pred)\n",
    "print(mse_rfr)"
   ]
  },
  {
   "cell_type": "markdown",
   "metadata": {},
   "source": [
    "## Column Selection 2"
   ]
  },
  {
   "cell_type": "code",
   "execution_count": 58,
   "metadata": {},
   "outputs": [],
   "source": [
    "cols = df.columns.tolist()\n",
    "cols_s1 = cols[0:6] + cols[7:9] + cols[11:12] + cols[13:16] + cols[17:19] + cols[21:22] + cols[32:44] + cols[45:50] + cols[53:54] + cols[65:] \n",
    "df2 = df[cols_s1]"
   ]
  },
  {
   "cell_type": "code",
   "execution_count": 59,
   "metadata": {},
   "outputs": [],
   "source": [
    "data = df2.values"
   ]
  },
  {
   "cell_type": "code",
   "execution_count": 60,
   "metadata": {
    "scrolled": true
   },
   "outputs": [
    {
     "data": {
      "text/plain": [
       "(3000, 34)"
      ]
     },
     "execution_count": 60,
     "metadata": {},
     "output_type": "execute_result"
    }
   ],
   "source": [
    "data.shape"
   ]
  },
  {
   "cell_type": "code",
   "execution_count": 61,
   "metadata": {},
   "outputs": [],
   "source": [
    "features = data[:, 0:33]\n",
    "labels = data[:, 33]"
   ]
  },
  {
   "cell_type": "code",
   "execution_count": 71,
   "metadata": {},
   "outputs": [],
   "source": [
    "train, test, train_labels, test_labels = train_test_split(features, labels, test_size = 0.2)"
   ]
  },
  {
   "cell_type": "code",
   "execution_count": 72,
   "metadata": {},
   "outputs": [],
   "source": [
    "lr = LinearRegression(normalize=True)\n",
    "model = lr.fit(train, train_labels)"
   ]
  },
  {
   "cell_type": "code",
   "execution_count": 73,
   "metadata": {},
   "outputs": [
    {
     "name": "stdout",
     "output_type": "stream",
     "text": [
      "160.14904953274075\n"
     ]
    }
   ],
   "source": [
    "test_pred = model.predict(test)\n",
    "mse_lr = mean_squared_error(test_labels, test_pred)\n",
    "print(mse_lr)"
   ]
  },
  {
   "cell_type": "code",
   "execution_count": 78,
   "metadata": {},
   "outputs": [],
   "source": [
    "extTreeRg = ExtraTreesRegressor(n_estimators=100)\n",
    "model = extTreeRg.fit(train, train_labels)"
   ]
  },
  {
   "cell_type": "code",
   "execution_count": 79,
   "metadata": {},
   "outputs": [
    {
     "name": "stdout",
     "output_type": "stream",
     "text": [
      "96.97239725\n"
     ]
    }
   ],
   "source": [
    "test_pred = extTreeRg.predict(test)\n",
    "mse_etr = mean_squared_error(test_labels, test_pred)\n",
    "print(mse_etr)"
   ]
  },
  {
   "cell_type": "code",
   "execution_count": 80,
   "metadata": {},
   "outputs": [],
   "source": [
    "randForsRg = RandomForestRegressor(n_estimators=100)\n",
    "model = randForsRg.fit(train, train_labels)"
   ]
  },
  {
   "cell_type": "code",
   "execution_count": 81,
   "metadata": {},
   "outputs": [
    {
     "name": "stdout",
     "output_type": "stream",
     "text": [
      "102.890498625\n"
     ]
    }
   ],
   "source": [
    "test_pred = randForsRg.predict(test)\n",
    "mse_rfr = mean_squared_error(test_labels, test_pred)\n",
    "print(mse_rfr)"
   ]
  },
  {
   "cell_type": "code",
   "execution_count": 152,
   "metadata": {},
   "outputs": [],
   "source": [
    "aBoostRg = AdaBoostRegressor()\n",
    "model = aBoostRg.fit(train, train_labels)"
   ]
  },
  {
   "cell_type": "code",
   "execution_count": 153,
   "metadata": {},
   "outputs": [
    {
     "name": "stdout",
     "output_type": "stream",
     "text": [
      "155.04910806166436\n"
     ]
    }
   ],
   "source": [
    "test_pred = aBoostRg.predict(test)\n",
    "mse_abr = mean_squared_error(test_labels, test_pred)\n",
    "print(mse_abr)"
   ]
  },
  {
   "cell_type": "code",
   "execution_count": 156,
   "metadata": {},
   "outputs": [],
   "source": [
    "gBoostRg = GradientBoostingRegressor()\n",
    "model = gBoostRg.fit(train, train_labels)"
   ]
  },
  {
   "cell_type": "code",
   "execution_count": 157,
   "metadata": {},
   "outputs": [
    {
     "name": "stdout",
     "output_type": "stream",
     "text": [
      "105.54670314049956\n"
     ]
    }
   ],
   "source": [
    "test_pred = gBoostRg.predict(test)\n",
    "mse_gbr = mean_squared_error(test_labels, test_pred)\n",
    "print(mse_gbr)"
   ]
  },
  {
   "cell_type": "code",
   "execution_count": 160,
   "metadata": {},
   "outputs": [],
   "source": [
    "bagRg = BaggingRegressor()\n",
    "model = bagRg.fit(train, train_labels)"
   ]
  },
  {
   "cell_type": "code",
   "execution_count": 161,
   "metadata": {
    "scrolled": true
   },
   "outputs": [
    {
     "name": "stdout",
     "output_type": "stream",
     "text": [
      "113.41610833333334\n"
     ]
    }
   ],
   "source": [
    "test_pred = bagRg.predict(test)\n",
    "mse_br = mean_squared_error(test_labels, test_pred)\n",
    "print(mse_br)"
   ]
  }
 ],
 "metadata": {
  "kernelspec": {
   "display_name": "Python 3",
   "language": "python",
   "name": "python3"
  },
  "language_info": {
   "codemirror_mode": {
    "name": "ipython",
    "version": 3
   },
   "file_extension": ".py",
   "mimetype": "text/x-python",
   "name": "python",
   "nbconvert_exporter": "python",
   "pygments_lexer": "ipython3",
   "version": "3.7.1"
  }
 },
 "nbformat": 4,
 "nbformat_minor": 2
}
