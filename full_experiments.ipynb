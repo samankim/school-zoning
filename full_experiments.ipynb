{
 "cells": [
  {
   "cell_type": "code",
   "execution_count": 1,
   "metadata": {},
   "outputs": [],
   "source": [
    "import pandas as pd\n",
    "import numpy as np\n",
    "import matplotlib.pyplot as plt\n",
    "\n",
    "import sklearn\n",
    "from sklearn.model_selection import train_test_split\n",
    "from sklearn.linear_model import LinearRegression\n",
    "from sklearn import linear_model\n",
    "from sklearn.svm import LinearSVR\n",
    "from sklearn.ensemble import ExtraTreesRegressor\n",
    "from sklearn.ensemble import RandomForestRegressor\n",
    "from sklearn.tree import DecisionTreeRegressor\n",
    "from sklearn.ensemble import AdaBoostRegressor\n",
    "from sklearn.ensemble import GradientBoostingRegressor\n",
    "from sklearn.ensemble import BaggingRegressor\n",
    "\n",
    "from sklearn.metrics import r2_score\n",
    "from sklearn.metrics import mean_squared_error"
   ]
  },
  {
   "cell_type": "code",
   "execution_count": 2,
   "metadata": {},
   "outputs": [],
   "source": [
    "df = pd.read_csv(\"pf_medianagg.csv\")\n",
    "df.drop(df.columns[[0]], axis=1, inplace=True)"
   ]
  },
  {
   "cell_type": "code",
   "execution_count": 3,
   "metadata": {
    "scrolled": false
   },
   "outputs": [
    {
     "data": {
      "text/html": [
       "<div>\n",
       "<style scoped>\n",
       "    .dataframe tbody tr th:only-of-type {\n",
       "        vertical-align: middle;\n",
       "    }\n",
       "\n",
       "    .dataframe tbody tr th {\n",
       "        vertical-align: top;\n",
       "    }\n",
       "\n",
       "    .dataframe thead th {\n",
       "        text-align: right;\n",
       "    }\n",
       "</style>\n",
       "<table border=\"1\" class=\"dataframe\">\n",
       "  <thead>\n",
       "    <tr style=\"text-align: right;\">\n",
       "      <th></th>\n",
       "      <th>school_id</th>\n",
       "      <th>pct_native</th>\n",
       "      <th>pct_asian</th>\n",
       "      <th>pct_hispanic</th>\n",
       "      <th>pct_black</th>\n",
       "      <th>pct_white</th>\n",
       "      <th>pct_pacisl</th>\n",
       "      <th>pct_mixed</th>\n",
       "      <th>free_lunch</th>\n",
       "      <th>reduced_lunch</th>\n",
       "      <th>...</th>\n",
       "      <th>LANDAREA</th>\n",
       "      <th>r_native</th>\n",
       "      <th>r_asian</th>\n",
       "      <th>r_hispanic</th>\n",
       "      <th>r_black</th>\n",
       "      <th>r_white</th>\n",
       "      <th>r_pacisl</th>\n",
       "      <th>r_mixed</th>\n",
       "      <th>r_foodassist</th>\n",
       "      <th>schoolwide_achi</th>\n",
       "    </tr>\n",
       "  </thead>\n",
       "  <tbody>\n",
       "    <tr>\n",
       "      <th>0</th>\n",
       "      <td>1.000050e+10</td>\n",
       "      <td>0.002190</td>\n",
       "      <td>0.006569</td>\n",
       "      <td>0.401460</td>\n",
       "      <td>0.027737</td>\n",
       "      <td>0.543796</td>\n",
       "      <td>0.001460</td>\n",
       "      <td>0.016788</td>\n",
       "      <td>0.310949</td>\n",
       "      <td>0.076343</td>\n",
       "      <td>...</td>\n",
       "      <td>26.779523</td>\n",
       "      <td>inf</td>\n",
       "      <td>inf</td>\n",
       "      <td>24.645257</td>\n",
       "      <td>147.527906</td>\n",
       "      <td>12.947729</td>\n",
       "      <td>inf</td>\n",
       "      <td>25.795815</td>\n",
       "      <td>1.946739</td>\n",
       "      <td>20.0</td>\n",
       "    </tr>\n",
       "    <tr>\n",
       "      <th>1</th>\n",
       "      <td>1.000060e+10</td>\n",
       "      <td>0.000000</td>\n",
       "      <td>0.002933</td>\n",
       "      <td>0.043988</td>\n",
       "      <td>0.020528</td>\n",
       "      <td>0.926686</td>\n",
       "      <td>0.000000</td>\n",
       "      <td>0.005865</td>\n",
       "      <td>0.563050</td>\n",
       "      <td>0.046921</td>\n",
       "      <td>...</td>\n",
       "      <td>488.942901</td>\n",
       "      <td>NaN</td>\n",
       "      <td>inf</td>\n",
       "      <td>NaN</td>\n",
       "      <td>inf</td>\n",
       "      <td>61.245940</td>\n",
       "      <td>NaN</td>\n",
       "      <td>24.188270</td>\n",
       "      <td>4.208489</td>\n",
       "      <td>14.5</td>\n",
       "    </tr>\n",
       "    <tr>\n",
       "      <th>2</th>\n",
       "      <td>1.000060e+10</td>\n",
       "      <td>0.016639</td>\n",
       "      <td>0.004992</td>\n",
       "      <td>0.277870</td>\n",
       "      <td>0.011647</td>\n",
       "      <td>0.687188</td>\n",
       "      <td>0.000000</td>\n",
       "      <td>0.001664</td>\n",
       "      <td>0.623960</td>\n",
       "      <td>0.089850</td>\n",
       "      <td>...</td>\n",
       "      <td>488.942901</td>\n",
       "      <td>inf</td>\n",
       "      <td>inf</td>\n",
       "      <td>NaN</td>\n",
       "      <td>inf</td>\n",
       "      <td>45.417181</td>\n",
       "      <td>NaN</td>\n",
       "      <td>6.862063</td>\n",
       "      <td>4.663760</td>\n",
       "      <td>15.0</td>\n",
       "    </tr>\n",
       "    <tr>\n",
       "      <th>3</th>\n",
       "      <td>1.000060e+10</td>\n",
       "      <td>0.004386</td>\n",
       "      <td>0.004386</td>\n",
       "      <td>0.019737</td>\n",
       "      <td>0.010965</td>\n",
       "      <td>0.953947</td>\n",
       "      <td>0.000000</td>\n",
       "      <td>0.006579</td>\n",
       "      <td>0.381579</td>\n",
       "      <td>0.054825</td>\n",
       "      <td>...</td>\n",
       "      <td>488.942901</td>\n",
       "      <td>inf</td>\n",
       "      <td>inf</td>\n",
       "      <td>NaN</td>\n",
       "      <td>inf</td>\n",
       "      <td>63.047666</td>\n",
       "      <td>NaN</td>\n",
       "      <td>27.132237</td>\n",
       "      <td>2.852094</td>\n",
       "      <td>30.0</td>\n",
       "    </tr>\n",
       "    <tr>\n",
       "      <th>4</th>\n",
       "      <td>1.016900e+10</td>\n",
       "      <td>0.003289</td>\n",
       "      <td>0.011513</td>\n",
       "      <td>0.078947</td>\n",
       "      <td>0.078947</td>\n",
       "      <td>0.794408</td>\n",
       "      <td>0.001645</td>\n",
       "      <td>0.031250</td>\n",
       "      <td>0.328947</td>\n",
       "      <td>0.019737</td>\n",
       "      <td>...</td>\n",
       "      <td>25.386423</td>\n",
       "      <td>inf</td>\n",
       "      <td>45.443481</td>\n",
       "      <td>26.543576</td>\n",
       "      <td>67.210526</td>\n",
       "      <td>13.824289</td>\n",
       "      <td>inf</td>\n",
       "      <td>34.790064</td>\n",
       "      <td>2.038661</td>\n",
       "      <td>30.0</td>\n",
       "    </tr>\n",
       "  </tbody>\n",
       "</table>\n",
       "<p>5 rows × 66 columns</p>\n",
       "</div>"
      ],
      "text/plain": [
       "      school_id  pct_native  pct_asian  pct_hispanic  pct_black  pct_white  \\\n",
       "0  1.000050e+10    0.002190   0.006569      0.401460   0.027737   0.543796   \n",
       "1  1.000060e+10    0.000000   0.002933      0.043988   0.020528   0.926686   \n",
       "2  1.000060e+10    0.016639   0.004992      0.277870   0.011647   0.687188   \n",
       "3  1.000060e+10    0.004386   0.004386      0.019737   0.010965   0.953947   \n",
       "4  1.016900e+10    0.003289   0.011513      0.078947   0.078947   0.794408   \n",
       "\n",
       "   pct_pacisl  pct_mixed  free_lunch  reduced_lunch  ...    LANDAREA  \\\n",
       "0    0.001460   0.016788    0.310949       0.076343  ...   26.779523   \n",
       "1    0.000000   0.005865    0.563050       0.046921  ...  488.942901   \n",
       "2    0.000000   0.001664    0.623960       0.089850  ...  488.942901   \n",
       "3    0.000000   0.006579    0.381579       0.054825  ...  488.942901   \n",
       "4    0.001645   0.031250    0.328947       0.019737  ...   25.386423   \n",
       "\n",
       "   r_native    r_asian  r_hispanic     r_black    r_white  r_pacisl  \\\n",
       "0       inf        inf   24.645257  147.527906  12.947729       inf   \n",
       "1       NaN        inf         NaN         inf  61.245940       NaN   \n",
       "2       inf        inf         NaN         inf  45.417181       NaN   \n",
       "3       inf        inf         NaN         inf  63.047666       NaN   \n",
       "4       inf  45.443481   26.543576   67.210526  13.824289       inf   \n",
       "\n",
       "     r_mixed  r_foodassist  schoolwide_achi  \n",
       "0  25.795815      1.946739             20.0  \n",
       "1  24.188270      4.208489             14.5  \n",
       "2   6.862063      4.663760             15.0  \n",
       "3  27.132237      2.852094             30.0  \n",
       "4  34.790064      2.038661             30.0  \n",
       "\n",
       "[5 rows x 66 columns]"
      ]
     },
     "execution_count": 3,
     "metadata": {},
     "output_type": "execute_result"
    }
   ],
   "source": [
    "df.head()"
   ]
  },
  {
   "cell_type": "code",
   "execution_count": 4,
   "metadata": {},
   "outputs": [],
   "source": [
    "df = df.replace([np.inf, -np.inf], np.nan)\n",
    "for i in range(len(df.columns)):\n",
    "    df.iloc[:, i] = df.iloc[:, i].fillna(df.iloc[:, i].median(skipna=True))"
   ]
  },
  {
   "cell_type": "code",
   "execution_count": 5,
   "metadata": {
    "scrolled": false
   },
   "outputs": [
    {
     "data": {
      "text/plain": [
       "[(0, 'school_id'),\n",
       " (1, 'pct_native'),\n",
       " (2, 'pct_asian'),\n",
       " (3, 'pct_hispanic'),\n",
       " (4, 'pct_black'),\n",
       " (5, 'pct_white'),\n",
       " (6, 'pct_pacisl'),\n",
       " (7, 'pct_mixed'),\n",
       " (8, 'free_lunch'),\n",
       " (9, 'reduced_lunch'),\n",
       " (10, 'total'),\n",
       " (11, 'grad_rate_all'),\n",
       " (12, 'grad_rate_native'),\n",
       " (13, 'grad_rate_asian'),\n",
       " (14, 'grad_rate_black'),\n",
       " (15, 'grad_rate_hispanic'),\n",
       " (16, 'grad_rate_mixed'),\n",
       " (17, 'grad_rate_linc'),\n",
       " (18, 'total_salaries_ps'),\n",
       " (19, 'salaries_instruction_ps'),\n",
       " (20, 'salaries_teachers_ps'),\n",
       " (21, 'AHY1E001'),\n",
       " (22, 'AHY2E002'),\n",
       " (23, 'AHY2E003'),\n",
       " (24, 'AHY2E004'),\n",
       " (25, 'AHY2E005'),\n",
       " (26, 'AHY2E006'),\n",
       " (27, 'AHY2E007'),\n",
       " (28, 'AHY2E008'),\n",
       " (29, 'AHZBE003'),\n",
       " (30, 'AHZUE009'),\n",
       " (31, 'AHZUE015'),\n",
       " (32, 'AH04E017'),\n",
       " (33, 'AH04E018'),\n",
       " (34, 'AH04E022'),\n",
       " (35, 'AH04E023'),\n",
       " (36, 'AH04E024'),\n",
       " (37, 'AH04E025'),\n",
       " (38, 'AH1JE002'),\n",
       " (39, 'AH1JE003'),\n",
       " (40, 'AH1JE004'),\n",
       " (41, 'AH1JE005'),\n",
       " (42, 'AH1JE006'),\n",
       " (43, 'AH1JE007'),\n",
       " (44, 'AH1JE008'),\n",
       " (45, 'AH1KE002'),\n",
       " (46, 'AH1LE001'),\n",
       " (47, 'AH1PE001'),\n",
       " (48, 'AH19E002'),\n",
       " (49, 'AH19E003'),\n",
       " (50, 'AH3IE002'),\n",
       " (51, 'AH3IE003'),\n",
       " (52, 'AH3IE004'),\n",
       " (53, 'AH3IE005'),\n",
       " (54, 'AH5RE001'),\n",
       " (55, 'pop_density'),\n",
       " (56, 'LANDAREA'),\n",
       " (57, 'r_native'),\n",
       " (58, 'r_asian'),\n",
       " (59, 'r_hispanic'),\n",
       " (60, 'r_black'),\n",
       " (61, 'r_white'),\n",
       " (62, 'r_pacisl'),\n",
       " (63, 'r_mixed'),\n",
       " (64, 'r_foodassist'),\n",
       " (65, 'schoolwide_achi')]"
      ]
     },
     "execution_count": 5,
     "metadata": {},
     "output_type": "execute_result"
    }
   ],
   "source": [
    "[(df.columns.get_loc(c), c) for c in df.columns]"
   ]
  },
  {
   "cell_type": "markdown",
   "metadata": {},
   "source": [
    "## Column Selection 1"
   ]
  },
  {
   "cell_type": "code",
   "execution_count": 28,
   "metadata": {},
   "outputs": [],
   "source": [
    "cols = df.columns.tolist()\n",
    "cols_s1 = cols[0:6] + cols[7:9] + cols[11:12] + cols[13:16] + cols[17:19] + cols[21:22] + cols[32:44] + cols[45:50] + cols[53:54] + cols[57:63] + cols[64:]\n",
    "df1 = df[cols_s1]"
   ]
  },
  {
   "cell_type": "code",
   "execution_count": 29,
   "metadata": {},
   "outputs": [],
   "source": [
    "data = df1.values"
   ]
  },
  {
   "cell_type": "code",
   "execution_count": 30,
   "metadata": {
    "scrolled": true
   },
   "outputs": [
    {
     "data": {
      "text/plain": [
       "(3000, 41)"
      ]
     },
     "execution_count": 30,
     "metadata": {},
     "output_type": "execute_result"
    }
   ],
   "source": [
    "data.shape"
   ]
  },
  {
   "cell_type": "code",
   "execution_count": 31,
   "metadata": {},
   "outputs": [],
   "source": [
    "features = data[:, 0:40]\n",
    "labels = data[:, 40]"
   ]
  },
  {
   "cell_type": "code",
   "execution_count": 32,
   "metadata": {},
   "outputs": [],
   "source": [
    "train, test, train_labels, test_labels = train_test_split(features, labels, test_size = 0.2)"
   ]
  },
  {
   "cell_type": "code",
   "execution_count": 33,
   "metadata": {},
   "outputs": [],
   "source": [
    "lr = LinearRegression(normalize=True)\n",
    "model = lr.fit(train, train_labels)"
   ]
  },
  {
   "cell_type": "code",
   "execution_count": 34,
   "metadata": {},
   "outputs": [
    {
     "name": "stdout",
     "output_type": "stream",
     "text": [
      "160.88375069325593\n"
     ]
    }
   ],
   "source": [
    "test_pred = model.predict(test)\n",
    "mse_lr = mean_squared_error(test_labels, test_pred)\n",
    "print(mse_lr)"
   ]
  },
  {
   "cell_type": "code",
   "execution_count": 35,
   "metadata": {},
   "outputs": [],
   "source": [
    "dTreeRg = DecisionTreeRegressor()\n",
    "model = dTreeRg.fit(train, train_labels)"
   ]
  },
  {
   "cell_type": "code",
   "execution_count": 36,
   "metadata": {},
   "outputs": [
    {
     "name": "stdout",
     "output_type": "stream",
     "text": [
      "209.80041666666668\n"
     ]
    }
   ],
   "source": [
    "test_pred = model.predict(test)\n",
    "mse_dtr = mean_squared_error(test_labels, test_pred)\n",
    "print(mse_dtr)"
   ]
  },
  {
   "cell_type": "code",
   "execution_count": 37,
   "metadata": {},
   "outputs": [],
   "source": [
    "extTreeRg = ExtraTreesRegressor(n_estimators=100)\n",
    "model = extTreeRg.fit(train, train_labels)"
   ]
  },
  {
   "cell_type": "code",
   "execution_count": 38,
   "metadata": {},
   "outputs": [
    {
     "name": "stdout",
     "output_type": "stream",
     "text": [
      "101.034944375\n"
     ]
    }
   ],
   "source": [
    "test_pred = extTreeRg.predict(test)\n",
    "mse_etr = mean_squared_error(test_labels, test_pred)\n",
    "print(mse_etr)"
   ]
  },
  {
   "cell_type": "code",
   "execution_count": 39,
   "metadata": {},
   "outputs": [],
   "source": [
    "randForsRg = RandomForestRegressor(n_estimators=100)\n",
    "model = randForsRg.fit(train, train_labels)"
   ]
  },
  {
   "cell_type": "code",
   "execution_count": 40,
   "metadata": {},
   "outputs": [
    {
     "name": "stdout",
     "output_type": "stream",
     "text": [
      "102.286164875\n"
     ]
    }
   ],
   "source": [
    "test_pred = randForsRg.predict(test)\n",
    "mse_rfr = mean_squared_error(test_labels, test_pred)\n",
    "print(mse_rfr)"
   ]
  },
  {
   "cell_type": "code",
   "execution_count": 41,
   "metadata": {},
   "outputs": [],
   "source": [
    "aBoostRg = AdaBoostRegressor()\n",
    "model = aBoostRg.fit(train, train_labels)"
   ]
  },
  {
   "cell_type": "code",
   "execution_count": 42,
   "metadata": {},
   "outputs": [
    {
     "name": "stdout",
     "output_type": "stream",
     "text": [
      "160.47409691247395\n"
     ]
    }
   ],
   "source": [
    "test_pred = aBoostRg.predict(test)\n",
    "mse_abr = mean_squared_error(test_labels, test_pred)\n",
    "print(mse_abr)"
   ]
  },
  {
   "cell_type": "code",
   "execution_count": 43,
   "metadata": {},
   "outputs": [],
   "source": [
    "gBoostRg = GradientBoostingRegressor()\n",
    "model = gBoostRg.fit(train, train_labels)"
   ]
  },
  {
   "cell_type": "code",
   "execution_count": 44,
   "metadata": {},
   "outputs": [
    {
     "name": "stdout",
     "output_type": "stream",
     "text": [
      "108.90385742830931\n"
     ]
    }
   ],
   "source": [
    "test_pred = gBoostRg.predict(test)\n",
    "mse_gbr = mean_squared_error(test_labels, test_pred)\n",
    "print(mse_gbr)"
   ]
  },
  {
   "cell_type": "code",
   "execution_count": 45,
   "metadata": {},
   "outputs": [],
   "source": [
    "bagRg = BaggingRegressor()\n",
    "model = bagRg.fit(train, train_labels)"
   ]
  },
  {
   "cell_type": "code",
   "execution_count": 46,
   "metadata": {
    "scrolled": true
   },
   "outputs": [
    {
     "name": "stdout",
     "output_type": "stream",
     "text": [
      "115.90002499999997\n"
     ]
    }
   ],
   "source": [
    "test_pred = bagRg.predict(test)\n",
    "mse_br = mean_squared_error(test_labels, test_pred)\n",
    "print(mse_br)"
   ]
  },
  {
   "cell_type": "markdown",
   "metadata": {},
   "source": [
    "## Column Selection 2"
   ]
  },
  {
   "cell_type": "code",
   "execution_count": 42,
   "metadata": {},
   "outputs": [],
   "source": [
    "cols = df.columns.tolist()\n",
    "cols_s2 = cols[0:6] + cols[7:9] + cols[11:12] + cols[13:16] + cols[17:19] + cols[21:22] + cols[32:44] + cols[45:50] + cols[53:54] + cols[65:] \n",
    "df2 = df[cols_s2]"
   ]
  },
  {
   "cell_type": "code",
   "execution_count": 55,
   "metadata": {},
   "outputs": [
    {
     "data": {
      "text/plain": [
       "[(0, 'school_id'),\n",
       " (1, 'pct_native'),\n",
       " (2, 'pct_asian'),\n",
       " (3, 'pct_hispanic'),\n",
       " (4, 'pct_black'),\n",
       " (5, 'pct_white'),\n",
       " (6, 'pct_mixed'),\n",
       " (7, 'free_lunch'),\n",
       " (8, 'grad_rate_all'),\n",
       " (9, 'grad_rate_asian'),\n",
       " (10, 'grad_rate_black'),\n",
       " (11, 'grad_rate_hispanic'),\n",
       " (12, 'grad_rate_linc'),\n",
       " (13, 'total_salaries_ps'),\n",
       " (14, 'AHY1E001'),\n",
       " (15, 'AH04E017'),\n",
       " (16, 'AH04E018'),\n",
       " (17, 'AH04E022'),\n",
       " (18, 'AH04E023'),\n",
       " (19, 'AH04E024'),\n",
       " (20, 'AH04E025'),\n",
       " (21, 'AH1JE002'),\n",
       " (22, 'AH1JE003'),\n",
       " (23, 'AH1JE004'),\n",
       " (24, 'AH1JE005'),\n",
       " (25, 'AH1JE006'),\n",
       " (26, 'AH1JE007'),\n",
       " (27, 'AH1KE002'),\n",
       " (28, 'AH1LE001'),\n",
       " (29, 'AH1PE001'),\n",
       " (30, 'AH19E002'),\n",
       " (31, 'AH19E003'),\n",
       " (32, 'AH3IE005'),\n",
       " (33, 'schoolwide_achi')]"
      ]
     },
     "execution_count": 55,
     "metadata": {},
     "output_type": "execute_result"
    }
   ],
   "source": [
    "[(i, cols_s2[i]) for i in range(len(cols_s2))]"
   ]
  },
  {
   "cell_type": "code",
   "execution_count": 7,
   "metadata": {},
   "outputs": [],
   "source": [
    "data = df2.values"
   ]
  },
  {
   "cell_type": "code",
   "execution_count": 8,
   "metadata": {
    "scrolled": false
   },
   "outputs": [
    {
     "data": {
      "text/plain": [
       "(3000, 34)"
      ]
     },
     "execution_count": 8,
     "metadata": {},
     "output_type": "execute_result"
    }
   ],
   "source": [
    "data.shape"
   ]
  },
  {
   "cell_type": "code",
   "execution_count": 9,
   "metadata": {},
   "outputs": [],
   "source": [
    "features = data[:, 0:33]\n",
    "labels = data[:, 33]"
   ]
  },
  {
   "cell_type": "code",
   "execution_count": 10,
   "metadata": {},
   "outputs": [],
   "source": [
    "train, test, train_labels, test_labels = train_test_split(features, labels, test_size = 0.2)"
   ]
  },
  {
   "cell_type": "code",
   "execution_count": 11,
   "metadata": {},
   "outputs": [],
   "source": [
    "lr = LinearRegression(normalize=True)\n",
    "model = lr.fit(train, train_labels)"
   ]
  },
  {
   "cell_type": "code",
   "execution_count": 12,
   "metadata": {},
   "outputs": [
    {
     "name": "stdout",
     "output_type": "stream",
     "text": [
      "152.25314704146547\n"
     ]
    }
   ],
   "source": [
    "test_pred = model.predict(test)\n",
    "mse_lr = mean_squared_error(test_labels, test_pred)\n",
    "print(mse_lr)"
   ]
  },
  {
   "cell_type": "code",
   "execution_count": 13,
   "metadata": {},
   "outputs": [],
   "source": [
    "dTreeRg = DecisionTreeRegressor()\n",
    "model = dTreeRg.fit(train, train_labels)"
   ]
  },
  {
   "cell_type": "code",
   "execution_count": 14,
   "metadata": {},
   "outputs": [
    {
     "name": "stdout",
     "output_type": "stream",
     "text": [
      "242.36083333333335\n"
     ]
    }
   ],
   "source": [
    "test_pred = model.predict(test)\n",
    "mse_dtr = mean_squared_error(test_labels, test_pred)\n",
    "print(mse_dtr)"
   ]
  },
  {
   "cell_type": "code",
   "execution_count": 15,
   "metadata": {},
   "outputs": [],
   "source": [
    "extTreeRg = ExtraTreesRegressor(n_estimators=100)\n",
    "model = extTreeRg.fit(train, train_labels)"
   ]
  },
  {
   "cell_type": "code",
   "execution_count": 16,
   "metadata": {
    "scrolled": false
   },
   "outputs": [
    {
     "name": "stdout",
     "output_type": "stream",
     "text": [
      "96.10912704166668\n"
     ]
    }
   ],
   "source": [
    "test_pred = extTreeRg.predict(test)\n",
    "mse_etr = mean_squared_error(test_labels, test_pred)\n",
    "print(mse_etr)"
   ]
  },
  {
   "cell_type": "code",
   "execution_count": 109,
   "metadata": {
    "scrolled": true
   },
   "outputs": [
    {
     "name": "stdout",
     "output_type": "stream",
     "text": [
      "[7.76146085e-02 1.36699250e-02 1.23752841e-01 2.21985921e-02\n",
      " 3.14056125e-02 2.96435994e-02 1.42403952e-02 2.46341408e-01\n",
      " 1.13375795e-01 4.20468355e-03 5.03486127e-03 5.22861642e-02\n",
      " 4.46671711e-02 3.00474910e-02 1.75191099e-02 9.88671185e-03\n",
      " 1.00127362e-02 9.26939905e-03 8.78787310e-03 9.20227848e-03\n",
      " 7.60454627e-03 9.15996660e-03 1.15446602e-02 8.77100607e-03\n",
      " 1.23693977e-02 1.18277353e-02 1.02296752e-02 1.46843800e-02\n",
      " 1.90986536e-05 7.89382034e-03 9.52086286e-03 8.93564118e-03\n",
      " 1.42779530e-02]\n"
     ]
    }
   ],
   "source": [
    "importances = extTreeRg.feature_importances_\n",
    "print(importances)"
   ]
  },
  {
   "cell_type": "code",
   "execution_count": 108,
   "metadata": {
    "scrolled": true
   },
   "outputs": [
    {
     "data": {
      "image/png": "[encoded data removed]",
      "text/plain": [
       "<Figure size 504x504 with 1 Axes>"
      ]
     },
     "metadata": {
      "needs_background": "light"
     },
     "output_type": "display_data"
    }
   ],
   "source": [
    "# Plot the feature importances of the forest\n",
    "plt.figure(figsize=(7,7))\n",
    "plt.title(\"Feature Importances\")\n",
    "plt.barh(range(train.shape[1]), importances, align=\"center\")\n",
    "# If you want to define your own labels,\n",
    "# change indices to a list of labels on the following line.\n",
    "plt.yticks(range(train.shape[1]), cols_s2[:-1])\n",
    "plt.ylim([-1, train.shape[1]])\n",
    "plt.show()"
   ]
  },
  {
   "cell_type": "code",
   "execution_count": 102,
   "metadata": {},
   "outputs": [],
   "source": [
    "from sklearn.base import clone \n",
    "\n",
    "def drop_col_feat_imp(model, train, train_labels, test, test_labels):\n",
    "    \n",
    "    # clone the model to have the exact same specification as the one initially trained\n",
    "    model_clone = clone(model)\n",
    "    # training and scoring the benchmark model\n",
    "    model_clone.fit(train, train_labels)\n",
    "    test_pred = model_clone.predict(test)\n",
    "    benchmark_mse = mean_squared_error(test_labels, test_pred)\n",
    "    print(benchmark_mse)\n",
    "    # list for storing feature importances\n",
    "    importances = []\n",
    "    \n",
    "    # iterating over all columns and storing feature importance (difference between benchmark and new model)\n",
    "    for i in range(train.shape[1]):\n",
    "        model_clone = clone(model)\n",
    "        model_clone.fit(np.delete(train, i, axis = 1), train_labels)\n",
    "        test_pred = model_clone.predict(np.delete(test, i, axis = 1))\n",
    "        drop_col_mse = mean_squared_error(test_labels, test_pred)\n",
    "        print(drop_col_mse)\n",
    "        importances.append(drop_col_mse - benchmark_mse)\n",
    "    \n",
    "    return importances"
   ]
  },
  {
   "cell_type": "code",
   "execution_count": 103,
   "metadata": {
    "scrolled": false
   },
   "outputs": [
    {
     "name": "stdout",
     "output_type": "stream",
     "text": [
      "95.26243895833333\n",
      "100.08038174999999\n",
      "95.22546291666667\n",
      "99.73258683333333\n",
      "94.51297891666667\n",
      "93.47200695833334\n",
      "97.92193645833335\n",
      "94.13536187499999\n",
      "101.51646475\n",
      "100.42410562500001\n",
      "95.82347325\n",
      "94.18938195833334\n",
      "95.86707133333333\n",
      "95.26987654166666\n",
      "99.71786254166666\n",
      "94.23356762499999\n",
      "96.00576958333333\n",
      "96.16030425\n",
      "97.59898966666668\n",
      "96.09536275\n",
      "95.56987358333332\n",
      "95.65114958333334\n",
      "97.30037504166667\n",
      "95.52923295833332\n",
      "95.16979933333333\n",
      "97.10100766666666\n",
      "94.62613037499999\n",
      "96.89601\n",
      "94.52842758333334\n",
      "94.87228379166667\n",
      "95.25765391666668\n",
      "95.82119420833332\n",
      "93.34657675\n",
      "96.1734675\n"
     ]
    }
   ],
   "source": [
    "drop_importances = drop_col_feat_imp(extTreeRg, train, train_labels, test, test_labels)"
   ]
  },
  {
   "cell_type": "code",
   "execution_count": 104,
   "metadata": {
    "scrolled": true
   },
   "outputs": [
    {
     "name": "stdout",
     "output_type": "stream",
     "text": [
      "[4.817942791666653, -0.03697604166666224, 4.470147874999995, -0.7494600416666657, -1.7904319999999956, 2.6594975000000147, -1.1270770833333472, 6.254025791666663, 5.161666666666676, 0.5610342916666724, -1.0730569999999915, 0.6046323749999942, 0.00743758333332778, 4.455423583333328, -1.028871333333342, 0.7433306249999987, 0.8978652916666618, 2.3365507083333483, 0.8329237916666727, 0.30743462499998486, 0.38871062500000164, 2.037936083333335, 0.2667939999999902, -0.09263962500000389, 1.8385687083333266, -0.6363085833333457, 1.63357104166667, -0.7340113749999944, -0.39015516666665917, -0.0047850416666506135, 0.5587552499999902, -1.915862208333337, 0.911028541666667]\n"
     ]
    }
   ],
   "source": [
    "print(drop_importances)"
   ]
  },
  {
   "cell_type": "code",
   "execution_count": 116,
   "metadata": {},
   "outputs": [
    {
     "data": {
      "image/png": "[encoded data removed]",
      "text/plain": [
       "<Figure size 504x504 with 1 Axes>"
      ]
     },
     "metadata": {
      "needs_background": "light"
     },
     "output_type": "display_data"
    }
   ],
   "source": [
    "# Plot the feature importances of the forest\n",
    "plt.figure(figsize=(7,7))\n",
    "plt.title(\"Feature Drop Importances\")\n",
    "plt.barh(range(train.shape[1]), drop_importances, align=\"center\")\n",
    "# If you want to define your own labels,\n",
    "# change indices to a list of labels on the following line.\n",
    "plt.yticks(range(train.shape[1]), cols_s2[:-1])\n",
    "plt.ylim([-1, train.shape[1]])\n",
    "plt.show()"
   ]
  },
  {
   "cell_type": "code",
   "execution_count": 17,
   "metadata": {},
   "outputs": [],
   "source": [
    "randForsRg = RandomForestRegressor(n_estimators=100)\n",
    "model = randForsRg.fit(train, train_labels)"
   ]
  },
  {
   "cell_type": "code",
   "execution_count": 18,
   "metadata": {},
   "outputs": [
    {
     "name": "stdout",
     "output_type": "stream",
     "text": [
      "97.79458229166667\n"
     ]
    }
   ],
   "source": [
    "test_pred = randForsRg.predict(test)\n",
    "mse_rfr = mean_squared_error(test_labels, test_pred)\n",
    "print(mse_rfr)"
   ]
  },
  {
   "cell_type": "code",
   "execution_count": 19,
   "metadata": {},
   "outputs": [],
   "source": [
    "aBoostRg = AdaBoostRegressor()\n",
    "model = aBoostRg.fit(train, train_labels)"
   ]
  },
  {
   "cell_type": "code",
   "execution_count": 20,
   "metadata": {},
   "outputs": [
    {
     "name": "stdout",
     "output_type": "stream",
     "text": [
      "148.5717864931194\n"
     ]
    }
   ],
   "source": [
    "test_pred = aBoostRg.predict(test)\n",
    "mse_abr = mean_squared_error(test_labels, test_pred)\n",
    "print(mse_abr)"
   ]
  },
  {
   "cell_type": "code",
   "execution_count": 21,
   "metadata": {},
   "outputs": [],
   "source": [
    "gBoostRg = GradientBoostingRegressor()\n",
    "model = gBoostRg.fit(train, train_labels)"
   ]
  },
  {
   "cell_type": "code",
   "execution_count": 22,
   "metadata": {},
   "outputs": [
    {
     "name": "stdout",
     "output_type": "stream",
     "text": [
      "99.85423220877941\n"
     ]
    }
   ],
   "source": [
    "test_pred = gBoostRg.predict(test)\n",
    "mse_gbr = mean_squared_error(test_labels, test_pred)\n",
    "print(mse_gbr)"
   ]
  },
  {
   "cell_type": "code",
   "execution_count": 23,
   "metadata": {},
   "outputs": [],
   "source": [
    "bagRg = BaggingRegressor()\n",
    "model = bagRg.fit(train, train_labels)"
   ]
  },
  {
   "cell_type": "code",
   "execution_count": 24,
   "metadata": {
    "scrolled": true
   },
   "outputs": [
    {
     "name": "stdout",
     "output_type": "stream",
     "text": [
      "109.95871666666669\n"
     ]
    }
   ],
   "source": [
    "test_pred = bagRg.predict(test)\n",
    "mse_br = mean_squared_error(test_labels, test_pred)\n",
    "print(mse_br)"
   ]
  },
  {
   "cell_type": "markdown",
   "metadata": {},
   "source": [
    "## Column Selection Three"
   ]
  },
  {
   "cell_type": "code",
   "execution_count": 127,
   "metadata": {},
   "outputs": [],
   "source": [
    "cols = df.columns.tolist()\n",
    "cols_s3 = cols_s2[0:1] + cols_s2[2:3] + cols_s2[4:6] + cols_s2[7:9] + cols_s2[11:14] + cols_s2[15:23] + cols_s2[24:25] + cols_s2[26:27] + cols_s2[30:31] + cols_s2[32:]  \n",
    "df3 = df[cols_s3]"
   ]
  },
  {
   "cell_type": "code",
   "execution_count": 128,
   "metadata": {
    "scrolled": true
   },
   "outputs": [
    {
     "data": {
      "text/plain": [
       "[(0, 'school_id'),\n",
       " (1, 'pct_asian'),\n",
       " (2, 'pct_black'),\n",
       " (3, 'pct_white'),\n",
       " (4, 'free_lunch'),\n",
       " (5, 'grad_rate_all'),\n",
       " (6, 'grad_rate_hispanic'),\n",
       " (7, 'grad_rate_linc'),\n",
       " (8, 'total_salaries_ps'),\n",
       " (9, 'AH04E017'),\n",
       " (10, 'AH04E018'),\n",
       " (11, 'AH04E022'),\n",
       " (12, 'AH04E023'),\n",
       " (13, 'AH04E024'),\n",
       " (14, 'AH04E025'),\n",
       " (15, 'AH1JE002'),\n",
       " (16, 'AH1JE003'),\n",
       " (17, 'AH1JE005'),\n",
       " (18, 'AH1JE007'),\n",
       " (19, 'AH19E002'),\n",
       " (20, 'AH3IE005'),\n",
       " (21, 'schoolwide_achi')]"
      ]
     },
     "execution_count": 128,
     "metadata": {},
     "output_type": "execute_result"
    }
   ],
   "source": [
    "[(i, cols_s3[i]) for i in range(len(cols_s3))]"
   ]
  },
  {
   "cell_type": "code",
   "execution_count": 129,
   "metadata": {},
   "outputs": [],
   "source": [
    "data = df3.values"
   ]
  },
  {
   "cell_type": "code",
   "execution_count": 130,
   "metadata": {
    "scrolled": false
   },
   "outputs": [
    {
     "data": {
      "text/plain": [
       "(3000, 22)"
      ]
     },
     "execution_count": 130,
     "metadata": {},
     "output_type": "execute_result"
    }
   ],
   "source": [
    "data.shape"
   ]
  },
  {
   "cell_type": "code",
   "execution_count": 131,
   "metadata": {},
   "outputs": [],
   "source": [
    "features = data[:, 0:18]\n",
    "labels = data[:, 18]"
   ]
  },
  {
   "cell_type": "code",
   "execution_count": 132,
   "metadata": {},
   "outputs": [],
   "source": [
    "train, test, train_labels, test_labels = train_test_split(features, labels, test_size = 0.2)"
   ]
  },
  {
   "cell_type": "code",
   "execution_count": 133,
   "metadata": {},
   "outputs": [],
   "source": [
    "lr = LinearRegression(normalize=True)\n",
    "model = lr.fit(train, train_labels)"
   ]
  },
  {
   "cell_type": "code",
   "execution_count": 134,
   "metadata": {},
   "outputs": [
    {
     "name": "stdout",
     "output_type": "stream",
     "text": [
      "135.75229228873752\n"
     ]
    }
   ],
   "source": [
    "test_pred = model.predict(test)\n",
    "mse_lr = mean_squared_error(test_labels, test_pred)\n",
    "print(mse_lr)"
   ]
  },
  {
   "cell_type": "code",
   "execution_count": 135,
   "metadata": {},
   "outputs": [],
   "source": [
    "dTreeRg = DecisionTreeRegressor()\n",
    "model = dTreeRg.fit(train, train_labels)"
   ]
  },
  {
   "cell_type": "code",
   "execution_count": 136,
   "metadata": {},
   "outputs": [
    {
     "name": "stdout",
     "output_type": "stream",
     "text": [
      "183.895\n"
     ]
    }
   ],
   "source": [
    "test_pred = model.predict(test)\n",
    "mse_dtr = mean_squared_error(test_labels, test_pred)\n",
    "print(mse_dtr)"
   ]
  },
  {
   "cell_type": "code",
   "execution_count": 137,
   "metadata": {},
   "outputs": [],
   "source": [
    "extTreeRg = ExtraTreesRegressor(n_estimators=100)\n",
    "model = extTreeRg.fit(train, train_labels)"
   ]
  },
  {
   "cell_type": "code",
   "execution_count": 138,
   "metadata": {
    "scrolled": true
   },
   "outputs": [
    {
     "name": "stdout",
     "output_type": "stream",
     "text": [
      "82.80730645833333\n"
     ]
    }
   ],
   "source": [
    "test_pred = extTreeRg.predict(test)\n",
    "mse_etr = mean_squared_error(test_labels, test_pred)\n",
    "print(mse_etr)"
   ]
  },
  {
   "cell_type": "code",
   "execution_count": 281,
   "metadata": {},
   "outputs": [],
   "source": [
    "extTreeRg_e1 = ExtraTreesRegressor(n_estimators=10)\n",
    "model = extTreeRg_e1.fit(train, train_labels)"
   ]
  },
  {
   "cell_type": "code",
   "execution_count": 282,
   "metadata": {
    "scrolled": false
   },
   "outputs": [
    {
     "name": "stdout",
     "output_type": "stream",
     "text": [
      "114.4172375\n"
     ]
    }
   ],
   "source": [
    "test_pred = extTreeRg_e1.predict(test)\n",
    "mse_etr = mean_squared_error(test_labels, test_pred)\n",
    "print(mse_etr)"
   ]
  },
  {
   "cell_type": "code",
   "execution_count": 300,
   "metadata": {},
   "outputs": [],
   "source": [
    "extTreeRg_e2 = ExtraTreesRegressor(n_estimators=1000)\n",
    "model = extTreeRg_e2.fit(train, train_labels)"
   ]
  },
  {
   "cell_type": "code",
   "execution_count": 301,
   "metadata": {
    "scrolled": false
   },
   "outputs": [
    {
     "name": "stdout",
     "output_type": "stream",
     "text": [
      "99.17635419541666\n"
     ]
    }
   ],
   "source": [
    "test_pred = extTreeRg_e2.predict(test)\n",
    "mse_etr = mean_squared_error(test_labels, test_pred)\n",
    "print(mse_etr)"
   ]
  },
  {
   "cell_type": "code",
   "execution_count": 322,
   "metadata": {},
   "outputs": [],
   "source": [
    "extTreeRg_d1 = ExtraTreesRegressor(n_estimators=100, max_depth=50)\n",
    "model = extTreeRg_d1.fit(train, train_labels)"
   ]
  },
  {
   "cell_type": "code",
   "execution_count": 323,
   "metadata": {
    "scrolled": false
   },
   "outputs": [
    {
     "name": "stdout",
     "output_type": "stream",
     "text": [
      "99.99991241666666\n"
     ]
    }
   ],
   "source": [
    "test_pred = extTreeRg_d1.predict(test)\n",
    "mse_etr = mean_squared_error(test_labels, test_pred)\n",
    "print(mse_etr)"
   ]
  },
  {
   "cell_type": "markdown",
   "metadata": {},
   "source": [
    "## Visualizing Decision Trees"
   ]
  },
  {
   "cell_type": "code",
   "execution_count": 302,
   "metadata": {},
   "outputs": [],
   "source": [
    "from sklearn.externals.six import StringIO  \n",
    "from IPython.display import Image  \n",
    "from sklearn.tree import export_graphviz\n",
    "import pydotplus"
   ]
  },
  {
   "cell_type": "code",
   "execution_count": 303,
   "metadata": {},
   "outputs": [
    {
     "data": {
      "text/plain": [
       "True"
      ]
     },
     "execution_count": 303,
     "metadata": {},
     "output_type": "execute_result"
    }
   ],
   "source": [
    "dot_data = StringIO()\n",
    "export_graphviz(extTreeRg.estimators_[0], out_file=dot_data,  \n",
    "                filled=True, rounded=True,\n",
    "                special_characters=True)\n",
    "graph = pydotplus.graph_from_dot_data(dot_data.getvalue()) \n",
    "graph.write_pdf(\"extTreeRg_dtree_ex.pdf\")"
   ]
  },
  {
   "cell_type": "markdown",
   "metadata": {},
   "source": [
    "## Neural Network"
   ]
  },
  {
   "cell_type": "code",
   "execution_count": 82,
   "metadata": {},
   "outputs": [],
   "source": [
    "import keras\n",
    "import tensorflow as tf\n",
    "from keras.models import Sequential\n",
    "from keras.layers import Dense\n",
    "from keras.wrappers.scikit_learn import KerasRegressor\n",
    "from sklearn.model_selection import cross_val_score\n",
    "from sklearn.model_selection import KFold\n",
    "from sklearn.preprocessing import StandardScaler\n",
    "from sklearn.pipeline import Pipeline"
   ]
  },
  {
   "cell_type": "code",
   "execution_count": 87,
   "metadata": {},
   "outputs": [],
   "source": [
    "def baseline_model():\n",
    "\t# create model\n",
    "\tmodel = Sequential()\n",
    "\tmodel.add(Dense(13, input_dim=33, kernel_initializer='normal', activation='relu'))\n",
    "\tmodel.add(Dense(1, kernel_initializer='normal'))\n",
    "\t# Compile model\n",
    "\tmodel.compile(loss='mean_squared_error', optimizer='adam')\n",
    "\treturn model\n",
    "\n",
    "def larger_model():\n",
    "\t# create model\n",
    "\tmodel = Sequential()\n",
    "\tmodel.add(Dense(13, input_dim=33, kernel_initializer='normal', activation='relu'))\n",
    "\tmodel.add(Dense(6, kernel_initializer='normal', activation='relu'))\n",
    "\tmodel.add(Dense(1, kernel_initializer='normal'))\n",
    "\t# Compile model\n",
    "\tmodel.compile(loss='mean_squared_error', optimizer='adam')\n",
    "\treturn model"
   ]
  },
  {
   "cell_type": "code",
   "execution_count": 98,
   "metadata": {},
   "outputs": [],
   "source": [
    "estimators = []\n",
    "estimators.append(('standardize', StandardScaler()))\n",
    "estimators.append(('mlp', KerasRegressor(build_fn=larger_model, epochs=50, batch_size=5, verbose=0)))\n",
    "pipeline = Pipeline(estimators)\n",
    "kfold = KFold(n_splits=10)\n",
    "results = cross_val_score(pipeline, features, labels, cv=kfold)"
   ]
  },
  {
   "cell_type": "code",
   "execution_count": 99,
   "metadata": {},
   "outputs": [
    {
     "data": {
      "text/plain": [
       "<tf.Tensor 'Cast_6:0' shape=() dtype=float32>"
      ]
     },
     "execution_count": 99,
     "metadata": {},
     "output_type": "execute_result"
    }
   ],
   "source": [
    "tf.cast(results.mean(), float)"
   ]
  },
  {
   "cell_type": "code",
   "execution_count": 100,
   "metadata": {},
   "outputs": [
    {
     "name": "stdout",
     "output_type": "stream",
     "text": [
      "-8375.137315381367\n"
     ]
    }
   ],
   "source": [
    "print(results.mean())"
   ]
  }
 ],
 "metadata": {
  "kernelspec": {
   "display_name": "Python 3",
   "language": "python",
   "name": "python3"
  },
  "language_info": {
   "codemirror_mode": {
    "name": "ipython",
    "version": 3
   },
   "file_extension": ".py",
   "mimetype": "text/x-python",
   "name": "python",
   "nbconvert_exporter": "python",
   "pygments_lexer": "ipython3",
   "version": "3.7.1"
  }
 },
 "nbformat": 4,
 "nbformat_minor": 2
}
