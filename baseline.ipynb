{
 "cells": [
  {
   "cell_type": "markdown",
   "metadata": {},
   "source": [
    "# Joining Processed Data"
   ]
  },
  {
   "cell_type": "markdown",
   "metadata": {},
   "source": [
    "This section joins data processed from data_extraction.ipynb and returns numpy representation of pandas dfs compatible with sklearn. \n",
    "\n",
    "NA values in df1 and df2 are filled with medians of their respective columns (may be testing other options like cosine similarity for missing data)."
   ]
  },
  {
   "cell_type": "code",
   "execution_count": 2,
   "metadata": {},
   "outputs": [],
   "source": [
    "import sklearn\n",
    "import pandas as pd\n",
    "import numpy as np\n",
    "import matplotlib.pyplot as plt"
   ]
  },
  {
   "cell_type": "code",
   "execution_count": 3,
   "metadata": {},
   "outputs": [],
   "source": [
    "demos = pd.read_csv(\"demos_clean.csv\")\n",
    "demos.drop(demos.columns[[0]], axis=1, inplace=True)\n",
    "all_achi = pd.read_csv(\"all_achi.csv\")\n",
    "all_achi.drop(all_achi.columns[[0]], axis=1, inplace=True)"
   ]
  },
  {
   "cell_type": "code",
   "execution_count": 4,
   "metadata": {},
   "outputs": [],
   "source": [
    "df1 = pd.merge(demos, all_achi, on='school_id', how='inner')\n",
    "df1 = df1.drop(columns=['school_name', 'state_name', 'school_id', 'district_id', 'total_race'])\n",
    "for i in range(len(df1.columns)):\n",
    "    df1.iloc[:, i] = df1.iloc[:, i].fillna(df1.iloc[:, i].median(skipna=True))"
   ]
  },
  {
   "cell_type": "code",
   "execution_count": 5,
   "metadata": {},
   "outputs": [],
   "source": [
    "grad = pd.read_csv(\"grad_clean.csv\")\n",
    "grad.drop(grad.columns[[0]], axis=1, inplace=True)\n",
    "financials = pd.read_csv(\"financials_clean.csv\")\n",
    "financials.drop(financials.columns[[0]], axis=1, inplace=True)"
   ]
  },
  {
   "cell_type": "code",
   "execution_count": 6,
   "metadata": {},
   "outputs": [],
   "source": [
    "df2 = pd.merge(demos, grad, on='school_id', how='inner')\n",
    "df2 = pd.merge(df2, financials, on='district_id', how='inner')\n",
    "df2 = pd.merge(df2, all_achi, on='school_id', how='inner')"
   ]
  },
  {
   "cell_type": "code",
   "execution_count": 7,
   "metadata": {},
   "outputs": [],
   "source": [
    "#drop attributes used for data processing\n",
    "df2 = df2.drop(columns=['school_name', 'state_name', 'school_id', 'district_id', 'total_race'])\n",
    "#drop attributes that were pulled, but not predictive\n",
    "df2 = df2.drop(columns=['total_rev', 'total_locrev', 'pta_rev', 'prop_taxes', 'sales_taxes', 'public_utility_taxes', 'income_taxes', 'other_taxes'])\n",
    "df2.total_salaries = df2.total_salaries/df2.total\n",
    "df2.salaries_instruction = df2.salaries_instruction/df2.total\n",
    "df2.salaries_teachers = df2.salaries_teachers/df2.total\n",
    "df2 = df2.rename(columns={'total_salaries': 'total_salaries_ps', 'salaries_instruction': 'salaries_instruction_ps', 'salaries_teachers': 'salaries_teachers_ps'})\n",
    "for i in range(len(df2.columns)):\n",
    "    df2.iloc[:, i] = df2.iloc[:, i].fillna(df2.iloc[:, i].median(skipna=True))"
   ]
  },
  {
   "cell_type": "markdown",
   "metadata": {},
   "source": [
    "# Linear Regression"
   ]
  },
  {
   "cell_type": "markdown",
   "metadata": {},
   "source": [
    "## DF1 Features"
   ]
  },
  {
   "cell_type": "code",
   "execution_count": 434,
   "metadata": {},
   "outputs": [],
   "source": [
    "data = df1.values"
   ]
  },
  {
   "cell_type": "code",
   "execution_count": 435,
   "metadata": {},
   "outputs": [],
   "source": [
    "features = data[:, 0:10]\n",
    "labels = data[:, 10]"
   ]
  },
  {
   "cell_type": "code",
   "execution_count": 436,
   "metadata": {},
   "outputs": [
    {
     "data": {
      "text/plain": [
       "<matplotlib.collections.PathCollection at 0x10a358780>"
      ]
     },
     "execution_count": 436,
     "metadata": {},
     "output_type": "execute_result"
    },
    {
     "data": {
      "image/png": "[encoded data removed]",
      "text/plain": [
       "<Figure size 432x288 with 1 Axes>"
      ]
     },
     "metadata": {
      "needs_background": "light"
     },
     "output_type": "display_data"
    }
   ],
   "source": [
    "plt.scatter(features[:, 1], labels, color='blue')"
   ]
  },
  {
   "cell_type": "code",
   "execution_count": 437,
   "metadata": {},
   "outputs": [],
   "source": [
    "from sklearn.model_selection import train_test_split\n",
    "train, test, train_labels, test_labels = train_test_split(features, labels, test_size = 0.2)"
   ]
  },
  {
   "cell_type": "code",
   "execution_count": 438,
   "metadata": {},
   "outputs": [],
   "source": [
    "from sklearn.linear_model import LinearRegression\n",
    "lr = LinearRegression(normalize=True)"
   ]
  },
  {
   "cell_type": "code",
   "execution_count": 439,
   "metadata": {},
   "outputs": [],
   "source": [
    "model = lr.fit(train, train_labels)"
   ]
  },
  {
   "cell_type": "code",
   "execution_count": 440,
   "metadata": {
    "scrolled": true
   },
   "outputs": [
    {
     "name": "stdout",
     "output_type": "stream",
     "text": [
      "0.2632369514976287\n"
     ]
    }
   ],
   "source": [
    "score = model.score(test, test_labels)\n",
    "print(score)"
   ]
  },
  {
   "cell_type": "markdown",
   "metadata": {},
   "source": [
    "## DF2 Features"
   ]
  },
  {
   "cell_type": "code",
   "execution_count": 441,
   "metadata": {},
   "outputs": [],
   "source": [
    "data_add = df2.values"
   ]
  },
  {
   "cell_type": "code",
   "execution_count": 442,
   "metadata": {},
   "outputs": [],
   "source": [
    "features_add = data_add[:, 0:20]\n",
    "labels_add = data_add[:, 20]"
   ]
  },
  {
   "cell_type": "code",
   "execution_count": 443,
   "metadata": {
    "scrolled": true
   },
   "outputs": [
    {
     "data": {
      "text/plain": [
       "<matplotlib.collections.PathCollection at 0x123093048>"
      ]
     },
     "execution_count": 443,
     "metadata": {},
     "output_type": "execute_result"
    },
    {
     "data": {
      "image/png": "[encoded data removed]",
      "text/plain": [
       "<Figure size 432x288 with 1 Axes>"
      ]
     },
     "metadata": {
      "needs_background": "light"
     },
     "output_type": "display_data"
    }
   ],
   "source": [
    "plt.scatter(features_add[:, 1], labels_add, color='blue')"
   ]
  },
  {
   "cell_type": "code",
   "execution_count": 444,
   "metadata": {},
   "outputs": [],
   "source": [
    "train_add, test_add, train_labels_add, test_labels_add = train_test_split(features_add, labels_add, test_size = 0.2)"
   ]
  },
  {
   "cell_type": "code",
   "execution_count": 445,
   "metadata": {},
   "outputs": [],
   "source": [
    "lr_add = LinearRegression(normalize=True)"
   ]
  },
  {
   "cell_type": "code",
   "execution_count": 446,
   "metadata": {},
   "outputs": [],
   "source": [
    "model_add = lr_add.fit(train_add, train_labels_add)"
   ]
  },
  {
   "cell_type": "code",
   "execution_count": 447,
   "metadata": {},
   "outputs": [
    {
     "name": "stdout",
     "output_type": "stream",
     "text": [
      "0.3919797472513169\n"
     ]
    }
   ],
   "source": [
    "score_add = model_add.score(test_add, test_labels_add)\n",
    "print(score_add)"
   ]
  },
  {
   "cell_type": "markdown",
   "metadata": {},
   "source": [
    "# Multi-Class Classification"
   ]
  },
  {
   "cell_type": "code",
   "execution_count": 448,
   "metadata": {
    "scrolled": true
   },
   "outputs": [
    {
     "name": "stdout",
     "output_type": "stream",
     "text": [
      "max: 88.33333333333331\n",
      "min:  5.0\n"
     ]
    }
   ],
   "source": [
    "print('max:', df2['agg_achi'].max())\n",
    "print('min: ', df2['agg_achi'].min())"
   ]
  },
  {
   "cell_type": "markdown",
   "metadata": {},
   "source": [
    "# Ten Class"
   ]
  },
  {
   "cell_type": "markdown",
   "metadata": {},
   "source": [
    "## DF1 Features"
   ]
  },
  {
   "cell_type": "code",
   "execution_count": 11,
   "metadata": {},
   "outputs": [],
   "source": [
    "bins = [0, 10, 20, 30, 40, 50, 60, 70, 80, 90, 101]\n",
    "names = ['[0-10)', '[10-20)', '[20-30)', '[30-40)', '[40-50)', '[50-60)', '[60-70)', '[70-80)', '[80-90)', '[90-100]']\n",
    "df1['agg_achc'] = pd.cut(df1.agg_achi, bins, labels = names, right = False)"
   ]
  },
  {
   "cell_type": "code",
   "execution_count": 450,
   "metadata": {},
   "outputs": [],
   "source": [
    "ten_class_achidf1 = df1.values"
   ]
  },
  {
   "cell_type": "code",
   "execution_count": 451,
   "metadata": {},
   "outputs": [],
   "source": [
    "mc_features = ten_class_achidf1[:, 0:10]\n",
    "mc_labels = ten_class_achidf1[:, 11]"
   ]
  },
  {
   "cell_type": "code",
   "execution_count": 452,
   "metadata": {},
   "outputs": [],
   "source": [
    "mc_train, mc_test, mc_train_labels, mc_test_labels = train_test_split(mc_features, mc_labels, test_size = 0.2)"
   ]
  },
  {
   "cell_type": "code",
   "execution_count": 453,
   "metadata": {},
   "outputs": [],
   "source": [
    "from sklearn.linear_model import LogisticRegression\n",
    "mclr = LogisticRegression(solver = 'lbfgs', max_iter=10000, multi_class='multinomial')"
   ]
  },
  {
   "cell_type": "code",
   "execution_count": 454,
   "metadata": {},
   "outputs": [],
   "source": [
    "mc_model = mclr.fit(mc_train, mc_train_labels)"
   ]
  },
  {
   "cell_type": "code",
   "execution_count": 455,
   "metadata": {
    "scrolled": true
   },
   "outputs": [
    {
     "name": "stdout",
     "output_type": "stream",
     "text": [
      "0.33229813664596275\n"
     ]
    }
   ],
   "source": [
    "mc_score = mc_model.score(mc_test, mc_test_labels)\n",
    "print(mc_score)"
   ]
  },
  {
   "cell_type": "markdown",
   "metadata": {},
   "source": [
    "## DF2 Features"
   ]
  },
  {
   "cell_type": "code",
   "execution_count": 547,
   "metadata": {},
   "outputs": [],
   "source": [
    "bins = [0, 10, 20, 30, 40, 50, 60, 70, 80, 90, 101]\n",
    "names = ['[0-10)', '[10-20)', '[20-30)', '[30-40)', '[40-50)', '[50-60)', '[60-70)', '[70-80)', '[80-90)', '[90-100]']\n",
    "df2['agg_achc'] = pd.cut(df2.agg_achi, bins, labels = names, right = False)"
   ]
  },
  {
   "cell_type": "code",
   "execution_count": 548,
   "metadata": {},
   "outputs": [],
   "source": [
    "ten_class_achidf2 = df2.values"
   ]
  },
  {
   "cell_type": "code",
   "execution_count": 549,
   "metadata": {},
   "outputs": [],
   "source": [
    "mc_features_add = ten_class_achidf2[:, 0:20]\n",
    "mc_labels_add = ten_class_achidf2[:, 21]"
   ]
  },
  {
   "cell_type": "code",
   "execution_count": 550,
   "metadata": {},
   "outputs": [],
   "source": [
    "mc_train_add, mc_test_add, mc_train_labels_add, mc_test_labels_add = train_test_split(mc_features_add, mc_labels_add, test_size = 0.2)"
   ]
  },
  {
   "cell_type": "code",
   "execution_count": 551,
   "metadata": {},
   "outputs": [],
   "source": [
    "mclr_add = LogisticRegression(solver = 'lbfgs', max_iter=10000, multi_class='multinomial')"
   ]
  },
  {
   "cell_type": "code",
   "execution_count": 552,
   "metadata": {},
   "outputs": [
    {
     "name": "stderr",
     "output_type": "stream",
     "text": [
      "/Library/Frameworks/Python.framework/Versions/3.7/lib/python3.7/site-packages/sklearn/linear_model/logistic.py:758: ConvergenceWarning: lbfgs failed to converge. Increase the number of iterations.\n",
      "  \"of iterations.\", ConvergenceWarning)\n"
     ]
    }
   ],
   "source": [
    "mc_model_add = mclr_add.fit(mc_train_add, mc_train_labels_add)"
   ]
  },
  {
   "cell_type": "code",
   "execution_count": 553,
   "metadata": {
    "scrolled": false
   },
   "outputs": [
    {
     "name": "stdout",
     "output_type": "stream",
     "text": [
      "0.25117739403453687\n"
     ]
    }
   ],
   "source": [
    "mc_score_add = mc_model_add.score(mc_test_add, mc_test_labels_add)\n",
    "print(mc_score_add)"
   ]
  },
  {
   "cell_type": "markdown",
   "metadata": {},
   "source": [
    "## Random/Majority Class"
   ]
  },
  {
   "cell_type": "code",
   "execution_count": 463,
   "metadata": {},
   "outputs": [
    {
     "name": "stdout",
     "output_type": "stream",
     "text": [
      "[[80-90), [70-80), [40-50), [40-50), [20-30), ..., [70-80), [50-60), [30-40), [60-70), [0-10)]\n",
      "Length: 637\n",
      "Categories (10, object): [[0-10) < [10-20) < [20-30) < [30-40) ... [60-70) < [70-80) < [80-90) < [90-100]]\n"
     ]
    }
   ],
   "source": [
    "random_labels = np.random.uniform(low=0, high=100, size=(len(mc_test_labels_add,)))\n",
    "bins = [0, 10, 20, 30, 40, 50, 60, 70, 80, 90, 101]\n",
    "names = ['[0-10)', '[10-20)', '[20-30)', '[30-40)', '[40-50)', '[50-60)', '[60-70)', '[70-80)', '[80-90)', '[90-100]']\n",
    "random_labels = pd.cut(random_labels, bins, labels = names, right = False)\n",
    "print(random_labels)"
   ]
  },
  {
   "cell_type": "code",
   "execution_count": 464,
   "metadata": {},
   "outputs": [
    {
     "name": "stdout",
     "output_type": "stream",
     "text": [
      "0.10518053375196232\n"
     ]
    }
   ],
   "source": [
    "from sklearn.metrics import accuracy_score\n",
    "sanity_score = accuracy_score(mc_test_labels_add, random_labels)\n",
    "print(sanity_score)"
   ]
  },
  {
   "cell_type": "code",
   "execution_count": 465,
   "metadata": {},
   "outputs": [],
   "source": [
    "ten_class_achilabels = pd.DataFrame(mc_train_labels_add)"
   ]
  },
  {
   "cell_type": "code",
   "execution_count": 466,
   "metadata": {
    "scrolled": true
   },
   "outputs": [
    {
     "data": {
      "text/plain": [
       "[30-40)    615\n",
       "[40-50)    547\n",
       "[20-30)    526\n",
       "[50-60)    517\n",
       "[10-20)    209\n",
       "[60-70)     70\n",
       "[0-10)      40\n",
       "[70-80)     17\n",
       "[80-90)      3\n",
       "Name: 0, dtype: int64"
      ]
     },
     "execution_count": 466,
     "metadata": {},
     "output_type": "execute_result"
    }
   ],
   "source": [
    "ten_class_achilabels.iloc[:, 0].value_counts()"
   ]
  },
  {
   "cell_type": "code",
   "execution_count": 467,
   "metadata": {},
   "outputs": [],
   "source": [
    "common_labels = np.repeat('[30-40)', len(mc_test_labels_add))"
   ]
  },
  {
   "cell_type": "code",
   "execution_count": 468,
   "metadata": {},
   "outputs": [
    {
     "name": "stdout",
     "output_type": "stream",
     "text": [
      "0.23547880690737832\n"
     ]
    }
   ],
   "source": [
    "sanity_score2 = accuracy_score(mc_test_labels_add, common_labels)\n",
    "print(sanity_score2)"
   ]
  },
  {
   "cell_type": "markdown",
   "metadata": {},
   "source": [
    "# Four Class"
   ]
  },
  {
   "cell_type": "markdown",
   "metadata": {},
   "source": [
    "## DF1 Features"
   ]
  },
  {
   "cell_type": "code",
   "execution_count": 469,
   "metadata": {},
   "outputs": [],
   "source": [
    "bins = [0, 25, 50, 75, 101]\n",
    "names = ['[0-25)', '[25-50)', '[50-75)', '[75-100]']\n",
    "df1['agg_achc'] = pd.cut(df1.agg_achi, bins, labels = names, right = False)"
   ]
  },
  {
   "cell_type": "code",
   "execution_count": 470,
   "metadata": {},
   "outputs": [],
   "source": [
    "four_class_achidf1 = df1.values"
   ]
  },
  {
   "cell_type": "code",
   "execution_count": 471,
   "metadata": {},
   "outputs": [],
   "source": [
    "mc_features = four_class_achidf1[:, 0:10]\n",
    "mc_labels = four_class_achidf1[:, 11]"
   ]
  },
  {
   "cell_type": "code",
   "execution_count": 472,
   "metadata": {},
   "outputs": [],
   "source": [
    "mc_train, mc_test, mc_train_labels, mc_test_labels = train_test_split(mc_features, mc_labels, test_size = 0.2)"
   ]
  },
  {
   "cell_type": "code",
   "execution_count": 473,
   "metadata": {},
   "outputs": [],
   "source": [
    "from sklearn.linear_model import LogisticRegression\n",
    "mclr = LogisticRegression(solver = 'lbfgs', max_iter=10000, multi_class='multinomial')"
   ]
  },
  {
   "cell_type": "code",
   "execution_count": 474,
   "metadata": {},
   "outputs": [],
   "source": [
    "mc_model = mclr.fit(mc_train, mc_train_labels)"
   ]
  },
  {
   "cell_type": "code",
   "execution_count": 475,
   "metadata": {
    "scrolled": true
   },
   "outputs": [
    {
     "name": "stdout",
     "output_type": "stream",
     "text": [
      "0.5869565217391305\n"
     ]
    }
   ],
   "source": [
    "mc_score = mc_model.score(mc_test, mc_test_labels)\n",
    "print(mc_score)"
   ]
  },
  {
   "cell_type": "markdown",
   "metadata": {},
   "source": [
    "## DF2 Features"
   ]
  },
  {
   "cell_type": "code",
   "execution_count": 476,
   "metadata": {},
   "outputs": [],
   "source": [
    "bins = [0, 25, 50, 75, 101]\n",
    "names = ['[0-25)', '[25-50)', '[50-75)', '[75-100]']\n",
    "df2['agg_achc'] = pd.cut(df2.agg_achi, bins, labels = names, right = False)"
   ]
  },
  {
   "cell_type": "code",
   "execution_count": 477,
   "metadata": {},
   "outputs": [],
   "source": [
    "four_class_achidf2 = df2.values"
   ]
  },
  {
   "cell_type": "code",
   "execution_count": 478,
   "metadata": {},
   "outputs": [],
   "source": [
    "mc_features_add = four_class_achidf2[:, 0:20]\n",
    "mc_labels_add = four_class_achidf2[:, 21]"
   ]
  },
  {
   "cell_type": "code",
   "execution_count": 479,
   "metadata": {},
   "outputs": [],
   "source": [
    "mc_train_add, mc_test_add, mc_train_labels_add, mc_test_labels_add = train_test_split(mc_features_add, mc_labels_add, test_size = 0.2)"
   ]
  },
  {
   "cell_type": "code",
   "execution_count": 480,
   "metadata": {},
   "outputs": [],
   "source": [
    "mclr_add = LogisticRegression(solver = 'lbfgs', max_iter=10000, multi_class='multinomial')"
   ]
  },
  {
   "cell_type": "code",
   "execution_count": 481,
   "metadata": {},
   "outputs": [],
   "source": [
    "mc_model_add = mclr_add.fit(mc_train_add, mc_train_labels_add)"
   ]
  },
  {
   "cell_type": "code",
   "execution_count": 482,
   "metadata": {
    "scrolled": false
   },
   "outputs": [
    {
     "name": "stdout",
     "output_type": "stream",
     "text": [
      "0.565149136577708\n"
     ]
    }
   ],
   "source": [
    "mc_score_add = mc_model_add.score(mc_test_add, mc_test_labels_add)\n",
    "print(mc_score_add)"
   ]
  },
  {
   "cell_type": "markdown",
   "metadata": {},
   "source": [
    "## Random/Majority Class"
   ]
  },
  {
   "cell_type": "code",
   "execution_count": 483,
   "metadata": {},
   "outputs": [
    {
     "name": "stdout",
     "output_type": "stream",
     "text": [
      "[[25-50), [0-25), [0-25), [25-50), [25-50), ..., [50-75), [50-75), [50-75), [75-100], [50-75)]\n",
      "Length: 637\n",
      "Categories (4, object): [[0-25) < [25-50) < [50-75) < [75-100]]\n"
     ]
    }
   ],
   "source": [
    "random_labels = np.random.uniform(low=0, high=100, size=(len(mc_test_labels_add,)))\n",
    "bins = [0, 25, 50, 75, 101]\n",
    "names = ['[0-25)', '[25-50)', '[50-75)', '[75-100]']\n",
    "random_labels = pd.cut(random_labels, bins, labels = names, right = False)\n",
    "print(random_labels)"
   ]
  },
  {
   "cell_type": "code",
   "execution_count": 484,
   "metadata": {},
   "outputs": [
    {
     "name": "stdout",
     "output_type": "stream",
     "text": [
      "0.22919937205651492\n"
     ]
    }
   ],
   "source": [
    "from sklearn.metrics import accuracy_score\n",
    "sanity_score = accuracy_score(mc_test_labels_add, random_labels)\n",
    "print(sanity_score)"
   ]
  },
  {
   "cell_type": "code",
   "execution_count": 485,
   "metadata": {},
   "outputs": [],
   "source": [
    "four_class_achilabels = pd.DataFrame(mc_train_labels_add)"
   ]
  },
  {
   "cell_type": "code",
   "execution_count": 486,
   "metadata": {
    "scrolled": true
   },
   "outputs": [
    {
     "data": {
      "text/plain": [
       "[25-50)     1411\n",
       "[50-75)      592\n",
       "[0-25)       528\n",
       "[75-100]      13\n",
       "Name: 0, dtype: int64"
      ]
     },
     "execution_count": 486,
     "metadata": {},
     "output_type": "execute_result"
    }
   ],
   "source": [
    "four_class_achilabels.iloc[:, 0].value_counts()"
   ]
  },
  {
   "cell_type": "code",
   "execution_count": 487,
   "metadata": {},
   "outputs": [],
   "source": [
    "common_labels = np.repeat('[25-50)', len(mc_test_labels_add))"
   ]
  },
  {
   "cell_type": "code",
   "execution_count": 488,
   "metadata": {
    "scrolled": true
   },
   "outputs": [
    {
     "name": "stdout",
     "output_type": "stream",
     "text": [
      "0.5667189952904239\n"
     ]
    }
   ],
   "source": [
    "sanity_score2 = accuracy_score(mc_test_labels_add, common_labels)\n",
    "print(sanity_score2)"
   ]
  },
  {
   "cell_type": "markdown",
   "metadata": {},
   "source": [
    "# Multi-Class Classification (grad_rate)"
   ]
  },
  {
   "cell_type": "code",
   "execution_count": 489,
   "metadata": {},
   "outputs": [
    {
     "data": {
      "text/html": [
       "<div>\n",
       "<style scoped>\n",
       "    .dataframe tbody tr th:only-of-type {\n",
       "        vertical-align: middle;\n",
       "    }\n",
       "\n",
       "    .dataframe tbody tr th {\n",
       "        vertical-align: top;\n",
       "    }\n",
       "\n",
       "    .dataframe thead th {\n",
       "        text-align: right;\n",
       "    }\n",
       "</style>\n",
       "<table border=\"1\" class=\"dataframe\">\n",
       "  <thead>\n",
       "    <tr style=\"text-align: right;\">\n",
       "      <th></th>\n",
       "      <th>school_id</th>\n",
       "      <th>grad_rate_all</th>\n",
       "      <th>grad_rate_native</th>\n",
       "      <th>grad_rate_asian</th>\n",
       "      <th>grad_rate_black</th>\n",
       "      <th>grad_rate_hispanic</th>\n",
       "      <th>grad_rate_mixed</th>\n",
       "      <th>grad_rate_linc</th>\n",
       "    </tr>\n",
       "  </thead>\n",
       "  <tbody>\n",
       "    <tr>\n",
       "      <th>0</th>\n",
       "      <td>1.000050e+10</td>\n",
       "      <td>93.0</td>\n",
       "      <td>NaN</td>\n",
       "      <td>NaN</td>\n",
       "      <td>NaN</td>\n",
       "      <td>90.0</td>\n",
       "      <td>NaN</td>\n",
       "      <td>NaN</td>\n",
       "    </tr>\n",
       "    <tr>\n",
       "      <th>1</th>\n",
       "      <td>1.000060e+10</td>\n",
       "      <td>90.0</td>\n",
       "      <td>NaN</td>\n",
       "      <td>NaN</td>\n",
       "      <td>NaN</td>\n",
       "      <td>NaN</td>\n",
       "      <td>NaN</td>\n",
       "      <td>NaN</td>\n",
       "    </tr>\n",
       "    <tr>\n",
       "      <th>2</th>\n",
       "      <td>1.000060e+10</td>\n",
       "      <td>85.0</td>\n",
       "      <td>NaN</td>\n",
       "      <td>NaN</td>\n",
       "      <td>NaN</td>\n",
       "      <td>NaN</td>\n",
       "      <td>NaN</td>\n",
       "      <td>NaN</td>\n",
       "    </tr>\n",
       "    <tr>\n",
       "      <th>3</th>\n",
       "      <td>1.000060e+10</td>\n",
       "      <td>90.0</td>\n",
       "      <td>NaN</td>\n",
       "      <td>NaN</td>\n",
       "      <td>NaN</td>\n",
       "      <td>NaN</td>\n",
       "      <td>NaN</td>\n",
       "      <td>NaN</td>\n",
       "    </tr>\n",
       "    <tr>\n",
       "      <th>4</th>\n",
       "      <td>1.000060e+10</td>\n",
       "      <td>85.0</td>\n",
       "      <td>NaN</td>\n",
       "      <td>NaN</td>\n",
       "      <td>NaN</td>\n",
       "      <td>NaN</td>\n",
       "      <td>NaN</td>\n",
       "      <td>NaN</td>\n",
       "    </tr>\n",
       "  </tbody>\n",
       "</table>\n",
       "</div>"
      ],
      "text/plain": [
       "      school_id  grad_rate_all  grad_rate_native  grad_rate_asian  \\\n",
       "0  1.000050e+10           93.0               NaN              NaN   \n",
       "1  1.000060e+10           90.0               NaN              NaN   \n",
       "2  1.000060e+10           85.0               NaN              NaN   \n",
       "3  1.000060e+10           90.0               NaN              NaN   \n",
       "4  1.000060e+10           85.0               NaN              NaN   \n",
       "\n",
       "   grad_rate_black  grad_rate_hispanic  grad_rate_mixed  grad_rate_linc  \n",
       "0              NaN                90.0              NaN             NaN  \n",
       "1              NaN                 NaN              NaN             NaN  \n",
       "2              NaN                 NaN              NaN             NaN  \n",
       "3              NaN                 NaN              NaN             NaN  \n",
       "4              NaN                 NaN              NaN             NaN  "
      ]
     },
     "execution_count": 489,
     "metadata": {},
     "output_type": "execute_result"
    }
   ],
   "source": [
    "grad.head()"
   ]
  },
  {
   "cell_type": "code",
   "execution_count": 490,
   "metadata": {},
   "outputs": [],
   "source": [
    "grad['agg_grad_rate'] = grad.iloc[:, 2:].mean(axis=1)"
   ]
  },
  {
   "cell_type": "code",
   "execution_count": 491,
   "metadata": {},
   "outputs": [],
   "source": [
    "grad = grad[['school_id', 'agg_grad_rate']]"
   ]
  },
  {
   "cell_type": "code",
   "execution_count": 492,
   "metadata": {},
   "outputs": [],
   "source": [
    "grad = grad.dropna(how='any')"
   ]
  },
  {
   "cell_type": "code",
   "execution_count": 493,
   "metadata": {
    "scrolled": false
   },
   "outputs": [
    {
     "data": {
      "text/plain": [
       "(11810, 2)"
      ]
     },
     "execution_count": 493,
     "metadata": {},
     "output_type": "execute_result"
    }
   ],
   "source": [
    "grad.shape"
   ]
  },
  {
   "cell_type": "markdown",
   "metadata": {},
   "source": [
    "# Ten Class"
   ]
  },
  {
   "cell_type": "markdown",
   "metadata": {},
   "source": [
    "## DF3 Features"
   ]
  },
  {
   "cell_type": "code",
   "execution_count": 574,
   "metadata": {},
   "outputs": [],
   "source": [
    "df3 = pd.merge(demos, grad, on='school_id', how='inner')\n",
    "df3 = df3.drop(columns=['school_name', 'state_name', 'school_id', 'district_id', 'total_race'])\n",
    "for i in range(len(df3.columns)):\n",
    "    df3.iloc[:, i] = df3.iloc[:, i].fillna(df3.iloc[:, i].median(skipna=True))"
   ]
  },
  {
   "cell_type": "code",
   "execution_count": 575,
   "metadata": {
    "scrolled": false
   },
   "outputs": [
    {
     "data": {
      "text/html": [
       "<div>\n",
       "<style scoped>\n",
       "    .dataframe tbody tr th:only-of-type {\n",
       "        vertical-align: middle;\n",
       "    }\n",
       "\n",
       "    .dataframe tbody tr th {\n",
       "        vertical-align: top;\n",
       "    }\n",
       "\n",
       "    .dataframe thead th {\n",
       "        text-align: right;\n",
       "    }\n",
       "</style>\n",
       "<table border=\"1\" class=\"dataframe\">\n",
       "  <thead>\n",
       "    <tr style=\"text-align: right;\">\n",
       "      <th></th>\n",
       "      <th>pct_native</th>\n",
       "      <th>pct_asian</th>\n",
       "      <th>pct_hispanic</th>\n",
       "      <th>pct_black</th>\n",
       "      <th>pct_white</th>\n",
       "      <th>pct_pacisl</th>\n",
       "      <th>pct_mixed</th>\n",
       "      <th>free_lunch</th>\n",
       "      <th>reduced_lunch</th>\n",
       "      <th>total</th>\n",
       "      <th>agg_grad_rate</th>\n",
       "    </tr>\n",
       "  </thead>\n",
       "  <tbody>\n",
       "    <tr>\n",
       "      <th>0</th>\n",
       "      <td>0.000000</td>\n",
       "      <td>0.072464</td>\n",
       "      <td>0.782609</td>\n",
       "      <td>0.043478</td>\n",
       "      <td>0.086957</td>\n",
       "      <td>0.000000</td>\n",
       "      <td>0.014493</td>\n",
       "      <td>0.521739</td>\n",
       "      <td>0.014493</td>\n",
       "      <td>69.0</td>\n",
       "      <td>20.000000</td>\n",
       "    </tr>\n",
       "    <tr>\n",
       "      <th>1</th>\n",
       "      <td>0.000000</td>\n",
       "      <td>0.006579</td>\n",
       "      <td>0.888158</td>\n",
       "      <td>0.032895</td>\n",
       "      <td>0.052632</td>\n",
       "      <td>0.006579</td>\n",
       "      <td>0.013158</td>\n",
       "      <td>0.776316</td>\n",
       "      <td>0.085526</td>\n",
       "      <td>152.0</td>\n",
       "      <td>72.500000</td>\n",
       "    </tr>\n",
       "    <tr>\n",
       "      <th>2</th>\n",
       "      <td>0.005691</td>\n",
       "      <td>0.053802</td>\n",
       "      <td>0.741852</td>\n",
       "      <td>0.028971</td>\n",
       "      <td>0.144853</td>\n",
       "      <td>0.005173</td>\n",
       "      <td>0.019659</td>\n",
       "      <td>0.443870</td>\n",
       "      <td>0.115882</td>\n",
       "      <td>1933.0</td>\n",
       "      <td>95.000000</td>\n",
       "    </tr>\n",
       "    <tr>\n",
       "      <th>3</th>\n",
       "      <td>0.006903</td>\n",
       "      <td>0.047455</td>\n",
       "      <td>0.885246</td>\n",
       "      <td>0.028473</td>\n",
       "      <td>0.026747</td>\n",
       "      <td>0.002783</td>\n",
       "      <td>0.005177</td>\n",
       "      <td>0.821398</td>\n",
       "      <td>0.099223</td>\n",
       "      <td>1159.0</td>\n",
       "      <td>75.000000</td>\n",
       "    </tr>\n",
       "    <tr>\n",
       "      <th>4</th>\n",
       "      <td>0.003980</td>\n",
       "      <td>0.231841</td>\n",
       "      <td>0.732338</td>\n",
       "      <td>0.012935</td>\n",
       "      <td>0.013930</td>\n",
       "      <td>0.002783</td>\n",
       "      <td>0.004975</td>\n",
       "      <td>0.817910</td>\n",
       "      <td>0.111443</td>\n",
       "      <td>1005.0</td>\n",
       "      <td>76.666667</td>\n",
       "    </tr>\n",
       "  </tbody>\n",
       "</table>\n",
       "</div>"
      ],
      "text/plain": [
       "   pct_native  pct_asian  pct_hispanic  pct_black  pct_white  pct_pacisl  \\\n",
       "0    0.000000   0.072464      0.782609   0.043478   0.086957    0.000000   \n",
       "1    0.000000   0.006579      0.888158   0.032895   0.052632    0.006579   \n",
       "2    0.005691   0.053802      0.741852   0.028971   0.144853    0.005173   \n",
       "3    0.006903   0.047455      0.885246   0.028473   0.026747    0.002783   \n",
       "4    0.003980   0.231841      0.732338   0.012935   0.013930    0.002783   \n",
       "\n",
       "   pct_mixed  free_lunch  reduced_lunch   total  agg_grad_rate  \n",
       "0   0.014493    0.521739       0.014493    69.0      20.000000  \n",
       "1   0.013158    0.776316       0.085526   152.0      72.500000  \n",
       "2   0.019659    0.443870       0.115882  1933.0      95.000000  \n",
       "3   0.005177    0.821398       0.099223  1159.0      75.000000  \n",
       "4   0.004975    0.817910       0.111443  1005.0      76.666667  "
      ]
     },
     "execution_count": 575,
     "metadata": {},
     "output_type": "execute_result"
    }
   ],
   "source": [
    "df3.head()"
   ]
  },
  {
   "cell_type": "code",
   "execution_count": 576,
   "metadata": {},
   "outputs": [
    {
     "name": "stdout",
     "output_type": "stream",
     "text": [
      "max: 98.0\n",
      "min:  2.5\n"
     ]
    }
   ],
   "source": [
    "print('max:', df3['agg_grad_rate'].max())\n",
    "print('min: ', df3['agg_grad_rate'].min())"
   ]
  },
  {
   "cell_type": "code",
   "execution_count": 577,
   "metadata": {},
   "outputs": [],
   "source": [
    "bins = [0, 10, 20, 30, 40, 50, 60, 70, 80, 90, 101]\n",
    "names = ['[0-10)', '[10-20)', '[20-30)', '[30-40)', '[40-50)', '[50-60)', '[60-70)', '[70-80)', '[80-90)', '[90-100]']\n",
    "df3['agg_grad_ratec'] = pd.cut(df3.agg_grad_rate, bins, labels = names, right = False)"
   ]
  },
  {
   "cell_type": "code",
   "execution_count": 578,
   "metadata": {},
   "outputs": [],
   "source": [
    "ten_class_graddf3 = df3.values"
   ]
  },
  {
   "cell_type": "code",
   "execution_count": 579,
   "metadata": {},
   "outputs": [],
   "source": [
    "mc_features = ten_class_graddf3[:, 0:10]\n",
    "mc_labels = ten_class_graddf3[:, 11]"
   ]
  },
  {
   "cell_type": "code",
   "execution_count": 580,
   "metadata": {},
   "outputs": [],
   "source": [
    "mc_train, mc_test, mc_train_labels, mc_test_labels = train_test_split(mc_features, mc_labels, test_size = 0.2)"
   ]
  },
  {
   "cell_type": "code",
   "execution_count": 581,
   "metadata": {},
   "outputs": [],
   "source": [
    "from sklearn.linear_model import LogisticRegression\n",
    "mclr = LogisticRegression(solver = 'lbfgs', max_iter=10000, multi_class='multinomial')"
   ]
  },
  {
   "cell_type": "code",
   "execution_count": 582,
   "metadata": {},
   "outputs": [],
   "source": [
    "mc_model = mclr.fit(mc_train, mc_train_labels)"
   ]
  },
  {
   "cell_type": "code",
   "execution_count": 583,
   "metadata": {
    "scrolled": false
   },
   "outputs": [
    {
     "name": "stdout",
     "output_type": "stream",
     "text": [
      "0.3625866050808314\n"
     ]
    }
   ],
   "source": [
    "mc_score = mc_model.score(mc_test, mc_test_labels)\n",
    "print(mc_score)"
   ]
  },
  {
   "cell_type": "markdown",
   "metadata": {},
   "source": [
    "## DF4 Features"
   ]
  },
  {
   "cell_type": "code",
   "execution_count": 504,
   "metadata": {},
   "outputs": [],
   "source": [
    "df4 = pd.merge(demos, all_achi, on='school_id', how='inner')\n",
    "df4 = pd.merge(df4, financials, on='district_id', how='inner')\n",
    "df4 = pd.merge(df4, grad, on='school_id', how='inner')\n",
    "#drop attributes used for data processing\n",
    "df4 = df4.drop(columns=['school_name', 'state_name', 'school_id', 'district_id', 'total_race'])\n",
    "#drop attributes that were pulled, but not predictive\n",
    "df4 = df4.drop(columns=['total_rev', 'total_locrev', 'pta_rev', 'prop_taxes', 'sales_taxes', 'public_utility_taxes', 'income_taxes', 'other_taxes'])\n",
    "df4.total_salaries = df4.total_salaries/df4.total\n",
    "df4.salaries_instruction = df4.salaries_instruction/df4.total\n",
    "df4.salaries_teachers = df4.salaries_teachers/df4.total\n",
    "df4 = df4.rename(columns={'total_salaries': 'total_salaries_ps', 'salaries_instruction': 'salaries_instruction_ps', 'salaries_teachers': 'salaries_teachers_ps'})\n",
    "for i in range(len(df4.columns)):\n",
    "    df4.iloc[:, i] = df4.iloc[:, i].fillna(df4.iloc[:, i].median(skipna=True))"
   ]
  },
  {
   "cell_type": "code",
   "execution_count": 505,
   "metadata": {
    "scrolled": true
   },
   "outputs": [
    {
     "data": {
      "text/html": [
       "<div>\n",
       "<style scoped>\n",
       "    .dataframe tbody tr th:only-of-type {\n",
       "        vertical-align: middle;\n",
       "    }\n",
       "\n",
       "    .dataframe tbody tr th {\n",
       "        vertical-align: top;\n",
       "    }\n",
       "\n",
       "    .dataframe thead th {\n",
       "        text-align: right;\n",
       "    }\n",
       "</style>\n",
       "<table border=\"1\" class=\"dataframe\">\n",
       "  <thead>\n",
       "    <tr style=\"text-align: right;\">\n",
       "      <th></th>\n",
       "      <th>pct_native</th>\n",
       "      <th>pct_asian</th>\n",
       "      <th>pct_hispanic</th>\n",
       "      <th>pct_black</th>\n",
       "      <th>pct_white</th>\n",
       "      <th>pct_pacisl</th>\n",
       "      <th>pct_mixed</th>\n",
       "      <th>free_lunch</th>\n",
       "      <th>reduced_lunch</th>\n",
       "      <th>total</th>\n",
       "      <th>agg_achi</th>\n",
       "      <th>total_salaries_ps</th>\n",
       "      <th>salaries_instruction_ps</th>\n",
       "      <th>salaries_teachers_ps</th>\n",
       "      <th>agg_grad_rate</th>\n",
       "    </tr>\n",
       "  </thead>\n",
       "  <tbody>\n",
       "    <tr>\n",
       "      <th>0</th>\n",
       "      <td>0.000000</td>\n",
       "      <td>0.072464</td>\n",
       "      <td>0.782609</td>\n",
       "      <td>0.043478</td>\n",
       "      <td>0.086957</td>\n",
       "      <td>0.000000</td>\n",
       "      <td>0.014493</td>\n",
       "      <td>0.521739</td>\n",
       "      <td>0.014493</td>\n",
       "      <td>69.0</td>\n",
       "      <td>35.0</td>\n",
       "      <td>1.887739e+06</td>\n",
       "      <td>1.212304e+06</td>\n",
       "      <td>911420.289855</td>\n",
       "      <td>20.0</td>\n",
       "    </tr>\n",
       "    <tr>\n",
       "      <th>1</th>\n",
       "      <td>0.002759</td>\n",
       "      <td>0.132414</td>\n",
       "      <td>0.700000</td>\n",
       "      <td>0.097931</td>\n",
       "      <td>0.042759</td>\n",
       "      <td>0.012414</td>\n",
       "      <td>0.011724</td>\n",
       "      <td>0.642759</td>\n",
       "      <td>0.099310</td>\n",
       "      <td>1450.0</td>\n",
       "      <td>51.5</td>\n",
       "      <td>8.983034e+04</td>\n",
       "      <td>5.768897e+04</td>\n",
       "      <td>43371.034483</td>\n",
       "      <td>90.0</td>\n",
       "    </tr>\n",
       "    <tr>\n",
       "      <th>2</th>\n",
       "      <td>0.000917</td>\n",
       "      <td>0.594495</td>\n",
       "      <td>0.241284</td>\n",
       "      <td>0.066972</td>\n",
       "      <td>0.064679</td>\n",
       "      <td>0.004587</td>\n",
       "      <td>0.027064</td>\n",
       "      <td>0.199083</td>\n",
       "      <td>0.087156</td>\n",
       "      <td>2180.0</td>\n",
       "      <td>62.2</td>\n",
       "      <td>5.974954e+04</td>\n",
       "      <td>3.837110e+04</td>\n",
       "      <td>28847.706422</td>\n",
       "      <td>93.5</td>\n",
       "    </tr>\n",
       "    <tr>\n",
       "      <th>3</th>\n",
       "      <td>0.002972</td>\n",
       "      <td>0.282318</td>\n",
       "      <td>0.459138</td>\n",
       "      <td>0.157999</td>\n",
       "      <td>0.071322</td>\n",
       "      <td>0.009411</td>\n",
       "      <td>0.016840</td>\n",
       "      <td>0.413571</td>\n",
       "      <td>0.119861</td>\n",
       "      <td>2019.0</td>\n",
       "      <td>47.5</td>\n",
       "      <td>6.451412e+04</td>\n",
       "      <td>4.143091e+04</td>\n",
       "      <td>31148.093115</td>\n",
       "      <td>96.0</td>\n",
       "    </tr>\n",
       "    <tr>\n",
       "      <th>4</th>\n",
       "      <td>0.012698</td>\n",
       "      <td>0.076190</td>\n",
       "      <td>0.717460</td>\n",
       "      <td>0.088889</td>\n",
       "      <td>0.088889</td>\n",
       "      <td>0.006349</td>\n",
       "      <td>0.009524</td>\n",
       "      <td>0.587302</td>\n",
       "      <td>0.053968</td>\n",
       "      <td>315.0</td>\n",
       "      <td>26.2</td>\n",
       "      <td>4.135048e+05</td>\n",
       "      <td>2.655524e+05</td>\n",
       "      <td>199644.444444</td>\n",
       "      <td>60.0</td>\n",
       "    </tr>\n",
       "  </tbody>\n",
       "</table>\n",
       "</div>"
      ],
      "text/plain": [
       "   pct_native  pct_asian  pct_hispanic  pct_black  pct_white  pct_pacisl  \\\n",
       "0    0.000000   0.072464      0.782609   0.043478   0.086957    0.000000   \n",
       "1    0.002759   0.132414      0.700000   0.097931   0.042759    0.012414   \n",
       "2    0.000917   0.594495      0.241284   0.066972   0.064679    0.004587   \n",
       "3    0.002972   0.282318      0.459138   0.157999   0.071322    0.009411   \n",
       "4    0.012698   0.076190      0.717460   0.088889   0.088889    0.006349   \n",
       "\n",
       "   pct_mixed  free_lunch  reduced_lunch   total  agg_achi  total_salaries_ps  \\\n",
       "0   0.014493    0.521739       0.014493    69.0      35.0       1.887739e+06   \n",
       "1   0.011724    0.642759       0.099310  1450.0      51.5       8.983034e+04   \n",
       "2   0.027064    0.199083       0.087156  2180.0      62.2       5.974954e+04   \n",
       "3   0.016840    0.413571       0.119861  2019.0      47.5       6.451412e+04   \n",
       "4   0.009524    0.587302       0.053968   315.0      26.2       4.135048e+05   \n",
       "\n",
       "   salaries_instruction_ps  salaries_teachers_ps  agg_grad_rate  \n",
       "0             1.212304e+06         911420.289855           20.0  \n",
       "1             5.768897e+04          43371.034483           90.0  \n",
       "2             3.837110e+04          28847.706422           93.5  \n",
       "3             4.143091e+04          31148.093115           96.0  \n",
       "4             2.655524e+05         199644.444444           60.0  "
      ]
     },
     "execution_count": 505,
     "metadata": {},
     "output_type": "execute_result"
    }
   ],
   "source": [
    "df4.head()"
   ]
  },
  {
   "cell_type": "code",
   "execution_count": 506,
   "metadata": {},
   "outputs": [
    {
     "name": "stdout",
     "output_type": "stream",
     "text": [
      "max: 98.0\n",
      "min:  2.5\n"
     ]
    }
   ],
   "source": [
    "print('max:', df4['agg_grad_rate'].max())\n",
    "print('min: ', df4['agg_grad_rate'].min())"
   ]
  },
  {
   "cell_type": "code",
   "execution_count": 507,
   "metadata": {},
   "outputs": [],
   "source": [
    "bins = [0, 10, 20, 30, 40, 50, 60, 70, 80, 90, 101]\n",
    "names = ['[0-10)', '[10-20)', '[20-30)', '[30-40)', '[40-50)', '[50-60)', '[60-70)', '[70-80)', '[80-90)', '[90-100]']\n",
    "df4['agg_grad_ratec'] = pd.cut(df4.agg_grad_rate, bins, labels = names, right = False)"
   ]
  },
  {
   "cell_type": "code",
   "execution_count": 508,
   "metadata": {},
   "outputs": [],
   "source": [
    "ten_class_graddf4 = df4.values"
   ]
  },
  {
   "cell_type": "code",
   "execution_count": 509,
   "metadata": {},
   "outputs": [],
   "source": [
    "mc_features_add = ten_class_graddf4[:, 0:13]\n",
    "mc_labels_add = ten_class_graddf4[:, 15]"
   ]
  },
  {
   "cell_type": "code",
   "execution_count": 510,
   "metadata": {},
   "outputs": [],
   "source": [
    "mc_train_add, mc_test_add, mc_train_labels_add, mc_test_labels_add = train_test_split(mc_features_add, mc_labels_add, test_size = 0.2)"
   ]
  },
  {
   "cell_type": "code",
   "execution_count": 511,
   "metadata": {},
   "outputs": [],
   "source": [
    "mclr_add = LogisticRegression(solver = 'lbfgs', max_iter=10000, multi_class='multinomial')"
   ]
  },
  {
   "cell_type": "code",
   "execution_count": 512,
   "metadata": {},
   "outputs": [],
   "source": [
    "mc_model_add = mclr_add.fit(mc_train_add, mc_train_labels_add)"
   ]
  },
  {
   "cell_type": "code",
   "execution_count": 513,
   "metadata": {
    "scrolled": true
   },
   "outputs": [
    {
     "name": "stdout",
     "output_type": "stream",
     "text": [
      "0.29256594724220625\n"
     ]
    }
   ],
   "source": [
    "mc_score_add = mc_model_add.score(mc_test_add, mc_test_labels_add)\n",
    "print(mc_score_add)"
   ]
  },
  {
   "cell_type": "markdown",
   "metadata": {},
   "source": [
    "## Random/Majority Class"
   ]
  },
  {
   "cell_type": "code",
   "execution_count": 514,
   "metadata": {},
   "outputs": [
    {
     "name": "stdout",
     "output_type": "stream",
     "text": [
      "[[50-60), [0-10), [40-50), [20-30), [60-70), ..., [60-70), [80-90), [0-10), [60-70), [20-30)]\n",
      "Length: 417\n",
      "Categories (10, object): [[0-10) < [10-20) < [20-30) < [30-40) ... [60-70) < [70-80) < [80-90) < [90-100]]\n"
     ]
    }
   ],
   "source": [
    "random_labels = np.random.uniform(low=0, high=100, size=(len(mc_test_labels_add,)))\n",
    "bins = [0, 10, 20, 30, 40, 50, 60, 70, 80, 90, 101]\n",
    "names = ['[0-10)', '[10-20)', '[20-30)', '[30-40)', '[40-50)', '[50-60)', '[60-70)', '[70-80)', '[80-90)', '[90-100]']\n",
    "random_labels = pd.cut(random_labels, bins, labels = names, right = False)\n",
    "print(random_labels)"
   ]
  },
  {
   "cell_type": "code",
   "execution_count": 515,
   "metadata": {},
   "outputs": [
    {
     "name": "stdout",
     "output_type": "stream",
     "text": [
      "0.07913669064748201\n"
     ]
    }
   ],
   "source": [
    "from sklearn.metrics import accuracy_score\n",
    "sanity_score = accuracy_score(mc_test_labels_add, random_labels)\n",
    "print(sanity_score)"
   ]
  },
  {
   "cell_type": "code",
   "execution_count": 516,
   "metadata": {},
   "outputs": [],
   "source": [
    "ten_class_achilabels = pd.DataFrame(mc_train_labels_add)"
   ]
  },
  {
   "cell_type": "code",
   "execution_count": 517,
   "metadata": {
    "scrolled": true
   },
   "outputs": [
    {
     "data": {
      "text/plain": [
       "[80-90)     548\n",
       "[90-100]    395\n",
       "[70-80)     218\n",
       "[60-70)     156\n",
       "[20-30)      92\n",
       "[50-60)      78\n",
       "[40-50)      74\n",
       "[30-40)      55\n",
       "[10-20)      42\n",
       "[0-10)        9\n",
       "Name: 0, dtype: int64"
      ]
     },
     "execution_count": 517,
     "metadata": {},
     "output_type": "execute_result"
    }
   ],
   "source": [
    "ten_class_achilabels.iloc[:, 0].value_counts()"
   ]
  },
  {
   "cell_type": "code",
   "execution_count": 518,
   "metadata": {},
   "outputs": [],
   "source": [
    "common_labels = np.repeat('[80-90)', len(mc_test_labels_add))"
   ]
  },
  {
   "cell_type": "code",
   "execution_count": 519,
   "metadata": {},
   "outputs": [
    {
     "name": "stdout",
     "output_type": "stream",
     "text": [
      "0.2973621103117506\n"
     ]
    }
   ],
   "source": [
    "sanity_score2 = accuracy_score(mc_test_labels_add, common_labels)\n",
    "print(sanity_score2)"
   ]
  },
  {
   "cell_type": "markdown",
   "metadata": {},
   "source": [
    "# Four Class"
   ]
  },
  {
   "cell_type": "markdown",
   "metadata": {},
   "source": [
    "## DF3 Features"
   ]
  },
  {
   "cell_type": "code",
   "execution_count": 520,
   "metadata": {},
   "outputs": [],
   "source": [
    "bins = [0, 25, 50, 75, 101]\n",
    "names = ['[0-25)', '[25-50)', '[50-75)', '[75-100]']\n",
    "df3['agg_grad_ratec'] = pd.cut(df3.agg_grad_rate, bins, labels = names, right = False)"
   ]
  },
  {
   "cell_type": "code",
   "execution_count": 521,
   "metadata": {},
   "outputs": [],
   "source": [
    "four_class_graddf3 = df3.values"
   ]
  },
  {
   "cell_type": "code",
   "execution_count": 522,
   "metadata": {},
   "outputs": [],
   "source": [
    "mc_features = four_class_graddf3[:, 0:10]\n",
    "mc_labels = four_class_graddf3[:, 11]"
   ]
  },
  {
   "cell_type": "code",
   "execution_count": 523,
   "metadata": {},
   "outputs": [],
   "source": [
    "mc_train, mc_test, mc_train_labels, mc_test_labels = train_test_split(mc_features, mc_labels, test_size = 0.2)"
   ]
  },
  {
   "cell_type": "code",
   "execution_count": 524,
   "metadata": {},
   "outputs": [],
   "source": [
    "from sklearn.linear_model import LogisticRegression\n",
    "mclr = LogisticRegression(solver = 'lbfgs', max_iter=10000, multi_class='multinomial')"
   ]
  },
  {
   "cell_type": "code",
   "execution_count": 525,
   "metadata": {},
   "outputs": [],
   "source": [
    "mc_model = mclr.fit(mc_train, mc_train_labels)"
   ]
  },
  {
   "cell_type": "code",
   "execution_count": 526,
   "metadata": {
    "scrolled": false
   },
   "outputs": [
    {
     "name": "stdout",
     "output_type": "stream",
     "text": [
      "0.651270207852194\n"
     ]
    }
   ],
   "source": [
    "mc_score = mc_model.score(mc_test, mc_test_labels)\n",
    "print(mc_score)"
   ]
  },
  {
   "cell_type": "markdown",
   "metadata": {},
   "source": [
    "## DF4 Features"
   ]
  },
  {
   "cell_type": "code",
   "execution_count": 527,
   "metadata": {},
   "outputs": [],
   "source": [
    "bins = [0, 25, 50, 75, 101]\n",
    "names = ['[0-25)', '[25-50)', '[50-75)', '[75-100]']\n",
    "df4['agg_grad_ratec'] = pd.cut(df4.agg_grad_rate, bins, labels = names, right = False)"
   ]
  },
  {
   "cell_type": "code",
   "execution_count": 528,
   "metadata": {},
   "outputs": [],
   "source": [
    "four_class_graddf4 = df4.values"
   ]
  },
  {
   "cell_type": "code",
   "execution_count": 529,
   "metadata": {},
   "outputs": [],
   "source": [
    "mc_features_add = four_class_graddf4[:, 0:13]\n",
    "mc_labels_add = four_class_graddf4[:, 15]"
   ]
  },
  {
   "cell_type": "code",
   "execution_count": 530,
   "metadata": {},
   "outputs": [],
   "source": [
    "mc_train_add, mc_test_add, mc_train_labels_add, mc_test_labels_add = train_test_split(mc_features_add, mc_labels_add, test_size = 0.2)"
   ]
  },
  {
   "cell_type": "code",
   "execution_count": 531,
   "metadata": {},
   "outputs": [],
   "source": [
    "mclr_add = LogisticRegression(solver = 'lbfgs', max_iter=10000, multi_class='multinomial')"
   ]
  },
  {
   "cell_type": "code",
   "execution_count": 532,
   "metadata": {},
   "outputs": [],
   "source": [
    "mc_model_add = mclr_add.fit(mc_train_add, mc_train_labels_add)"
   ]
  },
  {
   "cell_type": "code",
   "execution_count": 533,
   "metadata": {
    "scrolled": true
   },
   "outputs": [
    {
     "name": "stdout",
     "output_type": "stream",
     "text": [
      "0.6282973621103117\n"
     ]
    }
   ],
   "source": [
    "mc_score_add = mc_model_add.score(mc_test_add, mc_test_labels_add)\n",
    "print(mc_score_add)"
   ]
  },
  {
   "cell_type": "markdown",
   "metadata": {},
   "source": [
    "## Random/Majority Class"
   ]
  },
  {
   "cell_type": "code",
   "execution_count": 534,
   "metadata": {},
   "outputs": [
    {
     "name": "stdout",
     "output_type": "stream",
     "text": [
      "[[50-75), [75-100], [0-25), [0-25), [25-50), ..., [75-100], [25-50), [0-25), [50-75), [50-75)]\n",
      "Length: 417\n",
      "Categories (4, object): [[0-25) < [25-50) < [50-75) < [75-100]]\n"
     ]
    }
   ],
   "source": [
    "random_labels = np.random.uniform(low=0, high=100, size=(len(mc_test_labels_add,)))\n",
    "bins = [0, 25, 50, 75, 101]\n",
    "names = ['[0-25)', '[25-50)', '[50-75)', '[75-100]']\n",
    "random_labels = pd.cut(random_labels, bins, labels = names, right = False)\n",
    "print(random_labels)"
   ]
  },
  {
   "cell_type": "code",
   "execution_count": 535,
   "metadata": {},
   "outputs": [
    {
     "name": "stdout",
     "output_type": "stream",
     "text": [
      "0.23501199040767387\n"
     ]
    }
   ],
   "source": [
    "from sklearn.metrics import accuracy_score\n",
    "sanity_score = accuracy_score(mc_test_labels_add, random_labels)\n",
    "print(sanity_score)"
   ]
  },
  {
   "cell_type": "code",
   "execution_count": 536,
   "metadata": {},
   "outputs": [],
   "source": [
    "four_class_achilabels = pd.DataFrame(mc_train_labels_add)"
   ]
  },
  {
   "cell_type": "code",
   "execution_count": 537,
   "metadata": {
    "scrolled": true
   },
   "outputs": [
    {
     "data": {
      "text/plain": [
       "[75-100]    1058\n",
       "[50-75)      327\n",
       "[25-50)      165\n",
       "[0-25)       117\n",
       "Name: 0, dtype: int64"
      ]
     },
     "execution_count": 537,
     "metadata": {},
     "output_type": "execute_result"
    }
   ],
   "source": [
    "four_class_achilabels.iloc[:, 0].value_counts()"
   ]
  },
  {
   "cell_type": "code",
   "execution_count": 538,
   "metadata": {},
   "outputs": [],
   "source": [
    "common_labels = np.repeat('[75-100]', len(mc_test_labels_add))"
   ]
  },
  {
   "cell_type": "code",
   "execution_count": 539,
   "metadata": {},
   "outputs": [
    {
     "name": "stdout",
     "output_type": "stream",
     "text": [
      "0.6115107913669064\n"
     ]
    }
   ],
   "source": [
    "sanity_score2 = accuracy_score(mc_test_labels_add, common_labels)\n",
    "print(sanity_score2)"
   ]
  }
 ],
 "metadata": {
  "kernelspec": {
   "display_name": "Python 3",
   "language": "python",
   "name": "python3"
  },
  "language_info": {
   "codemirror_mode": {
    "name": "ipython",
    "version": 3
   },
   "file_extension": ".py",
   "mimetype": "text/x-python",
   "name": "python",
   "nbconvert_exporter": "python",
   "pygments_lexer": "ipython3",
   "version": "3.7.1"
  }
 },
 "nbformat": 4,
 "nbformat_minor": 2
}
