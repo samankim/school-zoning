{
 "cells": [
  {
   "cell_type": "markdown",
   "metadata": {},
   "source": [
    "# Joining Processed Data"
   ]
  },
  {
   "cell_type": "markdown",
   "metadata": {},
   "source": [
    "This section joins data processed from data_extraction.ipynb and returns numpy representation of pandas dfs compatible with sklearn. \n",
    "\n",
    "NA values in df1 and df2 are filled with medians of their respective columns (may be testing other options like cosine similarity for missing data)."
   ]
  },
  {
   "cell_type": "code",
   "execution_count": 1,
   "metadata": {},
   "outputs": [],
   "source": [
    "import sklearn\n",
    "from sklearn.model_selection import train_test_split\n",
    "from sklearn.linear_model import LinearRegression\n",
    "\n",
    "import pandas as pd\n",
    "import numpy as np\n",
    "import matplotlib.pyplot as plt\n",
    "#import tensorflow as tf\n",
    "#import keras\n",
    "#from fancyimpute import KNN, NuclearNormMinimization, SoftImpute, IterativeImputer, BiScaler"
   ]
  },
  {
   "cell_type": "code",
   "execution_count": 2,
   "metadata": {},
   "outputs": [],
   "source": [
    "demos = pd.read_csv(\"demos_clean.csv\")\n",
    "demos.drop(demos.columns[[0]], axis=1, inplace=True)\n",
    "all_achi = pd.read_csv(\"all_achi.csv\")\n",
    "all_achi.drop(all_achi.columns[[0]], axis=1, inplace=True)\n",
    "sw_achi = pd.read_csv(\"sw_achi.csv\")\n",
    "sw_achi.drop(sw_achi.columns[[0]], axis=1, inplace=True)"
   ]
  },
  {
   "cell_type": "code",
   "execution_count": 3,
   "metadata": {},
   "outputs": [],
   "source": [
    "df1 = pd.merge(demos, all_achi, on='school_id', how='inner')\n",
    "df1 = df1.drop(columns=['school_name', 'state_name', 'school_id', 'district_id', 'total_race'])\n",
    "#for i in range(len(df1.columns)):\n",
    "#    df1.iloc[:, i] = df1.iloc[:, i].fillna(df1.iloc[:, i].median(skipna=True))\n",
    "df1 = df1.dropna(how='any')"
   ]
  },
  {
   "cell_type": "code",
   "execution_count": 4,
   "metadata": {},
   "outputs": [],
   "source": [
    "df1_sw = pd.merge(demos, sw_achi, on='school_id', how='inner')\n",
    "df1_sw = df1_sw.drop(columns=['school_name', 'state_name', 'school_id', 'district_id', 'total_race'])\n",
    "#for i in range(len(df1_sw.columns)):\n",
    "#    df1_sw.iloc[:, i] = df1_sw.iloc[:, i].fillna(df1_sw.iloc[:, i].median(skipna=True))\n",
    "df1_sw = df1_sw.dropna(how='any')"
   ]
  },
  {
   "cell_type": "code",
   "execution_count": 5,
   "metadata": {},
   "outputs": [],
   "source": [
    "grad = pd.read_csv(\"grad_clean.csv\")\n",
    "grad.drop(grad.columns[[0]], axis=1, inplace=True)\n",
    "financials = pd.read_csv(\"financials_clean.csv\")\n",
    "financials.drop(financials.columns[[0]], axis=1, inplace=True)"
   ]
  },
  {
   "cell_type": "code",
   "execution_count": 6,
   "metadata": {},
   "outputs": [],
   "source": [
    "df2 = pd.merge(demos, grad, on='school_id', how='inner')\n",
    "df2 = pd.merge(df2, financials, on='district_id', how='inner')\n",
    "df2 = pd.merge(df2, all_achi, on='school_id', how='inner')"
   ]
  },
  {
   "cell_type": "code",
   "execution_count": 7,
   "metadata": {},
   "outputs": [],
   "source": [
    "#drop attributes used for data processing\n",
    "df2 = df2.drop(columns=['school_name', 'state_name', 'school_id', 'district_id', 'total_race'])\n",
    "#drop attributes that were pulled, but not predictive\n",
    "df2 = df2.drop(columns=['total_rev', 'total_locrev', 'pta_rev', 'prop_taxes', 'sales_taxes', 'public_utility_taxes', 'income_taxes', 'other_taxes'])\n",
    "df2.total_salaries = df2.total_salaries/df2.total\n",
    "df2.salaries_instruction = df2.salaries_instruction/df2.total\n",
    "df2.salaries_teachers = df2.salaries_teachers/df2.total\n",
    "df2 = df2.rename(columns={'total_salaries': 'total_salaries_ps', 'salaries_instruction': 'salaries_instruction_ps', 'salaries_teachers': 'salaries_teachers_ps'})"
   ]
  },
  {
   "cell_type": "code",
   "execution_count": 8,
   "metadata": {},
   "outputs": [],
   "source": [
    "#impute na with median\n",
    "for i in range(len(df2.columns)):\n",
    "    df2.iloc[:, i] = df2.iloc[:, i].fillna(df2.iloc[:, i].median(skipna=True))"
   ]
  },
  {
   "cell_type": "code",
   "execution_count": 9,
   "metadata": {},
   "outputs": [],
   "source": [
    "df2_sw = pd.merge(demos, grad, on='school_id', how='inner')\n",
    "df2_sw = pd.merge(df2_sw, financials, on='district_id', how='inner')\n",
    "df2_sw = pd.merge(df2_sw, sw_achi, on='school_id', how='inner')"
   ]
  },
  {
   "cell_type": "code",
   "execution_count": 10,
   "metadata": {},
   "outputs": [],
   "source": [
    "#drop attributes used for data processing\n",
    "df2_sw = df2_sw.drop(columns=['school_name', 'state_name', 'school_id', 'district_id', 'total_race'])\n",
    "#drop attributes that were pulled, but not predictive\n",
    "df2_sw = df2_sw.drop(columns=['total_rev', 'total_locrev', 'pta_rev', 'prop_taxes', 'sales_taxes', 'public_utility_taxes', 'income_taxes', 'other_taxes'])\n",
    "#engineer features so they reflect per student values\n",
    "df2_sw.total_salaries = df2_sw.total_salaries/df2_sw.total\n",
    "df2_sw.salaries_instruction = df2_sw.salaries_instruction/df2_sw.total\n",
    "df2_sw.salaries_teachers = df2_sw.salaries_teachers/df2_sw.total\n",
    "df2_sw = df2_sw.rename(columns={'total_salaries': 'total_salaries_ps', 'salaries_instruction': 'salaries_instruction_ps', 'salaries_teachers': 'salaries_teachers_ps'})"
   ]
  },
  {
   "cell_type": "code",
   "execution_count": 11,
   "metadata": {},
   "outputs": [],
   "source": [
    "#impute na with median\n",
    "for i in range(len(df2_sw.columns)):\n",
    "    df2_sw.iloc[:, i] = df2_sw.iloc[:, i].fillna(df2_sw.iloc[:, i].median(skipna=True))"
   ]
  },
  {
   "cell_type": "markdown",
   "metadata": {},
   "source": [
    "# Linear Regression"
   ]
  },
  {
   "cell_type": "markdown",
   "metadata": {},
   "source": [
    "## DF1 Features "
   ]
  },
  {
   "cell_type": "code",
   "execution_count": 12,
   "metadata": {},
   "outputs": [],
   "source": [
    "data = df1.values"
   ]
  },
  {
   "cell_type": "code",
   "execution_count": 13,
   "metadata": {},
   "outputs": [],
   "source": [
    "features = data[:, 0:10]\n",
    "labels = data[:, 10]"
   ]
  },
  {
   "cell_type": "code",
   "execution_count": 14,
   "metadata": {},
   "outputs": [
    {
     "data": {
      "text/plain": [
       "<matplotlib.collections.PathCollection at 0x10f049748>"
      ]
     },
     "execution_count": 14,
     "metadata": {},
     "output_type": "execute_result"
    },
    {
     "data": {
      "image/png": "[encoded data removed]",
      "text/plain": [
       "<Figure size 432x288 with 1 Axes>"
      ]
     },
     "metadata": {
      "needs_background": "light"
     },
     "output_type": "display_data"
    }
   ],
   "source": [
    "plt.scatter(features[:, 1], labels, color='blue')"
   ]
  },
  {
   "cell_type": "code",
   "execution_count": 15,
   "metadata": {},
   "outputs": [],
   "source": [
    "train, test, train_labels, test_labels = train_test_split(features, labels, test_size = 0.2)"
   ]
  },
  {
   "cell_type": "code",
   "execution_count": 16,
   "metadata": {},
   "outputs": [],
   "source": [
    "lr = LinearRegression(normalize=True)"
   ]
  },
  {
   "cell_type": "code",
   "execution_count": 17,
   "metadata": {},
   "outputs": [],
   "source": [
    "model = lr.fit(train, train_labels)"
   ]
  },
  {
   "cell_type": "code",
   "execution_count": 18,
   "metadata": {
    "scrolled": true
   },
   "outputs": [
    {
     "name": "stdout",
     "output_type": "stream",
     "text": [
      "0.36495846471631144\n"
     ]
    }
   ],
   "source": [
    "score = model.score(test, test_labels)\n",
    "print(score)"
   ]
  },
  {
   "cell_type": "markdown",
   "metadata": {},
   "source": [
    "## DF2 Features"
   ]
  },
  {
   "cell_type": "code",
   "execution_count": 19,
   "metadata": {},
   "outputs": [],
   "source": [
    "data_add = df2.values"
   ]
  },
  {
   "cell_type": "code",
   "execution_count": 20,
   "metadata": {},
   "outputs": [],
   "source": [
    "features_add = data_add[:, 0:20]\n",
    "labels_add = data_add[:, 20]"
   ]
  },
  {
   "cell_type": "code",
   "execution_count": 21,
   "metadata": {
    "scrolled": true
   },
   "outputs": [
    {
     "data": {
      "text/plain": [
       "<matplotlib.collections.PathCollection at 0x121c99630>"
      ]
     },
     "execution_count": 21,
     "metadata": {},
     "output_type": "execute_result"
    },
    {
     "data": {
      "image/png": "[encoded data removed]",
      "text/plain": [
       "<Figure size 432x288 with 1 Axes>"
      ]
     },
     "metadata": {
      "needs_background": "light"
     },
     "output_type": "display_data"
    }
   ],
   "source": [
    "plt.scatter(features_add[:, 1], labels_add, color='blue')"
   ]
  },
  {
   "cell_type": "code",
   "execution_count": 22,
   "metadata": {},
   "outputs": [],
   "source": [
    "train_add, test_add, train_labels_add, test_labels_add = train_test_split(features_add, labels_add, test_size = 0.2)"
   ]
  },
  {
   "cell_type": "code",
   "execution_count": 23,
   "metadata": {},
   "outputs": [],
   "source": [
    "lr_add = LinearRegression(normalize=True)"
   ]
  },
  {
   "cell_type": "code",
   "execution_count": 24,
   "metadata": {},
   "outputs": [],
   "source": [
    "model_add = lr_add.fit(train_add, train_labels_add)"
   ]
  },
  {
   "cell_type": "code",
   "execution_count": 25,
   "metadata": {},
   "outputs": [
    {
     "name": "stdout",
     "output_type": "stream",
     "text": [
      "0.42825540627261904\n"
     ]
    }
   ],
   "source": [
    "score_add = model_add.score(test_add, test_labels_add)\n",
    "print(score_add)"
   ]
  },
  {
   "cell_type": "markdown",
   "metadata": {},
   "source": [
    "## DF1 Features (on sw_achi)"
   ]
  },
  {
   "cell_type": "code",
   "execution_count": 26,
   "metadata": {},
   "outputs": [],
   "source": [
    "data = df1_sw.values"
   ]
  },
  {
   "cell_type": "code",
   "execution_count": 27,
   "metadata": {},
   "outputs": [],
   "source": [
    "features = data[:, 0:10]\n",
    "labels = data[:, 10]"
   ]
  },
  {
   "cell_type": "code",
   "execution_count": 28,
   "metadata": {},
   "outputs": [
    {
     "data": {
      "text/plain": [
       "<matplotlib.collections.PathCollection at 0x11eff14a8>"
      ]
     },
     "execution_count": 28,
     "metadata": {},
     "output_type": "execute_result"
    },
    {
     "data": {
      "image/png": "[encoded data removed]",
      "text/plain": [
       "<Figure size 432x288 with 1 Axes>"
      ]
     },
     "metadata": {
      "needs_background": "light"
     },
     "output_type": "display_data"
    }
   ],
   "source": [
    "plt.scatter(features[:, 1], labels, color='blue')"
   ]
  },
  {
   "cell_type": "code",
   "execution_count": 29,
   "metadata": {},
   "outputs": [],
   "source": [
    "from sklearn.model_selection import train_test_split\n",
    "train, test, train_labels, test_labels = train_test_split(features, labels, test_size = 0.2)"
   ]
  },
  {
   "cell_type": "code",
   "execution_count": 30,
   "metadata": {},
   "outputs": [],
   "source": [
    "from sklearn.linear_model import LinearRegression\n",
    "lr = LinearRegression(normalize=True)"
   ]
  },
  {
   "cell_type": "code",
   "execution_count": 31,
   "metadata": {},
   "outputs": [],
   "source": [
    "model = lr.fit(train, train_labels)"
   ]
  },
  {
   "cell_type": "code",
   "execution_count": 32,
   "metadata": {
    "scrolled": false
   },
   "outputs": [
    {
     "name": "stdout",
     "output_type": "stream",
     "text": [
      "0.5291191825888847\n"
     ]
    }
   ],
   "source": [
    "score = model.score(test, test_labels)\n",
    "print(score)"
   ]
  },
  {
   "cell_type": "markdown",
   "metadata": {},
   "source": [
    "## DF2 Features (on sw_achi)"
   ]
  },
  {
   "cell_type": "code",
   "execution_count": 33,
   "metadata": {},
   "outputs": [],
   "source": [
    "data_add = df2_sw.values"
   ]
  },
  {
   "cell_type": "code",
   "execution_count": 34,
   "metadata": {},
   "outputs": [],
   "source": [
    "features_add = data_add[:, 0:20]\n",
    "labels_add = data_add[:, 20]"
   ]
  },
  {
   "cell_type": "code",
   "execution_count": 35,
   "metadata": {
    "scrolled": true
   },
   "outputs": [
    {
     "data": {
      "text/plain": [
       "<matplotlib.collections.PathCollection at 0x11ef5a278>"
      ]
     },
     "execution_count": 35,
     "metadata": {},
     "output_type": "execute_result"
    },
    {
     "data": {
      "image/png": "[encoded data removed]",
      "text/plain": [
       "<Figure size 432x288 with 1 Axes>"
      ]
     },
     "metadata": {
      "needs_background": "light"
     },
     "output_type": "display_data"
    }
   ],
   "source": [
    "plt.scatter(features_add[:, 1], labels_add, color='blue')"
   ]
  },
  {
   "cell_type": "code",
   "execution_count": 36,
   "metadata": {},
   "outputs": [],
   "source": [
    "train_add, test_add, train_labels_add, test_labels_add = train_test_split(features_add, labels_add, test_size = 0.2)"
   ]
  },
  {
   "cell_type": "code",
   "execution_count": 37,
   "metadata": {},
   "outputs": [],
   "source": [
    "lr_add = LinearRegression(normalize=True)"
   ]
  },
  {
   "cell_type": "code",
   "execution_count": 38,
   "metadata": {},
   "outputs": [],
   "source": [
    "model_add = lr_add.fit(train_add, train_labels_add)"
   ]
  },
  {
   "cell_type": "code",
   "execution_count": 39,
   "metadata": {},
   "outputs": [
    {
     "name": "stdout",
     "output_type": "stream",
     "text": [
      "0.5449192958825073\n"
     ]
    }
   ],
   "source": [
    "score_add = model_add.score(test_add, test_labels_add)\n",
    "print(score_add)"
   ]
  },
  {
   "cell_type": "markdown",
   "metadata": {},
   "source": [
    "# Multi-Class Classification (on all_achi)"
   ]
  },
  {
   "cell_type": "code",
   "execution_count": 40,
   "metadata": {
    "scrolled": false
   },
   "outputs": [
    {
     "name": "stdout",
     "output_type": "stream",
     "text": [
      "max: 91.0\n",
      "min:  5.0\n"
     ]
    }
   ],
   "source": [
    "print('max:', df1['agg_achi'].max())\n",
    "print('min: ', df1['agg_achi'].min())"
   ]
  },
  {
   "cell_type": "markdown",
   "metadata": {},
   "source": [
    "# Ten Class"
   ]
  },
  {
   "cell_type": "markdown",
   "metadata": {},
   "source": [
    "## DF1 Features"
   ]
  },
  {
   "cell_type": "code",
   "execution_count": 41,
   "metadata": {},
   "outputs": [],
   "source": [
    "bins = [0, 10, 20, 30, 40, 50, 60, 70, 80, 90, 101]\n",
    "names = ['[0-10)', '[10-20)', '[20-30)', '[30-40)', '[40-50)', '[50-60)', '[60-70)', '[70-80)', '[80-90)', '[90-100]']\n",
    "df1['agg_achc'] = pd.cut(df1.agg_achi, bins, labels = names, right = False)"
   ]
  },
  {
   "cell_type": "code",
   "execution_count": 42,
   "metadata": {},
   "outputs": [],
   "source": [
    "ten_class_achidf1 = df1.values"
   ]
  },
  {
   "cell_type": "code",
   "execution_count": 43,
   "metadata": {},
   "outputs": [],
   "source": [
    "mc_features = ten_class_achidf1[:, 0:10]\n",
    "mc_labels = ten_class_achidf1[:, 11]"
   ]
  },
  {
   "cell_type": "code",
   "execution_count": 44,
   "metadata": {},
   "outputs": [],
   "source": [
    "mc_train, mc_test, mc_train_labels, mc_test_labels = train_test_split(mc_features, mc_labels, test_size = 0.2)"
   ]
  },
  {
   "cell_type": "code",
   "execution_count": 45,
   "metadata": {},
   "outputs": [],
   "source": [
    "from sklearn.linear_model import LogisticRegression\n",
    "mclr = LogisticRegression(solver = 'lbfgs', max_iter=10000, multi_class='multinomial')"
   ]
  },
  {
   "cell_type": "code",
   "execution_count": 46,
   "metadata": {},
   "outputs": [],
   "source": [
    "mc_model = mclr.fit(mc_train, mc_train_labels)"
   ]
  },
  {
   "cell_type": "code",
   "execution_count": 47,
   "metadata": {
    "scrolled": true
   },
   "outputs": [
    {
     "name": "stdout",
     "output_type": "stream",
     "text": [
      "0.34772182254196643\n"
     ]
    }
   ],
   "source": [
    "mc_score = mc_model.score(mc_test, mc_test_labels)\n",
    "print(mc_score)"
   ]
  },
  {
   "cell_type": "markdown",
   "metadata": {},
   "source": [
    "## DF2 Features"
   ]
  },
  {
   "cell_type": "code",
   "execution_count": 48,
   "metadata": {},
   "outputs": [],
   "source": [
    "bins = [0, 10, 20, 30, 40, 50, 60, 70, 80, 90, 101]\n",
    "names = ['[0-10)', '[10-20)', '[20-30)', '[30-40)', '[40-50)', '[50-60)', '[60-70)', '[70-80)', '[80-90)', '[90-100]']\n",
    "df2['agg_achc'] = pd.cut(df2.agg_achi, bins, labels = names, right = False)"
   ]
  },
  {
   "cell_type": "code",
   "execution_count": 49,
   "metadata": {},
   "outputs": [],
   "source": [
    "ten_class_achidf2 = df2.values"
   ]
  },
  {
   "cell_type": "code",
   "execution_count": 50,
   "metadata": {},
   "outputs": [],
   "source": [
    "mc_features_add = ten_class_achidf2[:, 0:20]\n",
    "mc_labels_add = ten_class_achidf2[:, 21]"
   ]
  },
  {
   "cell_type": "code",
   "execution_count": 51,
   "metadata": {},
   "outputs": [],
   "source": [
    "mc_train_add, mc_test_add, mc_train_labels_add, mc_test_labels_add = train_test_split(mc_features_add, mc_labels_add, test_size = 0.2)"
   ]
  },
  {
   "cell_type": "code",
   "execution_count": 52,
   "metadata": {},
   "outputs": [],
   "source": [
    "mclr_add = LogisticRegression(solver = 'lbfgs', max_iter=10000, multi_class='multinomial')"
   ]
  },
  {
   "cell_type": "code",
   "execution_count": 53,
   "metadata": {},
   "outputs": [],
   "source": [
    "mc_model_add = mclr_add.fit(mc_train_add, mc_train_labels_add)"
   ]
  },
  {
   "cell_type": "code",
   "execution_count": 54,
   "metadata": {
    "scrolled": false
   },
   "outputs": [
    {
     "name": "stdout",
     "output_type": "stream",
     "text": [
      "0.24847560975609756\n"
     ]
    }
   ],
   "source": [
    "mc_score_add = mc_model_add.score(mc_test_add, mc_test_labels_add)\n",
    "print(mc_score_add)"
   ]
  },
  {
   "cell_type": "markdown",
   "metadata": {},
   "source": [
    "## Random/Majority Class"
   ]
  },
  {
   "cell_type": "code",
   "execution_count": 55,
   "metadata": {},
   "outputs": [
    {
     "name": "stdout",
     "output_type": "stream",
     "text": [
      "[[40-50), [10-20), [50-60), [60-70), [60-70), ..., [50-60), [80-90), [10-20), [90-100], [40-50)]\n",
      "Length: 656\n",
      "Categories (10, object): [[0-10) < [10-20) < [20-30) < [30-40) ... [60-70) < [70-80) < [80-90) < [90-100]]\n"
     ]
    }
   ],
   "source": [
    "random_labels = np.random.uniform(low=0, high=100, size=(len(mc_test_labels_add,)))\n",
    "bins = [0, 10, 20, 30, 40, 50, 60, 70, 80, 90, 101]\n",
    "names = ['[0-10)', '[10-20)', '[20-30)', '[30-40)', '[40-50)', '[50-60)', '[60-70)', '[70-80)', '[80-90)', '[90-100]']\n",
    "random_labels = pd.cut(random_labels, bins, labels = names, right = False)\n",
    "print(random_labels)"
   ]
  },
  {
   "cell_type": "code",
   "execution_count": 56,
   "metadata": {},
   "outputs": [
    {
     "name": "stdout",
     "output_type": "stream",
     "text": [
      "0.10365853658536585\n"
     ]
    }
   ],
   "source": [
    "from sklearn.metrics import accuracy_score\n",
    "sanity_score = accuracy_score(mc_test_labels_add, random_labels)\n",
    "print(sanity_score)"
   ]
  },
  {
   "cell_type": "code",
   "execution_count": 57,
   "metadata": {},
   "outputs": [],
   "source": [
    "ten_class_achilabels = pd.DataFrame(mc_train_labels_add)"
   ]
  },
  {
   "cell_type": "code",
   "execution_count": 58,
   "metadata": {
    "scrolled": true
   },
   "outputs": [
    {
     "data": {
      "text/plain": [
       "[30-40)    619\n",
       "[40-50)    581\n",
       "[20-30)    487\n",
       "[50-60)    462\n",
       "[10-20)    295\n",
       "[60-70)    102\n",
       "[0-10)      40\n",
       "[70-80)     29\n",
       "[80-90)      6\n",
       "Name: 0, dtype: int64"
      ]
     },
     "execution_count": 58,
     "metadata": {},
     "output_type": "execute_result"
    }
   ],
   "source": [
    "ten_class_achilabels.iloc[:, 0].value_counts()"
   ]
  },
  {
   "cell_type": "code",
   "execution_count": 59,
   "metadata": {},
   "outputs": [],
   "source": [
    "common_labels = np.repeat('[30-40)', len(mc_test_labels_add))"
   ]
  },
  {
   "cell_type": "code",
   "execution_count": 60,
   "metadata": {},
   "outputs": [
    {
     "name": "stdout",
     "output_type": "stream",
     "text": [
      "0.2545731707317073\n"
     ]
    }
   ],
   "source": [
    "sanity_score2 = accuracy_score(mc_test_labels_add, common_labels)\n",
    "print(sanity_score2)"
   ]
  },
  {
   "cell_type": "markdown",
   "metadata": {},
   "source": [
    "# Four Class"
   ]
  },
  {
   "cell_type": "markdown",
   "metadata": {},
   "source": [
    "## DF1 Features"
   ]
  },
  {
   "cell_type": "code",
   "execution_count": 61,
   "metadata": {},
   "outputs": [],
   "source": [
    "bins = [0, 25, 50, 75, 101]\n",
    "names = ['[0-25)', '[25-50)', '[50-75)', '[75-100]']\n",
    "df1['agg_achc'] = pd.cut(df1.agg_achi, bins, labels = names, right = False)"
   ]
  },
  {
   "cell_type": "code",
   "execution_count": 62,
   "metadata": {},
   "outputs": [],
   "source": [
    "four_class_achidf1 = df1.values"
   ]
  },
  {
   "cell_type": "code",
   "execution_count": 63,
   "metadata": {},
   "outputs": [],
   "source": [
    "mc_features = four_class_achidf1[:, 0:10]\n",
    "mc_labels = four_class_achidf1[:, 11]"
   ]
  },
  {
   "cell_type": "code",
   "execution_count": 64,
   "metadata": {},
   "outputs": [],
   "source": [
    "mc_train, mc_test, mc_train_labels, mc_test_labels = train_test_split(mc_features, mc_labels, test_size = 0.2)"
   ]
  },
  {
   "cell_type": "code",
   "execution_count": 65,
   "metadata": {},
   "outputs": [],
   "source": [
    "from sklearn.linear_model import LogisticRegression\n",
    "mclr = LogisticRegression(solver = 'lbfgs', max_iter=10000, multi_class='multinomial')"
   ]
  },
  {
   "cell_type": "code",
   "execution_count": 66,
   "metadata": {},
   "outputs": [],
   "source": [
    "mc_model = mclr.fit(mc_train, mc_train_labels)"
   ]
  },
  {
   "cell_type": "code",
   "execution_count": 67,
   "metadata": {
    "scrolled": true
   },
   "outputs": [
    {
     "name": "stdout",
     "output_type": "stream",
     "text": [
      "0.6474820143884892\n"
     ]
    }
   ],
   "source": [
    "mc_score = mc_model.score(mc_test, mc_test_labels)\n",
    "print(mc_score)"
   ]
  },
  {
   "cell_type": "markdown",
   "metadata": {},
   "source": [
    "## DF2 Features"
   ]
  },
  {
   "cell_type": "code",
   "execution_count": 68,
   "metadata": {},
   "outputs": [],
   "source": [
    "bins = [0, 25, 50, 75, 101]\n",
    "names = ['[0-25)', '[25-50)', '[50-75)', '[75-100]']\n",
    "df2['agg_achc'] = pd.cut(df2.agg_achi, bins, labels = names, right = False)"
   ]
  },
  {
   "cell_type": "code",
   "execution_count": 69,
   "metadata": {},
   "outputs": [],
   "source": [
    "four_class_achidf2 = df2.values"
   ]
  },
  {
   "cell_type": "code",
   "execution_count": 70,
   "metadata": {},
   "outputs": [],
   "source": [
    "mc_features_add = four_class_achidf2[:, 0:20]\n",
    "mc_labels_add = four_class_achidf2[:, 21]"
   ]
  },
  {
   "cell_type": "code",
   "execution_count": 71,
   "metadata": {},
   "outputs": [],
   "source": [
    "mc_train_add, mc_test_add, mc_train_labels_add, mc_test_labels_add = train_test_split(mc_features_add, mc_labels_add, test_size = 0.2)"
   ]
  },
  {
   "cell_type": "code",
   "execution_count": 72,
   "metadata": {},
   "outputs": [],
   "source": [
    "mclr_add = LogisticRegression(solver = 'lbfgs', max_iter=10000, multi_class='multinomial')"
   ]
  },
  {
   "cell_type": "code",
   "execution_count": 73,
   "metadata": {},
   "outputs": [],
   "source": [
    "mc_model_add = mclr_add.fit(mc_train_add, mc_train_labels_add)"
   ]
  },
  {
   "cell_type": "code",
   "execution_count": 74,
   "metadata": {
    "scrolled": false
   },
   "outputs": [
    {
     "name": "stdout",
     "output_type": "stream",
     "text": [
      "0.5426829268292683\n"
     ]
    }
   ],
   "source": [
    "mc_score_add = mc_model_add.score(mc_test_add, mc_test_labels_add)\n",
    "print(mc_score_add)"
   ]
  },
  {
   "cell_type": "markdown",
   "metadata": {},
   "source": [
    "## Random/Majority Class"
   ]
  },
  {
   "cell_type": "code",
   "execution_count": 75,
   "metadata": {},
   "outputs": [
    {
     "name": "stdout",
     "output_type": "stream",
     "text": [
      "[[0-25), [0-25), [75-100], [0-25), [75-100], ..., [25-50), [50-75), [25-50), [50-75), [50-75)]\n",
      "Length: 656\n",
      "Categories (4, object): [[0-25) < [25-50) < [50-75) < [75-100]]\n"
     ]
    }
   ],
   "source": [
    "random_labels = np.random.uniform(low=0, high=100, size=(len(mc_test_labels_add,)))\n",
    "bins = [0, 25, 50, 75, 101]\n",
    "names = ['[0-25)', '[25-50)', '[50-75)', '[75-100]']\n",
    "random_labels = pd.cut(random_labels, bins, labels = names, right = False)\n",
    "print(random_labels)"
   ]
  },
  {
   "cell_type": "code",
   "execution_count": 76,
   "metadata": {},
   "outputs": [
    {
     "name": "stdout",
     "output_type": "stream",
     "text": [
      "0.24085365853658536\n"
     ]
    }
   ],
   "source": [
    "from sklearn.metrics import accuracy_score\n",
    "sanity_score = accuracy_score(mc_test_labels_add, random_labels)\n",
    "print(sanity_score)"
   ]
  },
  {
   "cell_type": "code",
   "execution_count": 77,
   "metadata": {},
   "outputs": [],
   "source": [
    "four_class_achilabels = pd.DataFrame(mc_train_labels_add)"
   ]
  },
  {
   "cell_type": "code",
   "execution_count": 78,
   "metadata": {
    "scrolled": true
   },
   "outputs": [
    {
     "data": {
      "text/plain": [
       "[25-50)     1467\n",
       "[0-25)       574\n",
       "[50-75)      569\n",
       "[75-100]      11\n",
       "Name: 0, dtype: int64"
      ]
     },
     "execution_count": 78,
     "metadata": {},
     "output_type": "execute_result"
    }
   ],
   "source": [
    "four_class_achilabels.iloc[:, 0].value_counts()"
   ]
  },
  {
   "cell_type": "code",
   "execution_count": 79,
   "metadata": {},
   "outputs": [],
   "source": [
    "common_labels = np.repeat('[25-50)', len(mc_test_labels_add))"
   ]
  },
  {
   "cell_type": "code",
   "execution_count": 80,
   "metadata": {
    "scrolled": false
   },
   "outputs": [
    {
     "name": "stdout",
     "output_type": "stream",
     "text": [
      "0.5365853658536586\n"
     ]
    }
   ],
   "source": [
    "sanity_score2 = accuracy_score(mc_test_labels_add, common_labels)\n",
    "print(sanity_score2)"
   ]
  },
  {
   "cell_type": "markdown",
   "metadata": {},
   "source": [
    "# Multi-Class Classification (on sw_achi)"
   ]
  },
  {
   "cell_type": "code",
   "execution_count": 81,
   "metadata": {
    "scrolled": false
   },
   "outputs": [
    {
     "name": "stdout",
     "output_type": "stream",
     "text": [
      "max: 99.0\n",
      "min:  1.5\n"
     ]
    }
   ],
   "source": [
    "print('max:', df1_sw['schoolwide_achi'].max())\n",
    "print('min: ', df1_sw['schoolwide_achi'].min())"
   ]
  },
  {
   "cell_type": "markdown",
   "metadata": {},
   "source": [
    "# Ten Class"
   ]
  },
  {
   "cell_type": "markdown",
   "metadata": {},
   "source": [
    "## DF1 Features"
   ]
  },
  {
   "cell_type": "code",
   "execution_count": 82,
   "metadata": {},
   "outputs": [],
   "source": [
    "bins = [0, 10, 20, 30, 40, 50, 60, 70, 80, 90, 101]\n",
    "names = ['[0-10)', '[10-20)', '[20-30)', '[30-40)', '[40-50)', '[50-60)', '[60-70)', '[70-80)', '[80-90)', '[90-100]']\n",
    "df1_sw['schoolwide_achc'] = pd.cut(df1_sw.schoolwide_achi, bins, labels = names, right = False)"
   ]
  },
  {
   "cell_type": "code",
   "execution_count": 83,
   "metadata": {},
   "outputs": [],
   "source": [
    "ten_class_achidf1_sw = df1_sw.values"
   ]
  },
  {
   "cell_type": "code",
   "execution_count": 84,
   "metadata": {},
   "outputs": [],
   "source": [
    "mc_features = ten_class_achidf1_sw[:, 0:10]\n",
    "mc_labels = ten_class_achidf1_sw[:, 11]"
   ]
  },
  {
   "cell_type": "code",
   "execution_count": 85,
   "metadata": {},
   "outputs": [],
   "source": [
    "mc_train, mc_test, mc_train_labels, mc_test_labels = train_test_split(mc_features, mc_labels, test_size = 0.2)"
   ]
  },
  {
   "cell_type": "code",
   "execution_count": 86,
   "metadata": {},
   "outputs": [],
   "source": [
    "from sklearn.linear_model import LogisticRegression\n",
    "mclr = LogisticRegression(solver = 'lbfgs', max_iter=10000, multi_class='multinomial')"
   ]
  },
  {
   "cell_type": "code",
   "execution_count": 87,
   "metadata": {},
   "outputs": [],
   "source": [
    "mc_model = mclr.fit(mc_train, mc_train_labels)"
   ]
  },
  {
   "cell_type": "code",
   "execution_count": 88,
   "metadata": {
    "scrolled": true
   },
   "outputs": [
    {
     "name": "stdout",
     "output_type": "stream",
     "text": [
      "0.31414868105515587\n"
     ]
    }
   ],
   "source": [
    "mc_score = mc_model.score(mc_test, mc_test_labels)\n",
    "print(mc_score)"
   ]
  },
  {
   "cell_type": "markdown",
   "metadata": {},
   "source": [
    "## DF2 Features"
   ]
  },
  {
   "cell_type": "code",
   "execution_count": 89,
   "metadata": {},
   "outputs": [],
   "source": [
    "bins = [0, 10, 20, 30, 40, 50, 60, 70, 80, 90, 101]\n",
    "names = ['[0-10)', '[10-20)', '[20-30)', '[30-40)', '[40-50)', '[50-60)', '[60-70)', '[70-80)', '[80-90)', '[90-100]']\n",
    "df2_sw['schoolwide_achc'] = pd.cut(df2_sw.schoolwide_achi, bins, labels = names, right = False)"
   ]
  },
  {
   "cell_type": "code",
   "execution_count": 90,
   "metadata": {},
   "outputs": [],
   "source": [
    "ten_class_achidf2_sw = df2_sw.values"
   ]
  },
  {
   "cell_type": "code",
   "execution_count": 91,
   "metadata": {},
   "outputs": [],
   "source": [
    "mc_features_add = ten_class_achidf2_sw[:, 0:20]\n",
    "mc_labels_add = ten_class_achidf2_sw[:, 21]"
   ]
  },
  {
   "cell_type": "code",
   "execution_count": 92,
   "metadata": {},
   "outputs": [],
   "source": [
    "mc_train_add, mc_test_add, mc_train_labels_add, mc_test_labels_add = train_test_split(mc_features_add, mc_labels_add, test_size = 0.2)"
   ]
  },
  {
   "cell_type": "code",
   "execution_count": 93,
   "metadata": {},
   "outputs": [],
   "source": [
    "mclr_add = LogisticRegression(solver = 'lbfgs', max_iter=10000, multi_class='multinomial')"
   ]
  },
  {
   "cell_type": "code",
   "execution_count": 94,
   "metadata": {},
   "outputs": [],
   "source": [
    "mc_model_add = mclr_add.fit(mc_train_add, mc_train_labels_add)"
   ]
  },
  {
   "cell_type": "code",
   "execution_count": 95,
   "metadata": {
    "scrolled": false
   },
   "outputs": [
    {
     "name": "stdout",
     "output_type": "stream",
     "text": [
      "0.19054878048780488\n"
     ]
    }
   ],
   "source": [
    "mc_score_add = mc_model_add.score(mc_test_add, mc_test_labels_add)\n",
    "print(mc_score_add)"
   ]
  },
  {
   "cell_type": "markdown",
   "metadata": {},
   "source": [
    "## Random/Majority Class"
   ]
  },
  {
   "cell_type": "code",
   "execution_count": 96,
   "metadata": {},
   "outputs": [
    {
     "name": "stdout",
     "output_type": "stream",
     "text": [
      "[[40-50), [90-100], [40-50), [90-100], [50-60), ..., [30-40), [40-50), [60-70), [50-60), [0-10)]\n",
      "Length: 656\n",
      "Categories (10, object): [[0-10) < [10-20) < [20-30) < [30-40) ... [60-70) < [70-80) < [80-90) < [90-100]]\n"
     ]
    }
   ],
   "source": [
    "random_labels = np.random.uniform(low=0, high=100, size=(len(mc_test_labels_add,)))\n",
    "bins = [0, 10, 20, 30, 40, 50, 60, 70, 80, 90, 101]\n",
    "names = ['[0-10)', '[10-20)', '[20-30)', '[30-40)', '[40-50)', '[50-60)', '[60-70)', '[70-80)', '[80-90)', '[90-100]']\n",
    "random_labels = pd.cut(random_labels, bins, labels = names, right = False)\n",
    "print(random_labels)"
   ]
  },
  {
   "cell_type": "code",
   "execution_count": 97,
   "metadata": {},
   "outputs": [
    {
     "name": "stdout",
     "output_type": "stream",
     "text": [
      "0.0975609756097561\n"
     ]
    }
   ],
   "source": [
    "from sklearn.metrics import accuracy_score\n",
    "sanity_score = accuracy_score(mc_test_labels_add, random_labels)\n",
    "print(sanity_score)"
   ]
  },
  {
   "cell_type": "code",
   "execution_count": 98,
   "metadata": {},
   "outputs": [],
   "source": [
    "ten_class_achilabels_sw = pd.DataFrame(mc_train_labels_add)"
   ]
  },
  {
   "cell_type": "code",
   "execution_count": 99,
   "metadata": {
    "scrolled": true
   },
   "outputs": [
    {
     "data": {
      "text/plain": [
       "[20-30)     500\n",
       "[30-40)     470\n",
       "[50-60)     443\n",
       "[40-50)     395\n",
       "[10-20)     359\n",
       "[60-70)     190\n",
       "[0-10)      136\n",
       "[70-80)      86\n",
       "[80-90)      34\n",
       "[90-100]      8\n",
       "Name: 0, dtype: int64"
      ]
     },
     "execution_count": 99,
     "metadata": {},
     "output_type": "execute_result"
    }
   ],
   "source": [
    "ten_class_achilabels_sw.iloc[:, 0].value_counts()"
   ]
  },
  {
   "cell_type": "code",
   "execution_count": 100,
   "metadata": {},
   "outputs": [],
   "source": [
    "common_labels = np.repeat('[20-30)', len(mc_test_labels_add))"
   ]
  },
  {
   "cell_type": "code",
   "execution_count": 101,
   "metadata": {},
   "outputs": [
    {
     "name": "stdout",
     "output_type": "stream",
     "text": [
      "0.16920731707317074\n"
     ]
    }
   ],
   "source": [
    "sanity_score2 = accuracy_score(mc_test_labels_add, common_labels)\n",
    "print(sanity_score2)"
   ]
  },
  {
   "cell_type": "markdown",
   "metadata": {},
   "source": [
    "# Four Class"
   ]
  },
  {
   "cell_type": "markdown",
   "metadata": {},
   "source": [
    "## DF1 Features"
   ]
  },
  {
   "cell_type": "code",
   "execution_count": 102,
   "metadata": {},
   "outputs": [],
   "source": [
    "bins = [0, 25, 50, 75, 101]\n",
    "names = ['[0-25)', '[25-50)', '[50-75)', '[75-100]']\n",
    "df1_sw['schoolwide_achc'] = pd.cut(df1_sw.schoolwide_achi, bins, labels = names, right = False)"
   ]
  },
  {
   "cell_type": "code",
   "execution_count": 103,
   "metadata": {},
   "outputs": [],
   "source": [
    "four_class_achidf1_sw = df1_sw.values"
   ]
  },
  {
   "cell_type": "code",
   "execution_count": 104,
   "metadata": {},
   "outputs": [],
   "source": [
    "mc_features = four_class_achidf1_sw[:, 0:10]\n",
    "mc_labels = four_class_achidf1_sw[:, 11]"
   ]
  },
  {
   "cell_type": "code",
   "execution_count": 105,
   "metadata": {},
   "outputs": [],
   "source": [
    "mc_train, mc_test, mc_train_labels, mc_test_labels = train_test_split(mc_features, mc_labels, test_size = 0.2)"
   ]
  },
  {
   "cell_type": "code",
   "execution_count": 106,
   "metadata": {},
   "outputs": [],
   "source": [
    "from sklearn.linear_model import LogisticRegression\n",
    "mclr = LogisticRegression(solver = 'lbfgs', max_iter=10000, multi_class='multinomial')"
   ]
  },
  {
   "cell_type": "code",
   "execution_count": 107,
   "metadata": {},
   "outputs": [],
   "source": [
    "mc_model = mclr.fit(mc_train, mc_train_labels)"
   ]
  },
  {
   "cell_type": "code",
   "execution_count": 108,
   "metadata": {
    "scrolled": true
   },
   "outputs": [
    {
     "name": "stdout",
     "output_type": "stream",
     "text": [
      "0.6330935251798561\n"
     ]
    }
   ],
   "source": [
    "mc_score = mc_model.score(mc_test, mc_test_labels)\n",
    "print(mc_score)"
   ]
  },
  {
   "cell_type": "markdown",
   "metadata": {},
   "source": [
    "## DF2 Features"
   ]
  },
  {
   "cell_type": "code",
   "execution_count": 109,
   "metadata": {},
   "outputs": [],
   "source": [
    "bins = [0, 25, 50, 75, 101]\n",
    "names = ['[0-25)', '[25-50)', '[50-75)', '[75-100]']\n",
    "df2_sw['schoolwide_achc'] = pd.cut(df2_sw.schoolwide_achi, bins, labels = names, right = False)"
   ]
  },
  {
   "cell_type": "code",
   "execution_count": 110,
   "metadata": {},
   "outputs": [],
   "source": [
    "four_class_achidf2_sw = df2_sw.values"
   ]
  },
  {
   "cell_type": "code",
   "execution_count": 111,
   "metadata": {},
   "outputs": [],
   "source": [
    "mc_features_add = four_class_achidf2_sw[:, 0:20]\n",
    "mc_labels_add = four_class_achidf2_sw[:, 21]"
   ]
  },
  {
   "cell_type": "code",
   "execution_count": 112,
   "metadata": {},
   "outputs": [],
   "source": [
    "mc_train_add, mc_test_add, mc_train_labels_add, mc_test_labels_add = train_test_split(mc_features_add, mc_labels_add, test_size = 0.2)"
   ]
  },
  {
   "cell_type": "code",
   "execution_count": 113,
   "metadata": {},
   "outputs": [],
   "source": [
    "mclr_add = LogisticRegression(solver = 'lbfgs', max_iter=10000, multi_class='multinomial')"
   ]
  },
  {
   "cell_type": "code",
   "execution_count": 114,
   "metadata": {},
   "outputs": [],
   "source": [
    "mc_model_add = mclr_add.fit(mc_train_add, mc_train_labels_add)"
   ]
  },
  {
   "cell_type": "code",
   "execution_count": 115,
   "metadata": {
    "scrolled": false
   },
   "outputs": [
    {
     "name": "stdout",
     "output_type": "stream",
     "text": [
      "0.42073170731707316\n"
     ]
    }
   ],
   "source": [
    "mc_score_add = mc_model_add.score(mc_test_add, mc_test_labels_add)\n",
    "print(mc_score_add)"
   ]
  },
  {
   "cell_type": "markdown",
   "metadata": {},
   "source": [
    "## Random/Majority Class"
   ]
  },
  {
   "cell_type": "code",
   "execution_count": 116,
   "metadata": {},
   "outputs": [
    {
     "name": "stdout",
     "output_type": "stream",
     "text": [
      "[[75-100], [50-75), [75-100], [75-100], [25-50), ..., [50-75), [75-100], [50-75), [25-50), [25-50)]\n",
      "Length: 656\n",
      "Categories (4, object): [[0-25) < [25-50) < [50-75) < [75-100]]\n"
     ]
    }
   ],
   "source": [
    "random_labels = np.random.uniform(low=0, high=100, size=(len(mc_test_labels_add,)))\n",
    "bins = [0, 25, 50, 75, 101]\n",
    "names = ['[0-25)', '[25-50)', '[50-75)', '[75-100]']\n",
    "random_labels = pd.cut(random_labels, bins, labels = names, right = False)\n",
    "print(random_labels)"
   ]
  },
  {
   "cell_type": "code",
   "execution_count": 117,
   "metadata": {},
   "outputs": [
    {
     "name": "stdout",
     "output_type": "stream",
     "text": [
      "0.2545731707317073\n"
     ]
    }
   ],
   "source": [
    "from sklearn.metrics import accuracy_score\n",
    "sanity_score = accuracy_score(mc_test_labels_add, random_labels)\n",
    "print(sanity_score)"
   ]
  },
  {
   "cell_type": "code",
   "execution_count": 118,
   "metadata": {},
   "outputs": [],
   "source": [
    "four_class_achilabels_sw = pd.DataFrame(mc_train_labels_add)"
   ]
  },
  {
   "cell_type": "code",
   "execution_count": 119,
   "metadata": {
    "scrolled": true
   },
   "outputs": [
    {
     "data": {
      "text/plain": [
       "[25-50)     1043\n",
       "[0-25)       816\n",
       "[50-75)      670\n",
       "[75-100]      92\n",
       "Name: 0, dtype: int64"
      ]
     },
     "execution_count": 119,
     "metadata": {},
     "output_type": "execute_result"
    }
   ],
   "source": [
    "four_class_achilabels_sw.iloc[:, 0].value_counts()"
   ]
  },
  {
   "cell_type": "code",
   "execution_count": 120,
   "metadata": {},
   "outputs": [],
   "source": [
    "common_labels = np.repeat('[25-50)', len(mc_test_labels_add))"
   ]
  },
  {
   "cell_type": "code",
   "execution_count": 121,
   "metadata": {
    "scrolled": true
   },
   "outputs": [
    {
     "name": "stdout",
     "output_type": "stream",
     "text": [
      "0.3902439024390244\n"
     ]
    }
   ],
   "source": [
    "sanity_score2 = accuracy_score(mc_test_labels_add, common_labels)\n",
    "print(sanity_score2)"
   ]
  },
  {
   "cell_type": "markdown",
   "metadata": {},
   "source": [
    "# Multi-Class Classification (grad_rate)"
   ]
  },
  {
   "cell_type": "code",
   "execution_count": 122,
   "metadata": {},
   "outputs": [
    {
     "data": {
      "text/html": [
       "<div>\n",
       "<style scoped>\n",
       "    .dataframe tbody tr th:only-of-type {\n",
       "        vertical-align: middle;\n",
       "    }\n",
       "\n",
       "    .dataframe tbody tr th {\n",
       "        vertical-align: top;\n",
       "    }\n",
       "\n",
       "    .dataframe thead th {\n",
       "        text-align: right;\n",
       "    }\n",
       "</style>\n",
       "<table border=\"1\" class=\"dataframe\">\n",
       "  <thead>\n",
       "    <tr style=\"text-align: right;\">\n",
       "      <th></th>\n",
       "      <th>school_id</th>\n",
       "      <th>grad_rate_all</th>\n",
       "      <th>grad_rate_native</th>\n",
       "      <th>grad_rate_asian</th>\n",
       "      <th>grad_rate_black</th>\n",
       "      <th>grad_rate_hispanic</th>\n",
       "      <th>grad_rate_mixed</th>\n",
       "      <th>grad_rate_linc</th>\n",
       "    </tr>\n",
       "  </thead>\n",
       "  <tbody>\n",
       "    <tr>\n",
       "      <th>0</th>\n",
       "      <td>1.000050e+10</td>\n",
       "      <td>93.0</td>\n",
       "      <td>NaN</td>\n",
       "      <td>NaN</td>\n",
       "      <td>NaN</td>\n",
       "      <td>90.0</td>\n",
       "      <td>NaN</td>\n",
       "      <td>NaN</td>\n",
       "    </tr>\n",
       "    <tr>\n",
       "      <th>1</th>\n",
       "      <td>1.000060e+10</td>\n",
       "      <td>90.0</td>\n",
       "      <td>NaN</td>\n",
       "      <td>NaN</td>\n",
       "      <td>NaN</td>\n",
       "      <td>NaN</td>\n",
       "      <td>NaN</td>\n",
       "      <td>NaN</td>\n",
       "    </tr>\n",
       "    <tr>\n",
       "      <th>2</th>\n",
       "      <td>1.000060e+10</td>\n",
       "      <td>85.0</td>\n",
       "      <td>NaN</td>\n",
       "      <td>NaN</td>\n",
       "      <td>NaN</td>\n",
       "      <td>NaN</td>\n",
       "      <td>NaN</td>\n",
       "      <td>NaN</td>\n",
       "    </tr>\n",
       "    <tr>\n",
       "      <th>3</th>\n",
       "      <td>1.000060e+10</td>\n",
       "      <td>90.0</td>\n",
       "      <td>NaN</td>\n",
       "      <td>NaN</td>\n",
       "      <td>NaN</td>\n",
       "      <td>NaN</td>\n",
       "      <td>NaN</td>\n",
       "      <td>NaN</td>\n",
       "    </tr>\n",
       "    <tr>\n",
       "      <th>4</th>\n",
       "      <td>1.000060e+10</td>\n",
       "      <td>85.0</td>\n",
       "      <td>NaN</td>\n",
       "      <td>NaN</td>\n",
       "      <td>NaN</td>\n",
       "      <td>NaN</td>\n",
       "      <td>NaN</td>\n",
       "      <td>NaN</td>\n",
       "    </tr>\n",
       "  </tbody>\n",
       "</table>\n",
       "</div>"
      ],
      "text/plain": [
       "      school_id  grad_rate_all  grad_rate_native  grad_rate_asian  \\\n",
       "0  1.000050e+10           93.0               NaN              NaN   \n",
       "1  1.000060e+10           90.0               NaN              NaN   \n",
       "2  1.000060e+10           85.0               NaN              NaN   \n",
       "3  1.000060e+10           90.0               NaN              NaN   \n",
       "4  1.000060e+10           85.0               NaN              NaN   \n",
       "\n",
       "   grad_rate_black  grad_rate_hispanic  grad_rate_mixed  grad_rate_linc  \n",
       "0              NaN                90.0              NaN             NaN  \n",
       "1              NaN                 NaN              NaN             NaN  \n",
       "2              NaN                 NaN              NaN             NaN  \n",
       "3              NaN                 NaN              NaN             NaN  \n",
       "4              NaN                 NaN              NaN             NaN  "
      ]
     },
     "execution_count": 122,
     "metadata": {},
     "output_type": "execute_result"
    }
   ],
   "source": [
    "grad.head()"
   ]
  },
  {
   "cell_type": "code",
   "execution_count": 123,
   "metadata": {},
   "outputs": [],
   "source": [
    "grad['agg_grad_rate'] = grad.iloc[:, 2:].mean(axis=1)"
   ]
  },
  {
   "cell_type": "code",
   "execution_count": 124,
   "metadata": {},
   "outputs": [],
   "source": [
    "grad = grad[['school_id', 'agg_grad_rate']]"
   ]
  },
  {
   "cell_type": "code",
   "execution_count": 125,
   "metadata": {},
   "outputs": [],
   "source": [
    "grad = grad.dropna(how='any')"
   ]
  },
  {
   "cell_type": "code",
   "execution_count": 126,
   "metadata": {
    "scrolled": false
   },
   "outputs": [
    {
     "data": {
      "text/plain": [
       "(11810, 2)"
      ]
     },
     "execution_count": 126,
     "metadata": {},
     "output_type": "execute_result"
    }
   ],
   "source": [
    "grad.shape"
   ]
  },
  {
   "cell_type": "markdown",
   "metadata": {},
   "source": [
    "# Ten Class"
   ]
  },
  {
   "cell_type": "markdown",
   "metadata": {},
   "source": [
    "## DF3 Features"
   ]
  },
  {
   "cell_type": "code",
   "execution_count": 127,
   "metadata": {},
   "outputs": [],
   "source": [
    "df3 = pd.merge(demos, grad, on='school_id', how='inner')\n",
    "df3 = df3.drop(columns=['school_name', 'state_name', 'school_id', 'district_id', 'total_race'])\n",
    "for i in range(len(df3.columns)):\n",
    "    df3.iloc[:, i] = df3.iloc[:, i].fillna(df3.iloc[:, i].median(skipna=True))"
   ]
  },
  {
   "cell_type": "code",
   "execution_count": 128,
   "metadata": {
    "scrolled": false
   },
   "outputs": [
    {
     "data": {
      "text/html": [
       "<div>\n",
       "<style scoped>\n",
       "    .dataframe tbody tr th:only-of-type {\n",
       "        vertical-align: middle;\n",
       "    }\n",
       "\n",
       "    .dataframe tbody tr th {\n",
       "        vertical-align: top;\n",
       "    }\n",
       "\n",
       "    .dataframe thead th {\n",
       "        text-align: right;\n",
       "    }\n",
       "</style>\n",
       "<table border=\"1\" class=\"dataframe\">\n",
       "  <thead>\n",
       "    <tr style=\"text-align: right;\">\n",
       "      <th></th>\n",
       "      <th>pct_native</th>\n",
       "      <th>pct_asian</th>\n",
       "      <th>pct_hispanic</th>\n",
       "      <th>pct_black</th>\n",
       "      <th>pct_white</th>\n",
       "      <th>pct_pacisl</th>\n",
       "      <th>pct_mixed</th>\n",
       "      <th>free_lunch</th>\n",
       "      <th>reduced_lunch</th>\n",
       "      <th>total</th>\n",
       "      <th>agg_grad_rate</th>\n",
       "    </tr>\n",
       "  </thead>\n",
       "  <tbody>\n",
       "    <tr>\n",
       "      <th>0</th>\n",
       "      <td>0.000000</td>\n",
       "      <td>0.072464</td>\n",
       "      <td>0.782609</td>\n",
       "      <td>0.043478</td>\n",
       "      <td>0.086957</td>\n",
       "      <td>0.000000</td>\n",
       "      <td>0.014493</td>\n",
       "      <td>0.521739</td>\n",
       "      <td>0.014493</td>\n",
       "      <td>69.0</td>\n",
       "      <td>20.000000</td>\n",
       "    </tr>\n",
       "    <tr>\n",
       "      <th>1</th>\n",
       "      <td>0.000000</td>\n",
       "      <td>0.006579</td>\n",
       "      <td>0.888158</td>\n",
       "      <td>0.032895</td>\n",
       "      <td>0.052632</td>\n",
       "      <td>0.006579</td>\n",
       "      <td>0.013158</td>\n",
       "      <td>0.776316</td>\n",
       "      <td>0.085526</td>\n",
       "      <td>152.0</td>\n",
       "      <td>72.500000</td>\n",
       "    </tr>\n",
       "    <tr>\n",
       "      <th>2</th>\n",
       "      <td>0.005691</td>\n",
       "      <td>0.053802</td>\n",
       "      <td>0.741852</td>\n",
       "      <td>0.028971</td>\n",
       "      <td>0.144853</td>\n",
       "      <td>0.005173</td>\n",
       "      <td>0.019659</td>\n",
       "      <td>0.443870</td>\n",
       "      <td>0.115882</td>\n",
       "      <td>1933.0</td>\n",
       "      <td>95.000000</td>\n",
       "    </tr>\n",
       "    <tr>\n",
       "      <th>3</th>\n",
       "      <td>0.006903</td>\n",
       "      <td>0.047455</td>\n",
       "      <td>0.885246</td>\n",
       "      <td>0.028473</td>\n",
       "      <td>0.026747</td>\n",
       "      <td>0.002783</td>\n",
       "      <td>0.005177</td>\n",
       "      <td>0.821398</td>\n",
       "      <td>0.099223</td>\n",
       "      <td>1159.0</td>\n",
       "      <td>75.000000</td>\n",
       "    </tr>\n",
       "    <tr>\n",
       "      <th>4</th>\n",
       "      <td>0.003980</td>\n",
       "      <td>0.231841</td>\n",
       "      <td>0.732338</td>\n",
       "      <td>0.012935</td>\n",
       "      <td>0.013930</td>\n",
       "      <td>0.002783</td>\n",
       "      <td>0.004975</td>\n",
       "      <td>0.817910</td>\n",
       "      <td>0.111443</td>\n",
       "      <td>1005.0</td>\n",
       "      <td>76.666667</td>\n",
       "    </tr>\n",
       "  </tbody>\n",
       "</table>\n",
       "</div>"
      ],
      "text/plain": [
       "   pct_native  pct_asian  pct_hispanic  pct_black  pct_white  pct_pacisl  \\\n",
       "0    0.000000   0.072464      0.782609   0.043478   0.086957    0.000000   \n",
       "1    0.000000   0.006579      0.888158   0.032895   0.052632    0.006579   \n",
       "2    0.005691   0.053802      0.741852   0.028971   0.144853    0.005173   \n",
       "3    0.006903   0.047455      0.885246   0.028473   0.026747    0.002783   \n",
       "4    0.003980   0.231841      0.732338   0.012935   0.013930    0.002783   \n",
       "\n",
       "   pct_mixed  free_lunch  reduced_lunch   total  agg_grad_rate  \n",
       "0   0.014493    0.521739       0.014493    69.0      20.000000  \n",
       "1   0.013158    0.776316       0.085526   152.0      72.500000  \n",
       "2   0.019659    0.443870       0.115882  1933.0      95.000000  \n",
       "3   0.005177    0.821398       0.099223  1159.0      75.000000  \n",
       "4   0.004975    0.817910       0.111443  1005.0      76.666667  "
      ]
     },
     "execution_count": 128,
     "metadata": {},
     "output_type": "execute_result"
    }
   ],
   "source": [
    "df3.head()"
   ]
  },
  {
   "cell_type": "code",
   "execution_count": 129,
   "metadata": {},
   "outputs": [
    {
     "name": "stdout",
     "output_type": "stream",
     "text": [
      "max: 98.0\n",
      "min:  2.5\n"
     ]
    }
   ],
   "source": [
    "print('max:', df3['agg_grad_rate'].max())\n",
    "print('min: ', df3['agg_grad_rate'].min())"
   ]
  },
  {
   "cell_type": "code",
   "execution_count": 130,
   "metadata": {},
   "outputs": [],
   "source": [
    "bins = [0, 10, 20, 30, 40, 50, 60, 70, 80, 90, 101]\n",
    "names = ['[0-10)', '[10-20)', '[20-30)', '[30-40)', '[40-50)', '[50-60)', '[60-70)', '[70-80)', '[80-90)', '[90-100]']\n",
    "df3['agg_grad_ratec'] = pd.cut(df3.agg_grad_rate, bins, labels = names, right = False)"
   ]
  },
  {
   "cell_type": "code",
   "execution_count": 131,
   "metadata": {},
   "outputs": [],
   "source": [
    "ten_class_graddf3 = df3.values"
   ]
  },
  {
   "cell_type": "code",
   "execution_count": 132,
   "metadata": {},
   "outputs": [],
   "source": [
    "mc_features = ten_class_graddf3[:, 0:10]\n",
    "mc_labels = ten_class_graddf3[:, 11]"
   ]
  },
  {
   "cell_type": "code",
   "execution_count": 133,
   "metadata": {},
   "outputs": [],
   "source": [
    "mc_train, mc_test, mc_train_labels, mc_test_labels = train_test_split(mc_features, mc_labels, test_size = 0.2)"
   ]
  },
  {
   "cell_type": "code",
   "execution_count": 134,
   "metadata": {},
   "outputs": [],
   "source": [
    "from sklearn.linear_model import LogisticRegression\n",
    "mclr = LogisticRegression(solver = 'lbfgs', max_iter=10000, multi_class='multinomial')"
   ]
  },
  {
   "cell_type": "code",
   "execution_count": 135,
   "metadata": {},
   "outputs": [],
   "source": [
    "mc_model = mclr.fit(mc_train, mc_train_labels)"
   ]
  },
  {
   "cell_type": "code",
   "execution_count": 136,
   "metadata": {
    "scrolled": false
   },
   "outputs": [
    {
     "name": "stdout",
     "output_type": "stream",
     "text": [
      "0.4018475750577367\n"
     ]
    }
   ],
   "source": [
    "mc_score = mc_model.score(mc_test, mc_test_labels)\n",
    "print(mc_score)"
   ]
  },
  {
   "cell_type": "markdown",
   "metadata": {},
   "source": [
    "## DF4 Features"
   ]
  },
  {
   "cell_type": "code",
   "execution_count": 137,
   "metadata": {},
   "outputs": [],
   "source": [
    "df4 = pd.merge(demos, all_achi, on='school_id', how='inner')\n",
    "df4 = pd.merge(df4, financials, on='district_id', how='inner')\n",
    "df4 = pd.merge(df4, grad, on='school_id', how='inner')\n",
    "#drop attributes used for data processing\n",
    "df4 = df4.drop(columns=['school_name', 'state_name', 'school_id', 'district_id', 'total_race'])\n",
    "#drop attributes that were pulled, but not predictive\n",
    "df4 = df4.drop(columns=['total_rev', 'total_locrev', 'pta_rev', 'prop_taxes', 'sales_taxes', 'public_utility_taxes', 'income_taxes', 'other_taxes'])\n",
    "df4.total_salaries = df4.total_salaries/df4.total\n",
    "df4.salaries_instruction = df4.salaries_instruction/df4.total\n",
    "df4.salaries_teachers = df4.salaries_teachers/df4.total\n",
    "df4 = df4.rename(columns={'total_salaries': 'total_salaries_ps', 'salaries_instruction': 'salaries_instruction_ps', 'salaries_teachers': 'salaries_teachers_ps'})\n",
    "for i in range(len(df4.columns)):\n",
    "    df4.iloc[:, i] = df4.iloc[:, i].fillna(df4.iloc[:, i].median(skipna=True))"
   ]
  },
  {
   "cell_type": "code",
   "execution_count": 138,
   "metadata": {
    "scrolled": true
   },
   "outputs": [
    {
     "data": {
      "text/html": [
       "<div>\n",
       "<style scoped>\n",
       "    .dataframe tbody tr th:only-of-type {\n",
       "        vertical-align: middle;\n",
       "    }\n",
       "\n",
       "    .dataframe tbody tr th {\n",
       "        vertical-align: top;\n",
       "    }\n",
       "\n",
       "    .dataframe thead th {\n",
       "        text-align: right;\n",
       "    }\n",
       "</style>\n",
       "<table border=\"1\" class=\"dataframe\">\n",
       "  <thead>\n",
       "    <tr style=\"text-align: right;\">\n",
       "      <th></th>\n",
       "      <th>pct_native</th>\n",
       "      <th>pct_asian</th>\n",
       "      <th>pct_hispanic</th>\n",
       "      <th>pct_black</th>\n",
       "      <th>pct_white</th>\n",
       "      <th>pct_pacisl</th>\n",
       "      <th>pct_mixed</th>\n",
       "      <th>free_lunch</th>\n",
       "      <th>reduced_lunch</th>\n",
       "      <th>total</th>\n",
       "      <th>agg_achi</th>\n",
       "      <th>total_salaries_ps</th>\n",
       "      <th>salaries_instruction_ps</th>\n",
       "      <th>salaries_teachers_ps</th>\n",
       "      <th>agg_grad_rate</th>\n",
       "    </tr>\n",
       "  </thead>\n",
       "  <tbody>\n",
       "    <tr>\n",
       "      <th>0</th>\n",
       "      <td>0.000000</td>\n",
       "      <td>0.072464</td>\n",
       "      <td>0.782609</td>\n",
       "      <td>0.043478</td>\n",
       "      <td>0.086957</td>\n",
       "      <td>0.000000</td>\n",
       "      <td>0.014493</td>\n",
       "      <td>0.521739</td>\n",
       "      <td>0.014493</td>\n",
       "      <td>69.0</td>\n",
       "      <td>35.000000</td>\n",
       "      <td>1.887739e+06</td>\n",
       "      <td>1.212304e+06</td>\n",
       "      <td>911420.289855</td>\n",
       "      <td>20.0</td>\n",
       "    </tr>\n",
       "    <tr>\n",
       "      <th>1</th>\n",
       "      <td>0.002759</td>\n",
       "      <td>0.132414</td>\n",
       "      <td>0.700000</td>\n",
       "      <td>0.097931</td>\n",
       "      <td>0.042759</td>\n",
       "      <td>0.012414</td>\n",
       "      <td>0.011724</td>\n",
       "      <td>0.642759</td>\n",
       "      <td>0.099310</td>\n",
       "      <td>1450.0</td>\n",
       "      <td>51.666667</td>\n",
       "      <td>8.983034e+04</td>\n",
       "      <td>5.768897e+04</td>\n",
       "      <td>43371.034483</td>\n",
       "      <td>90.0</td>\n",
       "    </tr>\n",
       "    <tr>\n",
       "      <th>2</th>\n",
       "      <td>0.000917</td>\n",
       "      <td>0.594495</td>\n",
       "      <td>0.241284</td>\n",
       "      <td>0.066972</td>\n",
       "      <td>0.064679</td>\n",
       "      <td>0.004587</td>\n",
       "      <td>0.027064</td>\n",
       "      <td>0.199083</td>\n",
       "      <td>0.087156</td>\n",
       "      <td>2180.0</td>\n",
       "      <td>64.833333</td>\n",
       "      <td>5.974954e+04</td>\n",
       "      <td>3.837110e+04</td>\n",
       "      <td>28847.706422</td>\n",
       "      <td>93.5</td>\n",
       "    </tr>\n",
       "    <tr>\n",
       "      <th>3</th>\n",
       "      <td>0.002972</td>\n",
       "      <td>0.282318</td>\n",
       "      <td>0.459138</td>\n",
       "      <td>0.157999</td>\n",
       "      <td>0.071322</td>\n",
       "      <td>0.009411</td>\n",
       "      <td>0.016840</td>\n",
       "      <td>0.413571</td>\n",
       "      <td>0.119861</td>\n",
       "      <td>2019.0</td>\n",
       "      <td>48.083333</td>\n",
       "      <td>6.451412e+04</td>\n",
       "      <td>4.143091e+04</td>\n",
       "      <td>31148.093115</td>\n",
       "      <td>96.0</td>\n",
       "    </tr>\n",
       "    <tr>\n",
       "      <th>4</th>\n",
       "      <td>0.012698</td>\n",
       "      <td>0.076190</td>\n",
       "      <td>0.717460</td>\n",
       "      <td>0.088889</td>\n",
       "      <td>0.088889</td>\n",
       "      <td>0.006349</td>\n",
       "      <td>0.009524</td>\n",
       "      <td>0.587302</td>\n",
       "      <td>0.053968</td>\n",
       "      <td>315.0</td>\n",
       "      <td>23.083333</td>\n",
       "      <td>4.135048e+05</td>\n",
       "      <td>2.655524e+05</td>\n",
       "      <td>199644.444444</td>\n",
       "      <td>60.0</td>\n",
       "    </tr>\n",
       "  </tbody>\n",
       "</table>\n",
       "</div>"
      ],
      "text/plain": [
       "   pct_native  pct_asian  pct_hispanic  pct_black  pct_white  pct_pacisl  \\\n",
       "0    0.000000   0.072464      0.782609   0.043478   0.086957    0.000000   \n",
       "1    0.002759   0.132414      0.700000   0.097931   0.042759    0.012414   \n",
       "2    0.000917   0.594495      0.241284   0.066972   0.064679    0.004587   \n",
       "3    0.002972   0.282318      0.459138   0.157999   0.071322    0.009411   \n",
       "4    0.012698   0.076190      0.717460   0.088889   0.088889    0.006349   \n",
       "\n",
       "   pct_mixed  free_lunch  reduced_lunch   total   agg_achi  total_salaries_ps  \\\n",
       "0   0.014493    0.521739       0.014493    69.0  35.000000       1.887739e+06   \n",
       "1   0.011724    0.642759       0.099310  1450.0  51.666667       8.983034e+04   \n",
       "2   0.027064    0.199083       0.087156  2180.0  64.833333       5.974954e+04   \n",
       "3   0.016840    0.413571       0.119861  2019.0  48.083333       6.451412e+04   \n",
       "4   0.009524    0.587302       0.053968   315.0  23.083333       4.135048e+05   \n",
       "\n",
       "   salaries_instruction_ps  salaries_teachers_ps  agg_grad_rate  \n",
       "0             1.212304e+06         911420.289855           20.0  \n",
       "1             5.768897e+04          43371.034483           90.0  \n",
       "2             3.837110e+04          28847.706422           93.5  \n",
       "3             4.143091e+04          31148.093115           96.0  \n",
       "4             2.655524e+05         199644.444444           60.0  "
      ]
     },
     "execution_count": 138,
     "metadata": {},
     "output_type": "execute_result"
    }
   ],
   "source": [
    "df4.head()"
   ]
  },
  {
   "cell_type": "code",
   "execution_count": 139,
   "metadata": {},
   "outputs": [
    {
     "name": "stdout",
     "output_type": "stream",
     "text": [
      "max: 98.0\n",
      "min:  2.5\n"
     ]
    }
   ],
   "source": [
    "print('max:', df4['agg_grad_rate'].max())\n",
    "print('min: ', df4['agg_grad_rate'].min())"
   ]
  },
  {
   "cell_type": "code",
   "execution_count": 140,
   "metadata": {},
   "outputs": [],
   "source": [
    "bins = [0, 10, 20, 30, 40, 50, 60, 70, 80, 90, 101]\n",
    "names = ['[0-10)', '[10-20)', '[20-30)', '[30-40)', '[40-50)', '[50-60)', '[60-70)', '[70-80)', '[80-90)', '[90-100]']\n",
    "df4['agg_grad_ratec'] = pd.cut(df4.agg_grad_rate, bins, labels = names, right = False)"
   ]
  },
  {
   "cell_type": "code",
   "execution_count": 141,
   "metadata": {},
   "outputs": [],
   "source": [
    "ten_class_graddf4 = df4.values"
   ]
  },
  {
   "cell_type": "code",
   "execution_count": 142,
   "metadata": {},
   "outputs": [],
   "source": [
    "mc_features_add = ten_class_graddf4[:, 0:13]\n",
    "mc_labels_add = ten_class_graddf4[:, 15]"
   ]
  },
  {
   "cell_type": "code",
   "execution_count": 143,
   "metadata": {},
   "outputs": [],
   "source": [
    "mc_train_add, mc_test_add, mc_train_labels_add, mc_test_labels_add = train_test_split(mc_features_add, mc_labels_add, test_size = 0.2)"
   ]
  },
  {
   "cell_type": "code",
   "execution_count": 144,
   "metadata": {},
   "outputs": [],
   "source": [
    "mclr_add = LogisticRegression(solver = 'lbfgs', max_iter=10000, multi_class='multinomial')"
   ]
  },
  {
   "cell_type": "code",
   "execution_count": 145,
   "metadata": {},
   "outputs": [],
   "source": [
    "mc_model_add = mclr_add.fit(mc_train_add, mc_train_labels_add)"
   ]
  },
  {
   "cell_type": "code",
   "execution_count": 146,
   "metadata": {
    "scrolled": true
   },
   "outputs": [
    {
     "name": "stdout",
     "output_type": "stream",
     "text": [
      "0.32779097387173395\n"
     ]
    }
   ],
   "source": [
    "mc_score_add = mc_model_add.score(mc_test_add, mc_test_labels_add)\n",
    "print(mc_score_add)"
   ]
  },
  {
   "cell_type": "markdown",
   "metadata": {},
   "source": [
    "## Random/Majority Class"
   ]
  },
  {
   "cell_type": "code",
   "execution_count": 147,
   "metadata": {},
   "outputs": [
    {
     "name": "stdout",
     "output_type": "stream",
     "text": [
      "[[40-50), [50-60), [50-60), [0-10), [40-50), ..., [30-40), [0-10), [70-80), [70-80), [10-20)]\n",
      "Length: 421\n",
      "Categories (10, object): [[0-10) < [10-20) < [20-30) < [30-40) ... [60-70) < [70-80) < [80-90) < [90-100]]\n"
     ]
    }
   ],
   "source": [
    "random_labels = np.random.uniform(low=0, high=100, size=(len(mc_test_labels_add,)))\n",
    "bins = [0, 10, 20, 30, 40, 50, 60, 70, 80, 90, 101]\n",
    "names = ['[0-10)', '[10-20)', '[20-30)', '[30-40)', '[40-50)', '[50-60)', '[60-70)', '[70-80)', '[80-90)', '[90-100]']\n",
    "random_labels = pd.cut(random_labels, bins, labels = names, right = False)\n",
    "print(random_labels)"
   ]
  },
  {
   "cell_type": "code",
   "execution_count": 148,
   "metadata": {},
   "outputs": [
    {
     "name": "stdout",
     "output_type": "stream",
     "text": [
      "0.1021377672209026\n"
     ]
    }
   ],
   "source": [
    "from sklearn.metrics import accuracy_score\n",
    "sanity_score = accuracy_score(mc_test_labels_add, random_labels)\n",
    "print(sanity_score)"
   ]
  },
  {
   "cell_type": "code",
   "execution_count": 149,
   "metadata": {},
   "outputs": [],
   "source": [
    "ten_class_achilabels = pd.DataFrame(mc_train_labels_add)"
   ]
  },
  {
   "cell_type": "code",
   "execution_count": 150,
   "metadata": {
    "scrolled": true
   },
   "outputs": [
    {
     "data": {
      "text/plain": [
       "[80-90)     528\n",
       "[90-100]    392\n",
       "[70-80)     227\n",
       "[60-70)     166\n",
       "[20-30)      93\n",
       "[40-50)      79\n",
       "[50-60)      77\n",
       "[30-40)      62\n",
       "[10-20)      50\n",
       "[0-10)        9\n",
       "Name: 0, dtype: int64"
      ]
     },
     "execution_count": 150,
     "metadata": {},
     "output_type": "execute_result"
    }
   ],
   "source": [
    "ten_class_achilabels.iloc[:, 0].value_counts()"
   ]
  },
  {
   "cell_type": "code",
   "execution_count": 151,
   "metadata": {},
   "outputs": [],
   "source": [
    "common_labels = np.repeat('[80-90)', len(mc_test_labels_add))"
   ]
  },
  {
   "cell_type": "code",
   "execution_count": 152,
   "metadata": {},
   "outputs": [
    {
     "name": "stdout",
     "output_type": "stream",
     "text": [
      "0.34441805225653205\n"
     ]
    }
   ],
   "source": [
    "sanity_score2 = accuracy_score(mc_test_labels_add, common_labels)\n",
    "print(sanity_score2)"
   ]
  },
  {
   "cell_type": "markdown",
   "metadata": {},
   "source": [
    "# Four Class"
   ]
  },
  {
   "cell_type": "markdown",
   "metadata": {},
   "source": [
    "## DF3 Features"
   ]
  },
  {
   "cell_type": "code",
   "execution_count": 153,
   "metadata": {},
   "outputs": [],
   "source": [
    "bins = [0, 25, 50, 75, 101]\n",
    "names = ['[0-25)', '[25-50)', '[50-75)', '[75-100]']\n",
    "df3['agg_grad_ratec'] = pd.cut(df3.agg_grad_rate, bins, labels = names, right = False)"
   ]
  },
  {
   "cell_type": "code",
   "execution_count": 154,
   "metadata": {},
   "outputs": [],
   "source": [
    "four_class_graddf3 = df3.values"
   ]
  },
  {
   "cell_type": "code",
   "execution_count": 155,
   "metadata": {},
   "outputs": [],
   "source": [
    "mc_features = four_class_graddf3[:, 0:10]\n",
    "mc_labels = four_class_graddf3[:, 11]"
   ]
  },
  {
   "cell_type": "code",
   "execution_count": 156,
   "metadata": {},
   "outputs": [],
   "source": [
    "mc_train, mc_test, mc_train_labels, mc_test_labels = train_test_split(mc_features, mc_labels, test_size = 0.2)"
   ]
  },
  {
   "cell_type": "code",
   "execution_count": 157,
   "metadata": {},
   "outputs": [],
   "source": [
    "from sklearn.linear_model import LogisticRegression\n",
    "mclr = LogisticRegression(solver = 'lbfgs', max_iter=10000, multi_class='multinomial')"
   ]
  },
  {
   "cell_type": "code",
   "execution_count": 158,
   "metadata": {},
   "outputs": [],
   "source": [
    "mc_model = mclr.fit(mc_train, mc_train_labels)"
   ]
  },
  {
   "cell_type": "code",
   "execution_count": 159,
   "metadata": {
    "scrolled": false
   },
   "outputs": [
    {
     "name": "stdout",
     "output_type": "stream",
     "text": [
      "0.6951501154734411\n"
     ]
    }
   ],
   "source": [
    "mc_score = mc_model.score(mc_test, mc_test_labels)\n",
    "print(mc_score)"
   ]
  },
  {
   "cell_type": "markdown",
   "metadata": {},
   "source": [
    "## DF4 Features"
   ]
  },
  {
   "cell_type": "code",
   "execution_count": 160,
   "metadata": {},
   "outputs": [],
   "source": [
    "bins = [0, 25, 50, 75, 101]\n",
    "names = ['[0-25)', '[25-50)', '[50-75)', '[75-100]']\n",
    "df4['agg_grad_ratec'] = pd.cut(df4.agg_grad_rate, bins, labels = names, right = False)"
   ]
  },
  {
   "cell_type": "code",
   "execution_count": 161,
   "metadata": {},
   "outputs": [],
   "source": [
    "four_class_graddf4 = df4.values"
   ]
  },
  {
   "cell_type": "code",
   "execution_count": 162,
   "metadata": {},
   "outputs": [],
   "source": [
    "mc_features_add = four_class_graddf4[:, 0:13]\n",
    "mc_labels_add = four_class_graddf4[:, 15]"
   ]
  },
  {
   "cell_type": "code",
   "execution_count": 163,
   "metadata": {},
   "outputs": [],
   "source": [
    "mc_train_add, mc_test_add, mc_train_labels_add, mc_test_labels_add = train_test_split(mc_features_add, mc_labels_add, test_size = 0.2)"
   ]
  },
  {
   "cell_type": "code",
   "execution_count": 164,
   "metadata": {},
   "outputs": [],
   "source": [
    "mclr_add = LogisticRegression(solver = 'lbfgs', max_iter=10000, multi_class='multinomial')"
   ]
  },
  {
   "cell_type": "code",
   "execution_count": 165,
   "metadata": {},
   "outputs": [],
   "source": [
    "mc_model_add = mclr_add.fit(mc_train_add, mc_train_labels_add)"
   ]
  },
  {
   "cell_type": "code",
   "execution_count": 166,
   "metadata": {
    "scrolled": true
   },
   "outputs": [
    {
     "name": "stdout",
     "output_type": "stream",
     "text": [
      "0.6175771971496437\n"
     ]
    }
   ],
   "source": [
    "mc_score_add = mc_model_add.score(mc_test_add, mc_test_labels_add)\n",
    "print(mc_score_add)"
   ]
  },
  {
   "cell_type": "markdown",
   "metadata": {},
   "source": [
    "## Random/Majority Class"
   ]
  },
  {
   "cell_type": "code",
   "execution_count": 167,
   "metadata": {},
   "outputs": [
    {
     "name": "stdout",
     "output_type": "stream",
     "text": [
      "[[50-75), [50-75), [0-25), [75-100], [0-25), ..., [75-100], [25-50), [75-100], [25-50), [50-75)]\n",
      "Length: 421\n",
      "Categories (4, object): [[0-25) < [25-50) < [50-75) < [75-100]]\n"
     ]
    }
   ],
   "source": [
    "random_labels = np.random.uniform(low=0, high=100, size=(len(mc_test_labels_add,)))\n",
    "bins = [0, 25, 50, 75, 101]\n",
    "names = ['[0-25)', '[25-50)', '[50-75)', '[75-100]']\n",
    "random_labels = pd.cut(random_labels, bins, labels = names, right = False)\n",
    "print(random_labels)"
   ]
  },
  {
   "cell_type": "code",
   "execution_count": 168,
   "metadata": {},
   "outputs": [
    {
     "name": "stdout",
     "output_type": "stream",
     "text": [
      "0.25653206650831356\n"
     ]
    }
   ],
   "source": [
    "from sklearn.metrics import accuracy_score\n",
    "sanity_score = accuracy_score(mc_test_labels_add, random_labels)\n",
    "print(sanity_score)"
   ]
  },
  {
   "cell_type": "code",
   "execution_count": 169,
   "metadata": {},
   "outputs": [],
   "source": [
    "four_class_achilabels = pd.DataFrame(mc_train_labels_add)"
   ]
  },
  {
   "cell_type": "code",
   "execution_count": 170,
   "metadata": {
    "scrolled": true
   },
   "outputs": [
    {
     "data": {
      "text/plain": [
       "[75-100]    1063\n",
       "[50-75)      332\n",
       "[25-50)      165\n",
       "[0-25)       123\n",
       "Name: 0, dtype: int64"
      ]
     },
     "execution_count": 170,
     "metadata": {},
     "output_type": "execute_result"
    }
   ],
   "source": [
    "four_class_achilabels.iloc[:, 0].value_counts()"
   ]
  },
  {
   "cell_type": "code",
   "execution_count": 171,
   "metadata": {},
   "outputs": [],
   "source": [
    "common_labels = np.repeat('[75-100]', len(mc_test_labels_add))"
   ]
  },
  {
   "cell_type": "code",
   "execution_count": 172,
   "metadata": {},
   "outputs": [
    {
     "name": "stdout",
     "output_type": "stream",
     "text": [
      "0.5961995249406176\n"
     ]
    }
   ],
   "source": [
    "sanity_score2 = accuracy_score(mc_test_labels_add, common_labels)\n",
    "print(sanity_score2)"
   ]
  }
 ],
 "metadata": {
  "kernelspec": {
   "display_name": "Python 3",
   "language": "python",
   "name": "python3"
  },
  "language_info": {
   "codemirror_mode": {
    "name": "ipython",
    "version": 3
   },
   "file_extension": ".py",
   "mimetype": "text/x-python",
   "name": "python",
   "nbconvert_exporter": "python",
   "pygments_lexer": "ipython3",
   "version": "3.7.1"
  }
 },
 "nbformat": 4,
 "nbformat_minor": 2
}
